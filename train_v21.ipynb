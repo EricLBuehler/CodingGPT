{
 "cells": [
  {
   "cell_type": "code",
   "execution_count": 1,
   "metadata": {
    "id": "BHZnXywjxGeq"
   },
   "outputs": [],
   "source": [
    "#https://pytorch.org/tutorials/beginner/transformer_tutorial.html"
   ]
  },
  {
   "cell_type": "code",
   "execution_count": 2,
   "metadata": {
    "id": "kY_j8RUDP5y4"
   },
   "outputs": [],
   "source": [
    "from torch import nn, Tensor\n",
    "import torch.nn.functional as F\n",
    "import torch\n",
    "import math\n",
    "from torch.autograd.variable import Variable\n",
    "import typing\n",
    "import random\n",
    "from tqdm.notebook import tqdm\n",
    "import matplotlib.pyplot as plt\n",
    "import IPython\n",
    "import numpy as np"
   ]
  },
  {
   "cell_type": "code",
   "execution_count": 3,
   "metadata": {
    "id": "y4lRdOSZNpe2"
   },
   "outputs": [],
   "source": [
    "%matplotlib inline"
   ]
  },
  {
   "cell_type": "code",
   "execution_count": 4,
   "metadata": {
    "colab": {
     "base_uri": "https://localhost:8080/"
    },
    "id": "ph2WO5JpKukk",
    "outputId": "ab00d895-307a-4ade-e705-1c6dd8ae6926"
   },
   "outputs": [],
   "source": [
    "import os\n",
    "\n",
    "modelname=\"5_20_23_m1\"\n",
    "\n",
    "prefix_models=\"models/\"+modelname+\"/\"\n",
    "\n",
    "if not os.path.exists(prefix_models):\n",
    "    os.makedirs(prefix_models)"
   ]
  },
  {
   "cell_type": "code",
   "execution_count": 5,
   "metadata": {
    "id": "Oe3wtt5oADl6"
   },
   "outputs": [],
   "source": [
    "device = torch.device('cuda' if torch.cuda.is_available() else 'cpu')"
   ]
  },
  {
   "cell_type": "code",
   "execution_count": 6,
   "metadata": {
    "id": "xGOoJdNdRSaO"
   },
   "outputs": [],
   "source": [
    "class PositionalEncoding(nn.Module):\n",
    "    def __init__(self, d_model: int, dropout: float = 0.1, max_len: int = 5000):\n",
    "        super().__init__()\n",
    "        self.dropout = nn.Dropout(p=dropout)\n",
    "\n",
    "        position = torch.arange(max_len).unsqueeze(1)\n",
    "        div_term = torch.exp(torch.arange(0, d_model, 2) * (-math.log(10000.0) / d_model))\n",
    "        pe = torch.zeros(max_len, 1, d_model)\n",
    "        pe[:, 0, 0::2] = torch.sin(position * div_term)\n",
    "        pe[:, 0, 1::2] = torch.cos(position * div_term)\n",
    "        self.register_buffer('pe', pe)\n",
    "\n",
    "    def forward(self, x: Tensor) -> Tensor:\n",
    "        \"\"\"\n",
    "        Arguments:\n",
    "            x: Tensor, shape ``[seq_len, batch_size, embedding_dim]``\n",
    "        \"\"\"\n",
    "        #mine is [batch, seq, embed]\n",
    "        x = x.permute((1,0,2))\n",
    "        x = x + self.pe[:x.size(0)]\n",
    "        dropout = self.dropout(x)\n",
    "        return dropout.permute((1,0,2))"
   ]
  },
  {
   "cell_type": "code",
   "execution_count": 7,
   "metadata": {
    "id": "XakHZ4HfFdYM"
   },
   "outputs": [],
   "source": [
    "class ScaledDotProductAttention(nn.Module):\n",
    "    def forward(self, query, key, value, mask = None):\n",
    "        key_tp = key.transpose(-2, -1)\n",
    "\n",
    "        scores = query.matmul(key_tp) / math.sqrt(query.size()[-1])\n",
    "\n",
    "        if mask is not None:\n",
    "            scores = scores.masked_fill(mask == 0, float(\"-inf\"))\n",
    "            \n",
    "        attention = F.softmax(scores, dim = -1)\n",
    "\n",
    "        return attention.matmul(value)"
   ]
  },
  {
   "cell_type": "code",
   "execution_count": 8,
   "metadata": {
    "id": "G-sb6gd7L5bR"
   },
   "outputs": [],
   "source": [
    "class MultiHeadAttention(nn.Module):\n",
    "    def __init__(self,\n",
    "                 in_features,\n",
    "                 head_num,\n",
    "                 bias=True,\n",
    "                 activation=F.relu):\n",
    "        super(MultiHeadAttention, self).__init__()\n",
    "        if in_features % head_num != 0:\n",
    "            raise ValueError('`in_features`({}) should be divisible by \\\n",
    "                `head_num`({})'.format(in_features, head_num))\n",
    "        self.in_features = in_features\n",
    "        self.head_num = head_num\n",
    "        self.activation = activation\n",
    "        self.bias = bias\n",
    "        self.linear_q = nn.Linear(in_features, in_features, bias)\n",
    "        self.linear_k = nn.Linear(in_features, in_features, bias)\n",
    "        self.linear_v = nn.Linear(in_features, in_features, bias)\n",
    "        self.linear_o = nn.Linear(in_features, in_features, bias)\n",
    "\n",
    "    def forward(self, q, k, v, mask=None):\n",
    "        q, k, v = self.linear_q(q), self.linear_k(k), self.linear_v(v)\n",
    "        if self.activation is not None:\n",
    "            q = self.activation(q)\n",
    "            k = self.activation(k)\n",
    "            v = self.activation(v)\n",
    "\n",
    "        q = self._reshape_to_batches(q)\n",
    "        k = self._reshape_to_batches(k)\n",
    "        v = self._reshape_to_batches(v)\n",
    "        \n",
    "        if mask is not None:\n",
    "            mask = mask.repeat(self.head_num, 1, 1)   \n",
    "        \n",
    "        y = ScaledDotProductAttention()(q, k, v, mask)        \n",
    "        \n",
    "        y = self._reshape_from_batches(y)      \n",
    "\n",
    "        y = self.linear_o(y)\n",
    "        if self.activation is not None:\n",
    "            y = self.activation(y)\n",
    "        return y\n",
    "\n",
    "    @staticmethod\n",
    "    def gen_causal_mask(x):\n",
    "        batch_size, seq_len, _ = x.size()\n",
    "        return torch.tril(torch.ones(seq_len, seq_len)).view(1, seq_len, seq_len).repeat(batch_size, 1, 1)\n",
    "\n",
    "    def _reshape_to_batches(self, x):\n",
    "        batch_size, seq_len, in_feature = x.size()\n",
    "        sub_dim = in_feature // self.head_num\n",
    "        return x.reshape(batch_size, seq_len, self.head_num, sub_dim)\\\n",
    "                .permute(0, 2, 1, 3)\\\n",
    "                .reshape(batch_size * self.head_num, seq_len, sub_dim)\n",
    "\n",
    "    def _reshape_from_batches(self, x):\n",
    "        batch_size, seq_len, in_feature = x.size()\n",
    "        batch_size //= self.head_num\n",
    "        out_dim = in_feature * self.head_num\n",
    "        return x.reshape(batch_size, self.head_num, seq_len, in_feature)\\\n",
    "                .permute(0, 2, 1, 3)\\\n",
    "                .reshape(batch_size, seq_len, out_dim)"
   ]
  },
  {
   "cell_type": "code",
   "execution_count": 9,
   "metadata": {
    "id": "NDpTASiaTxTX"
   },
   "outputs": [],
   "source": [
    "class Transformer(nn.Module):\n",
    "    def __init__(self, \n",
    "                 d_model: int,\n",
    "                 n_self_heads: int,\n",
    "                 n_features: int,\n",
    "                 n_layers: int,\n",
    "                 ff_scalar: int = 2):\n",
    "        super().__init__()\n",
    "\n",
    "        #Embedding layer\n",
    "        self.embedding = nn.Embedding(n_features, d_model)\n",
    "        #Positional encoding\n",
    "        self.pos_encode = PositionalEncoding(d_model)\n",
    "\n",
    "        self.decoder_layers = []\n",
    "        \n",
    "        bottleneck_size = d_model\n",
    "        ff_size = ff_scalar*bottleneck_size\n",
    "\n",
    "        for _ in range(n_layers):\n",
    "            layer = []\n",
    "            #Add multihead, which will be cross or self attention\n",
    "            layer.append(MultiHeadAttention(d_model, n_self_heads)) #self attention first, masked\n",
    "            #Now add layer norm\n",
    "            layer.append(nn.LayerNorm(d_model))\n",
    "            #Add bottleneck layer\n",
    "            layer.append(nn.Linear(d_model, ff_size))\n",
    "            #Now add bottleneck layer norm\n",
    "            layer.append(nn.LayerNorm(ff_size))\n",
    "            #Add feed forward\n",
    "            layer.append(nn.Linear(ff_size, d_model))\n",
    "            #Now add layer norm\n",
    "            layer.append(nn.LayerNorm(d_model))\n",
    "            \n",
    "            self.decoder_layers.append(nn.ModuleList(layer))\n",
    "        self.decoder_layers=nn.ModuleList(self.decoder_layers)\n",
    "\n",
    "        self.to_out = nn.Linear(d_model, n_features)\n",
    "        \n",
    "        \n",
    "    def forward(self, x: torch.Tensor, calculate_loss: bool = False):\n",
    "        \"\"\"\n",
    "        Expect tensor of [batch_size, n_features]\n",
    "        \"\"\"\n",
    "        if calculate_loss:\n",
    "            #If give model that accepts ?x?x4 abcd, expect bcd0\n",
    "            \n",
    "            target_logits=torch.cat([x[:,1:], torch.zeros((x.shape[0],1)).to(device)], dim=-1) ## if x is abcd, then target_logits is bcd0\n",
    "\n",
    "        x=x.long().to(device)\n",
    "        embed = self.embedding(x)\n",
    "        pos_encode = self.pos_encode(embed)\n",
    "\n",
    "        res = embed+pos_encode\n",
    "        \n",
    "        for decoder_layer in self.decoder_layers:\n",
    "            d_self_attention = decoder_layer[0]\n",
    "            d_layer_norm_1 = decoder_layer[1]\n",
    "            d_bottleneck = decoder_layer[2]\n",
    "            d_layer_norm_2 = decoder_layer[3]\n",
    "            d_ff = decoder_layer[4]\n",
    "            d_layer_norm_3 = decoder_layer[5]\n",
    "            \n",
    "            ## Run the decoder\n",
    "            #do masked self attention\n",
    "            mask = MultiHeadAttention.gen_causal_mask(res).to(device)\n",
    "            res = res + d_self_attention(res,res,res, mask = mask)\n",
    "            self_res = res\n",
    "            #layer norm\n",
    "            res = d_layer_norm_1(res)\n",
    "            \n",
    "            #do bottleneck\n",
    "            res = d_bottleneck(res)\n",
    "            #layer norm\n",
    "            res = d_layer_norm_2(res)\n",
    "\n",
    "            #do ff\n",
    "            res = self_res + d_ff(res)\n",
    "            #layer norm\n",
    "            res = d_layer_norm_3(res)\n",
    "\n",
    "        out = self.to_out(res)\n",
    "        if calculate_loss:\n",
    "            loss = nn.functional.cross_entropy(out.permute(0, 2, 1), target_logits.long())\n",
    "            return out,loss\n",
    "        return out"
   ]
  },
  {
   "cell_type": "code",
   "execution_count": 10,
   "metadata": {
    "id": "HqGGEpvCLbP8"
   },
   "outputs": [],
   "source": [
    "class Tokenizer:\n",
    "    def __init__(self, n_pad: int, device: torch.device, pad_byte: int = 0, split: str = \"\\n\"):\n",
    "        self.n_pad = n_pad\n",
    "        self.device = device\n",
    "        self.pad_byte = pad_byte\n",
    "        self.split = split\n",
    "\n",
    "    def tokenize_str(self, sentence: str, encoding = \"utf8\") -> torch.Tensor:\n",
    "        base = [int(i) for i in bytes(sentence, encoding)]\n",
    "        if len(base) < self.n_pad:\n",
    "            base.extend([self.pad_byte] * (self.n_pad - len(base)))\n",
    "        assert len(base) == self.n_pad, f\"n_pad is too small, use {len(base)} or greater.\"\n",
    "        tensor = torch.Tensor(base)\n",
    "        return tensor.to(self.device)\n",
    "\n",
    "    def texts_to_sequences(self, texts: typing.List[str], encoding = \"utf8\") -> torch.Tensor:\n",
    "        # tokenize the input text\n",
    "        sentences = []\n",
    "        for sentence in texts:\n",
    "            sentences.append(self.tokenize_str(sentence).unsqueeze(0))\n",
    "\n",
    "        return torch.cat(sentences, dim = 0).to(self.device)\n",
    "    \n",
    "    @staticmethod\n",
    "    def prepare_texts(document: str) -> typing.List[str]:\n",
    "        return filter(lambda x: len(x)!=0, document.split(self.split))\n",
    "    \n",
    "    def sequences_to_texts(self, texts: torch.Tensor, encoding = \"utf8\") -> typing.List[str]:\n",
    "        out = []\n",
    "        for seq in texts:\n",
    "            chars = []\n",
    "            i=0\n",
    "            while i<len(seq) and seq[i] != 0:\n",
    "                chars.append(int(seq[i]))\n",
    "                i+=1\n",
    "            out.append(bytes(chars).decode(encoding, \"replace\"))\n",
    "        return out"
   ]
  },
  {
   "cell_type": "code",
   "execution_count": 11,
   "metadata": {
    "id": "pB-Xcf4TkKNQ"
   },
   "outputs": [],
   "source": [
    "def generate(seed: str, cutoff: int = 1024) -> str:\n",
    "    output = torch.tensor([list(bytes(seed,\"utf8\"))]).to(device)\n",
    "    \n",
    "    res=output\n",
    "    last = -1\n",
    "    i=0\n",
    "    while last != 0 and i<cutoff:\n",
    "        res = model(output)\n",
    "        argmax=res.argmax(-1)\n",
    "        \n",
    "        out = list(output[0])\n",
    "        out.append(list(argmax.to(device)[0])[-1])\n",
    "        last = list(argmax.to(device)[0])[-1]\n",
    "        output = torch.tensor([out])\n",
    "        i+=1\n",
    "    \n",
    "    if last == 0:\n",
    "        return convert_to_str(output)\n",
    "    return convert_to_str(output)+\"<CUTOFF>\""
   ]
  },
  {
   "cell_type": "code",
   "execution_count": 12,
   "metadata": {
    "id": "R81mAag8mHEG"
   },
   "outputs": [],
   "source": [
    "class TextDataset(torch.utils.data.Dataset):\n",
    "    def __init__(self, data: typing.List[str], n_pad):\n",
    "        self.raw_data = data\n",
    "        self.tokenizer = Tokenizer(n_pad, device, split = \"\\0\")\n",
    "        \n",
    "    def __len__(self):\n",
    "        return len(self.raw_data)\n",
    "\n",
    "    def __getitem__(self,index):\n",
    "        return self.tokenizer.tokenize_str(self.raw_data[index])"
   ]
  },
  {
   "cell_type": "code",
   "execution_count": 13,
   "metadata": {
    "id": "xQidsLjVaFUi"
   },
   "outputs": [],
   "source": [
    "def convert_to_str(x: torch.Tensor) -> str:\n",
    "    #Expects [1, 256] tensor\n",
    "    bts = []\n",
    "    i=0\n",
    "    while len(bts)<x.shape[1] and x[0][i] != 0:\n",
    "        bts.append(int(x[0][i]))\n",
    "        i+=1\n",
    "    return bytes(bts).decode(\"utf8\",\"replace\")"
   ]
  },
  {
   "cell_type": "code",
   "execution_count": 14,
   "metadata": {},
   "outputs": [],
   "source": [
    "class WarmupScheduler:\n",
    "    def __init__(self, duration, start_factor):\n",
    "        self.duration = duration\n",
    "        self.start_factor = start_factor\n",
    "        self.factors = np.linspace(0, 1 - self.start_factor, duration)\n",
    "        self.step = 0\n",
    "\n",
    "    def get_lr_factor(self):\n",
    "        if self.step >= self.duration:\n",
    "            return 1\n",
    "        res = self.factors[self.step] + self.start_factor\n",
    "        self.step += 1\n",
    "        return res"
   ]
  },
  {
   "cell_type": "code",
   "execution_count": 15,
   "metadata": {
    "id": "97rbDfS4gO8C"
   },
   "outputs": [
    {
     "name": "stdout",
     "output_type": "stream",
     "text": [
      "Head size: 12\n"
     ]
    }
   ],
   "source": [
    "n_features = 256 # No. of tokens\n",
    "n_pad = 512 # Max line length\n",
    "embedding_dim = 768\n",
    "batch_size = 32\n",
    "head_factor = 64\n",
    "assert embedding_dim%head_factor == 0\n",
    "head_size = embedding_dim//head_factor\n",
    "print(f\"Head size: {head_size}\")\n",
    "n_layers = 12\n",
    "BATCH_STEP_SIZE = 8\n",
    "CLIP = 0.5"
   ]
  },
  {
   "cell_type": "code",
   "execution_count": 16,
   "metadata": {
    "colab": {
     "base_uri": "https://localhost:8080/"
    },
    "id": "IvvenMeUKfaj",
    "outputId": "fb38b6f5-0eaf-4d89-83ad-bee41604b8ef"
   },
   "outputs": [
    {
     "name": "stdout",
     "output_type": "stream",
     "text": [
      "51454\n"
     ]
    }
   ],
   "source": [
    "path_to_data = \"data/reddit_scrape_v4.txt\"\n",
    "data_raw = open(path_to_data, encoding=\"utf-8\").read()\n",
    "\n",
    "data_split = list(filter(lambda x: x!=\"\", data_raw.split(\"\\0\")))\n",
    "random.shuffle(data_split)\n",
    "\n",
    "train_data = data_split[100:]\n",
    "print(len(train_data))\n",
    "val_data = data_split[:100]\n",
    "\n",
    "train_dataloader = TextDataset(train_data, n_pad)\n",
    "test_dataloader = TextDataset(train_data, n_pad)\n",
    "\n",
    "dataloader = torch.utils.data.DataLoader(train_dataloader, batch_size=batch_size)\n",
    "testloader = torch.utils.data.DataLoader(test_dataloader , batch_size=1)\n",
    "testloader_iter = iter(testloader)"
   ]
  },
  {
   "cell_type": "code",
   "execution_count": 17,
   "metadata": {
    "id": "GvibftHanb0A"
   },
   "outputs": [],
   "source": [
    "model = Transformer(d_model = embedding_dim, n_self_heads = head_size, n_features = n_features, n_layers = n_layers)\n",
    "model=model.to(device)"
   ]
  },
  {
   "cell_type": "code",
   "execution_count": 18,
   "metadata": {},
   "outputs": [
    {
     "name": "stdout",
     "output_type": "stream",
     "text": [
      "57,154,816 trainable params\n"
     ]
    }
   ],
   "source": [
    "def count_parameters(model):\n",
    "    return sum(p.numel() for p in model.parameters() if p.requires_grad)\n",
    "\n",
    "print(f\"{count_parameters(model):,}\", \"trainable params\")"
   ]
  },
  {
   "cell_type": "code",
   "execution_count": 19,
   "metadata": {
    "colab": {
     "base_uri": "https://localhost:8080/"
    },
    "id": "PXqmUSK0M3hD",
    "outputId": "69ad8160-d138-4e98-99b6-bd8cb83753c1"
   },
   "outputs": [
    {
     "name": "stdout",
     "output_type": "stream",
     "text": [
      "torch.Size([1, 512])\n",
      "torch.Size([1, 512, 256])\n"
     ]
    }
   ],
   "source": [
    "input=next(testloader_iter)\n",
    "input=input.to(device)\n",
    "print(input.shape)\n",
    "res = model(input)\n",
    "print(res.shape)"
   ]
  },
  {
   "cell_type": "code",
   "execution_count": 20,
   "metadata": {
    "id": "tZji9Va7-unn"
   },
   "outputs": [],
   "source": [
    "lr = 4e-4\n",
    "optimizer = torch.optim.Adam(model.parameters(), lr=lr)\n",
    "scheduler = torch.optim.lr_scheduler.StepLR(optimizer, step_size=5, gamma=0.9)\n",
    "warmup_sched = WarmupScheduler(10000, 0.01)"
   ]
  },
  {
   "cell_type": "code",
   "execution_count": 21,
   "metadata": {
    "id": "hUN0DJQo-vmf"
   },
   "outputs": [],
   "source": [
    "n_epochs = 40"
   ]
  },
  {
   "cell_type": "code",
   "execution_count": 22,
   "metadata": {
    "colab": {
     "base_uri": "https://localhost:8080/"
    },
    "id": "GczR7J4u6L5Q",
    "outputId": "15259e58-4468-44ff-dcf3-6c8dfb86d6bc"
   },
   "outputs": [
    {
     "name": "stdout",
     "output_type": "stream",
     "text": [
      "Sat May 20 09:31:52 2023       \n",
      "+-----------------------------------------------------------------------------+\n",
      "| NVIDIA-SMI 525.85.12    Driver Version: 525.85.12    CUDA Version: 12.0     |\n",
      "|-------------------------------+----------------------+----------------------+\n",
      "| GPU  Name        Persistence-M| Bus-Id        Disp.A | Volatile Uncorr. ECC |\n",
      "| Fan  Temp  Perf  Pwr:Usage/Cap|         Memory-Usage | GPU-Util  Compute M. |\n",
      "|                               |                      |               MIG M. |\n",
      "|===============================+======================+======================|\n",
      "|   0  NVIDIA A10          On   | 00000000:06:00.0 Off |                    0 |\n",
      "|  0%   66C    P0    78W / 150W |   1708MiB / 23028MiB |      8%      Default |\n",
      "|                               |                      |                  N/A |\n",
      "+-------------------------------+----------------------+----------------------+\n",
      "                                                                               \n",
      "+-----------------------------------------------------------------------------+\n",
      "| Processes:                                                                  |\n",
      "|  GPU   GI   CI        PID   Type   Process name                  GPU Memory |\n",
      "|        ID   ID                                                   Usage      |\n",
      "|=============================================================================|\n",
      "|    0   N/A  N/A      2755      C   /usr/bin/python3                 1706MiB |\n",
      "+-----------------------------------------------------------------------------+\n"
     ]
    }
   ],
   "source": [
    "!nvidia-smi"
   ]
  },
  {
   "cell_type": "code",
   "execution_count": 23,
   "metadata": {},
   "outputs": [
    {
     "name": "stdout",
     "output_type": "stream",
     "text": [
      "cuda\n"
     ]
    }
   ],
   "source": [
    "print(device)"
   ]
  },
  {
   "cell_type": "code",
   "execution_count": 24,
   "metadata": {
    "id": "yYr65bmbITE1"
   },
   "outputs": [],
   "source": [
    "prompts = [\n",
    "    \"Why does Earth orbit the Sun? I think it has to to with gravity, but I am not sure.\",\n",
    "    \"Hello world, \",\n",
    "    \"How to use ChatGPT? How should I use ChatGPT?\",\n",
    "    \"My code does not work. What should I do? I have been working on my code, and it does not work.\",\n",
    "    \"Why is this code not working: `1+\\\"A\\\"`? Can you help?\",\n",
    "    \"Why is Java better than Python?\",\n",
    "    \"Why is Python better than Java?\",\n",
    "    \"What is the purpose of the main() function in C? I know that it is where the code starts executing, but I am not 100%. Can you help?\",\n",
    "    \"What is coding?\",\n",
    "]"
   ]
  },
  {
   "cell_type": "code",
   "execution_count": null,
   "metadata": {
    "id": "o85FrKyF-wg-",
    "tags": []
   },
   "outputs": [
    {
     "name": "stdout",
     "output_type": "stream",
     "text": [
      "Epoch 1\n"
     ]
    },
    {
     "data": {
      "application/vnd.jupyter.widget-view+json": {
       "model_id": "6d3eeb69373c4630846e8b2cf16068d1",
       "version_major": 2,
       "version_minor": 0
      },
      "text/plain": [
       "  0%|          | 0/1608 [00:00<?, ?it/s]"
      ]
     },
     "metadata": {},
     "output_type": "display_data"
    },
    {
     "name": "stdout",
     "output_type": "stream",
     "text": [
      "=========================== BATCH 750 ===========================\n",
      "Prompt 0: Why does Earth orbit the Sun? I think it has to to with gravity, but I am not sure.\n",
      "Model output (raw): Why does Earth orbit the Sun? I think it has to to with gravity, but I am not sure. the an an ang an t t t t t t t t t t an the t t t t t an an t t an the t an an t t an t the at t t an an t at at t the t t the an t t t t an t t at t t an t t t an t at t an t at at t t t t t the t the an t t an t an t t t t t t t t an at the t t at t t an an t t t t t t an at an t t the t t an an t an an the t an an t t t an an an an an the t an t an an the the athe an at an the at athe an an t t the an an an an the t an an t t t t the an an t an t t t the t an an an an an an an an an an an an t the the t an an an an an an an an an an the the the an ang ang an an an ang ang the an an an an the an the an t an an t an an an the t athe an an an the an an t and t athe t athe an an an an an an an at the ang an t an ang an an an an the an the an an at the an an an an t t t the the the the ang t the the the the the the the t t the t t t the the the the t the at t an an an an the an t the the the an the an the the ang an the t the athe t the the the the the t the t the t the t t t the t the the the the the the the <CUTOFF>\n",
      "\n",
      "Prompt 1: Hello world, \n",
      "Model output (raw): Hello world, t t t an an an an t an an t an an t an an an t at an t an t t an an at an an an t an at t t t t t an t t at an t t at an an t an an t t an an an an an an t t t an at at an an t at an at an t t t an an an t t t an an at t t an at at t at an t t an t at t t an t t t an t the at t t t a t an an an t t t t an an an t t t t an t at an t t an an an an an t t t t an t an an t an an t t at an an t t an an an t t an an an t an t athe at at at t an at an t t an an an the the t t an t an an an ang t an an an an an the an an an and t an the an an an an an are an an an t an t t t the an t an t an an an an an an an an ang an the an an an ange an ang the an ang t an an an an an an an the an t an an an an an athe an the an an an the an athe t t the t an t at an an an an an an an t athe an an an an an an an an the the the t an an an t t an the an an the an the the the ang athe the the the t the the t the the t t t an the an t t t t the t t an an an t t an t an an the the an the an an an athe the an an the the the the the the <CUTOFF>\n",
      "\n",
      "Prompt 2: How to use ChatGPT? How should I use ChatGPT?\n",
      "Model output (raw): How to use ChatGPT? How should I use ChatGPT?\n",
      "\n",
      "\n",
      "\n",
      "\n",
      "\n",
      "\n",
      "\n",
      "\n",
      "\n",
      "\n",
      "\n",
      "\n",
      "\n",
      "\n",
      "\n",
      "\n",
      "\n",
      "\n",
      "\n",
      "\n",
      "I t the t t an t the an an an t the t t t t t t t an an t the t an t an an t t an t an an an an t t an t the t at t athe an the an t an t t t the an t an an an t t t t t an an at t t an t t t t at t t t t t t t an an an at t t t an at t t t t t t the t an t an t t t t an an an t an t t an an an an at an an t an an an t t an t t t an t at t an t t t t t t t t an an an t an an at at t an an an at t an the the an an the an an an an an an an an an an an an an an an t an t t the an an an an an an an t an t t an an an t t are an an an an an an at an an an athe an an an an an an ang ang an ang ang the an an an an an an the an an an an t an an an an the the the the an the the an the t t the t t t an at at an an ang at an an an an athe an an an an an an the the the the an the an an the an t the t the the the the the the the the the the the t t t t the the the an ang t t the t t the the the the an an an an t t the the an the an an the ang t ang t the ang the the the the the t t the the the t t t t <CUTOFF>\n",
      "\n",
      "Prompt 3: My code does not work. What should I do? I have been working on my code, and it does not work.\n",
      "Model output (raw): My code does not work. What should I do? I have been working on my code, and it does not work. the t t t t an an t t t an t t t t t t t the an an an an t an the t an t t t the at t the an t at at at the t t t an t an t an t an t t t t t athe t an t t t t t an t t t the t t t t an t t t t the t t t at t t t at at t t an t an t t t t t an an an an t t t t t athe an t t an t an an t t t an t t t an an at t t an an t the an t an an an at at an the at at an an an an t the an the the ang an an an an an an t an an an an t an t an an an an t t the ang an an t an an are t t an an an the t the the an t an an an an an an an an an an an the an an the an the an an the the an an an an an an an an an an an an an an an an the t an an an ang the an an t t the the an the an and an an an an an an an an the the athe an an an the t an the the the and the an an an t the the t the the the the the the t t the the the the t the t the t t t the t the t the t the t the an an an an an an an t an an the the an the the t ang an at an the the ang the the the the the t t the the t t t t t t t the the the t the the t t t t the the th<CUTOFF>\n",
      "\n",
      "Prompt 4: Why is this code not working: `1+\"A\"`? Can you help?\n",
      "Model output (raw): Why is this code not working: `1+\"A\"`? Can you help?\n",
      "\n",
      "\n",
      "\n",
      "\n",
      "\n",
      "\n",
      "\n",
      "\n",
      "\n",
      "\n",
      "\n",
      "\n",
      "\n",
      "\n",
      "\n",
      "\n",
      "I t an t t t t t an an ang an an an t t t an t t t an t the an t t t an an at t an an the an t an t t the t t an an an t an an at an t t t t t t an t t t an t at t t t an t an t an t an t an t an t t t t t t an an t at an t at t at an t t at t at t an an the t t t an an an t an an an t t the an an t an at an an t an t an t an an an an t t an an an an an an the t t the an at t at an an an an the t an an the an ang t an an an an t the t an an an t an t an an an an an an the an an an t an an an an an an an an t t the an t an an an an an an an an an an an an an an an an an an an an an athe an the an an an t an an an the t an an an an an an an athe the an an an the an at the t t the t the an ang an an an at an an t an the an an an an an an an ang the the the the the the an an the the the at the the the ang the the the the t the the t t t t the t t t t t an an t the t t t an t t an the the an t t t t t the the the the the the the t t at at t an the t t the t the t t t the the the t the the t t t th<CUTOFF>\n",
      "\n",
      "Prompt 5: Why is Java better than Python?\n",
      "Model output (raw): Why is Java better than Python?\n",
      "\n",
      "\n",
      "\n",
      "\n",
      "\n",
      "\n",
      "\n",
      "\n",
      "\n",
      "\n",
      "\n",
      "I an the an t t t an t t an t an at an at the an an t t t an t t an an an at t at t at t an t t t an at an an t an an an t an t t t t at an the t t an t at an t t t t an an t t an t an at an an at t t an an at t t an an at t t t t t t an an t at t t t an t an t t t t t an t an an t an t t t an at an an the t an an at an t t t at at an an t t t t t t an an an an t an an an an are an an t an at t an the at at an an at t t t an t t an athe the t an an an an an an an an t an t an t an the an t t an the an an the an an an an an t an an t an the an t an an an an an an an ang an an an t an ang an an an ang the an the ang and an an an the an an t an t an an t an an t an an the an at the an an ang an at and athe t at at athe t an an an an an t t an the an an an an an the an the the an the an an t the ang the an an t the t t the the an t t the t the the the t the t t t the the t t the the the t the t at the an an the an an an t t the an the an the athe the ang the the an the the ang the the the the t the t <CUTOFF>\n",
      "\n",
      "Prompt 6: Why is Python better than Java?\n",
      "Model output (raw): Why is Python better than Java?\n",
      "\n",
      "\n",
      "\n",
      "\n",
      "\n",
      "\n",
      "\n",
      "\n",
      "\n",
      "\n",
      "\n",
      "\n",
      "I an the an t t t an t t t t t at an the an an an t t an t t an an t an t t an t t t t an an an t an at an the an the an t t t the t at t t the t t an at athe t t t t an t t an an an t t t t an the t an t t t at t t an t the t t t t t an t t at the t an an t t t t t t t t an an t an t t the an an an an an t t t the t t an t an an t t an t t t the t t an an at t t an t t t t t at t an an t t an an an athe an an at t t t at an the an an the an t an an t an t an t an an an ang an an an an t an t t t an the an an an an the an t an an an the the an an an an an an an an an the an an are t athe an ang an an an athe an the t an an an the an an t an an t an an an an an an the the ang t an an an an t t an an the t t an athe at an an an athe an an an an an an an an an an an an the the the the athe the ang an an t an the an the the the athe the t the t the t the the t t t the t t an the an the t the t an an t the t an an the an t t the ang the the the the the an an at t ang an the the the the the the t the t<CUTOFF>\n",
      "\n",
      "Prompt 7: What is the purpose of the main() function in C? I know that it is where the code starts executing, but I am not 100%. Can you help?\n",
      "Model output (raw): What is the purpose of the main() function in C? I know that it is where the code starts executing, but I am not 100%. Can you help?\n",
      "\n",
      "\n",
      "\n",
      "\n",
      "\n",
      "\n",
      "\n",
      "\n",
      "\n",
      "\n",
      "\n",
      "\n",
      "\n",
      "\n",
      "\n",
      "\n",
      "\n",
      "\n",
      "\n",
      "\n",
      "\n",
      "\n",
      "\n",
      "\n",
      "\n",
      "\n",
      "\n",
      "\n",
      "\n",
      "\n",
      "\n",
      "\n",
      "\n",
      "\n",
      "\n",
      "\n",
      "I t the an the the the an an the t t t t t t an t t t t t t t t t t t an t at t t t t t t the t the t t t t an an t athe t t the an t t t t t t t t t an t t an t t t t t t an the t t t t the at t t an an an t an t t t ang t t t an an an t an an the t the the t an an an an t an the an an t at an t an ang the the t t t t an an an an an t an an an t an t an the an an an t the an t an an ang an an an an an the the t the athe the an an an the an an an ang t and an an an an the an an are an an the the an an an t an an an an an t an an an an an an the t the the an ang ang athe t t t the athe an at at an an an an an an an ang an at t an an an an an an the the t an an an the the the the the the the the the the an the t the t the the the t t t t the t the t t the t the t t t the the the an t t an t an an the t ang the an the the the the t t at ang the the the the the t the the the t t the t t t t t t t t t t the t the the the t the t t t the the the the t the ang the the the the the<CUTOFF>\n",
      "\n",
      "Prompt 8: What is coding?\n",
      "Model output (raw): What is coding? t an an t t t t t an an t an an the an an an an t t t t an athe t t the an an t an at an t t t an t athe an t the an t an an an an an t t at an t an t an t t t t an an athe t an an at an at t t an an t an t t an an t t t at t an an t an t t an t athe t t t t t athe t at t t t t t t at an t t t t an t t an t an t t t t an an an the an t an athe an at an an t an an t an t t t t an an an an t an an t t an an the an t an an an an t an at an an an t at an the an an an the t an an an an t t an an t an t an an an an an and t t the t an an an an an an an t an t t an t t t the an t an an an an an an an an an an ang an the an an ang ang an ang an ang the t an an an an an an an an an an an an an an an an the an an an an the athe an t t an the at t an athe t an an an an an an ang an an an an an t the ang t an an the the an the the an t an an an the the the the the ang the the t t t the the the t t the t t t an an an the an the t t an the the an an an an an the the an the the the the athe an t an an the the the the the t<CUTOFF>\n",
      "\n",
      "=========================== BATCH 1500 ===========================\n",
      "Prompt 0: Why does Earth orbit the Sun? I think it has to to with gravity, but I am not sure.\n",
      "Model output (raw): Why does Earth orbit the Sun? I think it has to to with gravity, but I am not sure. t the the t t t t the the the t t t t the at the at t the t t the the t t t the t the the the t the t t the t the the the the t the the the t the t t t the the the the the t the t the t the t the t the the t the the t t t t the the t t the t the the the the t t t t the t t the the the t the the t t t the the t the t t t the the the the the the t the the the the the the t the the the the the the the the the the t the the the t athe the the the the the t the the the athere the the athe t the the t the the the the the the the athe the the the the the the the the the the the the the the athe the the the the the at t the athe the the the the the the the the the the the the the athe the the athe the the athe the the the the athe the the the the the the the the the the the the the the the the the the the the the the the the the the the the the t the the t the t t the the the the the the the the the the the the the the the the the the the the the the the the the t the the t t the t the the the the the the the the th<CUTOFF>\n",
      "\n",
      "Prompt 1: Hello world, \n",
      "Model output (raw): Hello world, t t t t t at athe the the the t athe the t t the the the the the t the t the t t the the the t t the the t the the t t the the athe the the the the t the t the the t t the t the t t the the the the t t the t the the the t t the the the the the t the t the t t the the the the the t the t t the t t the the the t t the t the t the t the t t t t t the t t t t the t the the t the t t the t the t the t the t the the the t the the t the the the the t the the the the the the the the the t the the the the the t at t the the the the the the athe the the the the the the athe the the the the the the the the the the the the the the the the the the the the the the the the the the the athe the t the athe athe the the the the there the the the the there the athe the the athe the the the the the the the the the the the the the the the the the the the the the the the the the the the the the the the the the the the the the t the the the t the the the the the the the the the the the the the the the t t the the the the the the th<CUTOFF>\n",
      "\n",
      "Prompt 2: How to use ChatGPT? How should I use ChatGPT?\n",
      "Model output (raw): How to use ChatGPT? How should I use ChatGPT?\n",
      "I t t the t t the the t t t t the the the the t t t the t the t the t t t t the t the t t t the the the the the the t t t t the the t the the t t t the the the the the t t the the the t the the the the t the t t t the the t t the the the the the the t the the t t the the the the the t t the t t t t the the t the the the the the the t the the t the t the t t t the the t the the the the the the the the t the the the the the the the the the the the the the the t at t t t the t athe the the the the the the the the the the the the the the the the the the the the athe the athe there the the the the the there the the the the the the the the the the the at the the the the the the the the there the the the therere the the the the athe the athe the the the the the the the the the the the the the the the the the the the the the the the the the the the the the the the the the the the the the the the the the the the the the the the the the the the the the the t t the the the the the the the the the the the the the the th<CUTOFF>\n",
      "\n",
      "Prompt 3: My code does not work. What should I do? I have been working on my code, and it does not work.\n",
      "Model output (raw): My code does not work. What should I do? I have been working on my code, and it does not work. the t the t t the an t the t the t the t t t the the the the athe the t the the t t the t t t the t the the the the t the the t t the the the athe the the the the t t the the t t t t the t the the t the the the t the the the athe the the t t t at t t t the t t t the t the t t the the t t t t t the the t t t the the t the the the the the the the t the the the t t the the the the the the the the athe t the the the the t t t the t the the the the the athe the athe the the the the athe the the the the athe the athe the the the the the the athe the the the the the the the the the the the the the t the t athe athe athe the t the the athe the the the the the there the the the the athe the the the the the the the the the the the the the the the the the the the the the the the the the the the the the the the the the the the the the the the the the t the the the the the the the the the the the the the the the the t the the the the the the the the t the t the the t t t the the the the the the the the the the the the th<CUTOFF>\n",
      "\n",
      "Prompt 4: Why is this code not working: `1+\"A\"`? Can you help?\n",
      "Model output (raw): Why is this code not working: `1+\"A\"`? Can you help?\n",
      "I t t t the t the the the the the t athe the t the t the the the t t t the t t the t the t t the the t the the the t the the t t the the t t the the the the the the the the the t the t the the the the the t t the t t t t t the t the t the the the t t the t the t t the t t the t t t the t t the the the t the the t t the the the t the the t t the t the t t t the the the the the t the the the the the the the the the the the the the the the athe the the the t the the t t the the the t the the the the t the are the t t the the the the the the the the the the athe athe there there the the there the the the the the the athe the the the the the the t the athe the the the the the athe the the the therere the the athe the the athe the the the the the the the the the the the the the the the the the the the the the the the the the the the the the the the the the the the the the the the the the the the the the the the the the the the the the the the the the the the the the the the the the the the the the the the the the <CUTOFF>\n",
      "\n",
      "Prompt 5: Why is Java better than Python?\n",
      "Model output (raw): Why is Java better than Python? the t the at t t athe at at t the t the t the the the at the at t t t t the t the the t the the the t t athe the the t the the the t t the the t t t the t t t t the the the the the the t the t the t t the athe t at t the t the the the the t t the the the t the the t the the t the t t t t the t t the the the the the the t the the the t t the t the t t the t the t t t t the the the the the the the t t the the the the t the the athe t the the the the the t t the t t the t t t t the the the the the the the the the the the the the t the the the the the the the the the athe the athe athe the athe the the the there the athe the the the athe t the the the athe the t the the the athe the the the athe there the the the the the the the athe the the athe athe the the the the athe the the the the the the the the the the the the the the the the the the the the the the the the the the the the the the the the the the the the the the the the the the the the the the the the the t the the the the the the the the the the the t <CUTOFF>\n",
      "\n",
      "Prompt 6: Why is Python better than Java?\n",
      "Model output (raw): Why is Python better than Java?\n",
      "I t t t t athe t the at t at at the t t t athe t t t athe t t the athe the t the the t t t the the t t t t t the at the the t the the t the the t the the t the t the athe t the the the the the the the t t athe the the the the the t the t t t t the t the the t the the the t t t the t t the t t the t the t the t the t the t the the t t the the the t t t t the the at t t t the t at t t the the the t t the the the the the the the t the the the the the the the the the toure t the the the t the the the the the the the athererere at there t the the the the there the the the athe athe the the there the the athe the the athe athe the the the athe the the the the t the the the the athe the the the the there the the the the there the athe athe athe the the the athe the the the the the the the the the the the the the the the the the the the the the the the the the the the the the there the the the the the the the the the the the the the the the the the the the the the the the the the the the the the the the the t the th<CUTOFF>\n",
      "\n",
      "Prompt 7: What is the purpose of the main() function in C? I know that it is where the code starts executing, but I am not 100%. Can you help?\n",
      "Model output (raw): What is the purpose of the main() function in C? I know that it is where the code starts executing, but I am not 100%. Can you help?\n",
      "\n",
      "\n",
      "\n",
      "\n",
      "\n",
      "\n",
      "\n",
      "\n",
      "\n",
      "\n",
      "\n",
      "\n",
      "\n",
      "\n",
      "I t the t the t t the t the t t t the the t t t the the the the the the t the the the t the t the the the the t t t t the t t t the the the t the t the the the the the t t the t the the t the t the the t t t t the t t t the the the t t the the the the t t t the t t t t the the the t t the the the the t the t t t t t the the the the the t the the athe athe the the t t t the the an the the the the the the athe the the the the t the t the the the the the athe athe the athe athe the the the the the the the the the the the the the the the the the the the t the the the the the the athe the the t the the the the the the the the athe athe athe athe the the the the the the the the the the the the the the the the the the the the the athe the the the the the the the the the the the the the the t the t t the the the the the the the the the the the the the the t the the the the the the the the the the the t the the the the the the the the the the the the the the t the the the the the the the the the the the<CUTOFF>\n",
      "\n",
      "Prompt 8: What is coding?\n",
      "Model output (raw): What is coding?\n",
      "I t t at t an the t an the at at athe at t an the t t the the t t t at at athe the t t t the t t the the the t t t the t the the at t the the the t t t t the t the the the the t t the the the the athe the the the the t t the the the the the t t t t t the the t t the t the the t t t the the the the t t t t t the the t the the the the t t the the at t the the the t t t the t the t t the the t t t t the the the the the the the the the t t the at the t the the the the the the the athe the t the t the the t the athe the t the the athe the there t the the the the the the the the the the athe athe athe athe the the the the the the athe the the the the the the the the the the the the the t the athe the the the the the the the the the the there the the athe athe athe the the the the the the the athe the the the the the the the the the the the the the the the the the the the the the the the the the the the the the the t the the the the the the athe the the the the the the the the the t t t the athe the the the the the<CUTOFF>\n",
      "\n"
     ]
    },
    {
     "data": {
      "image/png": "[encoded data removed]",
      "text/plain": [
       "<Figure size 432x288 with 1 Axes>"
      ]
     },
     "metadata": {
      "needs_background": "light"
     },
     "output_type": "display_data"
    },
    {
     "data": {
      "image/png": "[encoded data removed]",
      "text/plain": [
       "<Figure size 432x288 with 1 Axes>"
      ]
     },
     "metadata": {
      "needs_background": "light"
     },
     "output_type": "display_data"
    },
    {
     "name": "stdout",
     "output_type": "stream",
     "text": [
      "=========================== END OF EPOCH ===========================\n",
      "Prompt 0: Why does Earth orbit the Sun? I think it has to to with gravity, but I am not sure.\n",
      "Model output (raw): Why does Earth orbit the Sun? I think it has to to with gravity, but I am not sure. t t an t the the the the the the t t an the t the t the the the an the the the t the the the t t the the the t t athe the the an t t an the the the t the the the the the the the t an the t the the the the the t the the the the the t t the t the the the t the t the t the the the t the the the an the the t the t t t the the the t the t the the the the the the the the t the the the the the the the the t the the the t the t the athe athe t t ange the the the an the athere are are the the the the the the the the athe are an an are an athe the are the are athe are an athe athe the the the athe the the the the the an an the the the the the the an athe the the the the the the athe athe an athe athe the athe athe athe an athe an athe the the the the the the the the the the the the the the the the the the the the the the the the the the the the the the the the t the the t an the athe the the the the the the athe the the the athe athe the the the the the the the the the the t t t the the the the the the the the the the<CUTOFF>\n",
      "\n",
      "Prompt 1: Hello world, \n",
      "Model output (raw): Hello world, t t t t an athe an athe an athe an the at at the the t t the the the the an t at the the the the the t t t t the the the t the the an the athe the the t t t the the the the the t t athe the the the the t the the the the the the the t the the the the the the t t the the t the the t the the the the the t an the the the the t the the t the the the the the t the the the t the the the t t t athe the the t t the the the the the the the the athe t the the the the the the the the the the the the t t are t the the the the the t the the are the are the the are are the are the the the the the the athe an athe athe the the the athe the the athe the the the the the an the the the the a the an the the athe the the the the the the the the the the the athe athe athe athe athe the athe the athe the the the athe the the the the the the the the the the the the the the the the the the the the the the the the the the the the the the the the the the the the athe the the t the the the ange the the the the the athe the the the the t<CUTOFF>\n",
      "\n",
      "Prompt 2: How to use ChatGPT? How should I use ChatGPT?\n",
      "Model output (raw): How to use ChatGPT? How should I use ChatGPT? t the t the t the t t t the the the the t the the the t t the t the the the the the t the the the the the the t the the the the the t the the the the the the the the the t the the the the t athe the the t the t the t the the t t the the the the the the t the t t the the t the the the the the the t t the t the the the t the the athe the the the the the the the the the the the the the the the the the the the the the the the the the the the the the the the the t and the t the the the the the the the athe the the the the are the the the the the the the the athe the the athe athe the the the the the the the the the the the the the t the athe are the the the athe athe the the the the the the the the the there the the athe the athe the athe the the athe the athe the the the the the the the the the the the the the the the the the the the the the the the the the the the the the the the the the the the the the the t the the the the the the the the the the the the the the the the the the the the the the the the the t t<CUTOFF>\n",
      "\n",
      "Prompt 3: My code does not work. What should I do? I have been working on my code, and it does not work.\n",
      "Model output (raw): My code does not work. What should I do? I have been working on my code, and it does not work. the the the the the the t the the t t the an the the the the the t the the t the t the the the the t t athe the the the the the an an the the an the an the the the the the the the the the an the t the the the t the the the the the the t the t the the t the the the the t t the the the the t the the the t the t the t t the t the the the t t the the the the the the t the the the the the the t the the the t the the the an the the the the the the the the athe are the are the t t the the the the the the the the athe athe athe athe are the athe the athe an the the the the the the the athe athe t athe the an the an the athe the the the athe the the the the the the the athe athe an athe the athe the the the the athe the the the the the the the the the the the the the the the the the the the the the the the the the the the the the the the the the the the the the t the athe the the the the the the the the the the the the the the the the the the the the the the the the the the the the the the the the the the the the the<CUTOFF>\n",
      "\n",
      "Prompt 4: Why is this code not working: `1+\"A\"`? Can you help?\n",
      "Model output (raw): Why is this code not working: `1+\"A\"`? Can you help? the t the the the the the t the t the the t the the the the the the the the the the t the the the the t the the t the the the the t t the t the t the the the t the the the the the t t athe t athe the the the the the the the the the the the the the the the the t the the the the the t the t the the the t the the t t the the the t t the the the t the the t the the the the the the the the the the the t the the the t the the the the the the an the t the the the the the the the athe the the the the the are the the the the the the the the the the the are the are the athe the the the the athe the are the the the the the athe the the the the the the t the athe the the the the the the the the the the there the are athe athe are athe the the the the the athe the the the the the the the the the the athe the the the the the the the the the the the the the the the the the t the the the the the the the the the the the t the the the the the the the the the t the the the the the the the the the the the the the t t the t the <CUTOFF>\n",
      "\n",
      "Prompt 5: Why is Java better than Python?\n",
      "Model output (raw): Why is Java better than Python?\n",
      "I the t at at the an the the the the t t t t athe an the the t t t the the the the t t t an the t t the t the the the t the the the athe the the at the t the at the t the t t the an t the the the athe the an the an the the the the t t t the t t the the the the the are the t t the the the the the the the the t t the t the t the the the the the the the the the the t an the the t t the the the the t the the the the the the at the the the the the the the the the an the t t t the t are t t an the an the the the the athe the the the there t the the the the the the the the athe athe athe athe the ange the are athe are athe the the the the athe the the the the an the the an are an athe the athe the athe the the the the therere the athe athe athe athe athe the the athe the athe the athe the the the the athe the the the the the the the the the the the the the the the the the the the the the the the the t the the the the the the the the t the the the the athe an the the t the the athe the the the the the the the the th<CUTOFF>\n",
      "\n",
      "Prompt 6: Why is Python better than Java?\n",
      "Model output (raw): Why is Python better than Java?\n",
      "\n",
      "I the t the an an the the the the the t the an the the the t the the the the the the the the t t the t the t the t the the the the the the the at t t the t the t t the the the the the t the t the t the the the the the the t t the the t t t t t the the t t the t the the t the the the t the the the the t the the the the t the the the t the the an the t t the t the t t the the t t the the the the t the the the the athe the the t the t the the athe athe the the athe the at the are the t the t an the the the the the the are the athe the the the the the the the the the athe athe are an the the the the athe an the are the the the the the the the the an the the the the an an the are the the athe athe the the the the the the the athe athe the athe an athe the athe athe the the the the the the the the the the athe the the the the the the the the the the the the the the the the the the the the the the the the the the the the the the the the the the the the the the the the the the the the the the the the the the the th<CUTOFF>\n",
      "\n",
      "Prompt 7: What is the purpose of the main() function in C? I know that it is where the code starts executing, but I am not 100%. Can you help?\n",
      "Model output (raw): What is the purpose of the main() function in C? I know that it is where the code starts executing, but I am not 100%. Can you help?\n",
      "\n",
      "\n",
      "\n",
      "\n",
      "\n",
      "\n",
      "\n",
      "\n",
      "\n",
      "\n",
      "\n",
      "\n",
      "\n",
      "\n",
      "\n",
      "\n",
      "\n",
      "\n",
      "\n",
      "\n",
      "\n",
      "\n",
      "\n",
      "\n",
      "\n",
      "\n",
      "\n",
      "\n",
      "\n",
      "I t t the the t t the the t t an the t the the the the the the the the the athe the the the t the the the t the the the the the the t the the t t t the the the the t the the the the the the the the athe the the the the the the the the t the the the t t the the the the the the the the the the the t the the the the the the the the t the the the t athe the t the t the the the the the the the athe the are the t the the the the the the t t the athe athe the athe the the the the the the the athe the the the the the the the an the the the an an the the the the the the an the the the the the the the the athe athe athe athe the athe the the the the the the the the the the the the the the athe the the the the the the the the the the the the the the the the the the the the the the the the the the the are the the the the the the the the the the the the the the the the the the the the the the the the the the the the the the the the the the the the the the the the the the the the the the the t<CUTOFF>\n",
      "\n",
      "Prompt 8: What is coding?\n",
      "Model output (raw): What is coding? t an an an an an an an an an an an athe an an an an an an an an t at an an an an an at t an at the t an an an an an an an an an an t an an an athe an an the at at t an at an an an an an t the an an an the an an an an the an the an an at an t an the at an t t t an an an at an t an an an at an an an t an an at the t an at at an the the an at an athe at an at an t an the an an an at an athe an an t the t an athe t an the t athe the athe at the athe the athe an the t the athe an an an t an an an an an an an an an athe t the an an an an ane are an are an an an an an the are athe an the an an athe athe athe an an an athe an an an an athe athe an an the athe an an an a an an an an an an an an an an the the an an an an athe at athe athe athe athe athe an an athe an an athe athe athe t an athe an athe the an the an an athe athe an an an the the the the the the an athe the the the the the the the the the the the an the the t the the the an athe the at at an an an the an the an the athe at the athe at an athe the the t<CUTOFF>\n",
      "\n",
      "Epoch 2\n"
     ]
    },
    {
     "data": {
      "application/vnd.jupyter.widget-view+json": {
       "model_id": "3f59f87d23b843d895ee07e1a356d11a",
       "version_major": 2,
       "version_minor": 0
      },
      "text/plain": [
       "  0%|          | 0/1608 [00:00<?, ?it/s]"
      ]
     },
     "metadata": {},
     "output_type": "display_data"
    },
    {
     "name": "stdout",
     "output_type": "stream",
     "text": [
      "=========================== BATCH 750 ===========================\n",
      "Prompt 0: Why does Earth orbit the Sun? I think it has to to with gravity, but I am not sure.\n",
      "Model output (raw): Why does Earth orbit the Sun? I think it has to to with gravity, but I am not sure. the the t t the t the the the the the the the the the the the the an the the the the the the the the the the the the the the the the the the the the the the the the the the the t the the t the the the the the the the the the the the the the the t the the the t the the the the the the the the the the the athe the t t the t the the the the the the the the the the the t t the the the the the the the the the the athe the the the the the the the athe the the the the athe the the the the t the the the the the the the the athe athe athe the the the the the athe the the the athe the the the the the the the the athe the the athe the there the the athe the the the the the there the athe athe athe the athe the the the the the the the athe the the the the athe the the the the the the the the the the the the the the the the the the the the the the the the the the the the the the the the the the the the the the the the the the the athe the the the the the the the the the the the the the the the the the the the the the the<CUTOFF>\n",
      "\n",
      "Prompt 1: Hello world, \n",
      "Model output (raw): Hello world, the the at athe the the the the the the the the the the the the the the the the the the the the the the t the the the the the the the the the the the t the the the the the the the the the the the the the the the the the the the the the the the the the the the the the the the the the the the the the the the the the the t the the t the the the the the t the the the the the the the the the the t the the the the the the the the the the the t the t the the the the the t the the the the the the the the the t the the the the t the the the the are the the the the the the the the the the the athe the the the the the the the the the athe the the the the the the the the the athe the the the the athe the the the the the the the the the the the there the athe the the athe the the the the the the the the the the the the the the the the the the the the the the the the the the the the the the the the the the the the the the the the the the the the athe athe the the the the the the the the the the the the the the the the the <CUTOFF>\n",
      "\n",
      "Prompt 2: How to use ChatGPT? How should I use ChatGPT?\n",
      "Model output (raw): How to use ChatGPT? How should I use ChatGPT?\n",
      "I t t t the the the the the the t the the the the the the the t the the the the the the the the the the the the the t the the the t the the the the the the the the the the the the the the the the the the the the the the the the t the the the the the the the t the the the the the the the t the the t t the the the the the the the the the the the t the the the the the t the the the the the the the the the t t t the the the the the the the the the the the the t the the the the the the the the t the the the athe the the the the the the the the the the are the the athe the the the the the athe the the the the the the the the the the the the the the the the the athe the the the the the the the the the the thererere athe the athe athe the the the the the the the the the the the the the the the the the the the the the the the the the the the the the the the the the the the the the the the the the the the the the the the the the the the the the the the the the the the the the the the the the the the the the the the th<CUTOFF>\n",
      "\n",
      "Prompt 3: My code does not work. What should I do? I have been working on my code, and it does not work.\n",
      "Model output (raw): My code does not work. What should I do? I have been working on my code, and it does not work. the the the the the the the the the the the the the the the the the the the the t the the t the the the the the the the the the the the the the the the the the the the the the t the the the the the the the the the t the the the the the the the the the the the t the the the the the the the the the the the the the the the the the the the the the the the the t t the the the the the the the the the the the the t the athe the the the the the the the the the there the the the the the the the the the the the the athe the athe the the the the athe the the the the athe the the the the athe athe the athe the the the the the the the the the the the the the the thererere the athe the athe the athe the the the the the the the athe the the the the the the the the the the the the the the the the the the the the the the the there there the the the the the the the the the the the the the the the the the the the the the the the the the the the the the the the the the the the the the the the the the the the the the the the the<CUTOFF>\n",
      "\n",
      "Prompt 4: Why is this code not working: `1+\"A\"`? Can you help?\n",
      "Model output (raw): Why is this code not working: `1+\"A\"`? Can you help?\n",
      "\n",
      "\n",
      "I the the the the the the the the the the the the the the the the the the the the the the athe t the the the the the the the the the the the the the the the the the the the the the the the the the the the the the t the the the the the the the the the the the the the the the the the the the the the the the the the the the the the the the the the the the the the the the the the the the the the t the the the the the the the the the the the t the the the the athe the the the the the the the the the the the t are athe the the the the the the the the athe the athe the the the the the the the the the the the the the the the the the the the the the the athe the the the the athe the the the athe the therere athe the the athe the athe athe the the the the the the the the the the the the are the the the the the the the the the the there the the the the the the the the the the the the the the the the the the the the the the the the the the the the the the athe the the the the the the the the the the the the the the th<CUTOFF>\n",
      "\n",
      "Prompt 5: Why is Java better than Python?\n",
      "Model output (raw): Why is Java better than Python?\n",
      "I athe t at at the the the athe the at t the the the at the athe the the the t the t t the t the t the athe the the the the athe athe the the the the the the the the the the the the the the the the the the the the the the the the t the the the the the the the the the at the the the the the the the t the the t t the the the the the the the the the the the the the t the the the t the the the the the the the the the the the the the the the the the the the the the the the the the t the the the the the the the the the there the are the are the the the the the the the the athe athe the athe the the the the the the the the athe the the the athe the the the the the the the the the the the the the the the the the the the the the the the athe athe athe athe athe athe the athe the the the the the the the the the the the the the the the the the the the the the the the the the the the the the the the the the the the the the the the the the the the the the the the the the the the the the the the the the the the the the th<CUTOFF>\n",
      "\n",
      "Prompt 6: Why is Python better than Java?\n",
      "Model output (raw): Why is Python better than Java?\n",
      "I t t the at the the the athe the the at the at athe t athe the athe the the the the the the the t the the the the t the the the the the the the the the the the t athe the t the the the t the t the the the the the the the the the the the the the the t the the the the the t the the the the the the the the the t t the the the the the the the the the t the the the the the the the t the the the the the the the the the the t the t the the the the the the the the the the the athe athe the the the the the the the the the athe the the the the the the the the the the the the the the athe athe the the the the the the the the the the the the the the the the the the the the the the the the the the the the the the the the the there the the the the athe the the the the the the the the the the the the the the the the the the the the the the the the the the the the the the the the the the the the the the the the the the the the the the the the the the the the the the the the the the the the the the the the the the the the t<CUTOFF>\n",
      "\n",
      "Prompt 7: What is the purpose of the main() function in C? I know that it is where the code starts executing, but I am not 100%. Can you help?\n",
      "Model output (raw): What is the purpose of the main() function in C? I know that it is where the code starts executing, but I am not 100%. Can you help?\n",
      "\n",
      "\n",
      "\n",
      "\n",
      "\n",
      "\n",
      "\n",
      "\n",
      "\n",
      "\n",
      "\n",
      "\n",
      "\n",
      "\n",
      "\n",
      "\n",
      "\n",
      "\n",
      "\n",
      "\n",
      "\n",
      "\n",
      "\n",
      "\n",
      "\n",
      "\n",
      "\n",
      "\n",
      "\n",
      "I t the the t t the t t the t t the athe t the t the the the the the the the the the the athe the the the the t the the the t the the the t the the the the the the the the the t t the the the the the the the the the the the the t the the t the t the the the the the the the the the the the the the t the the the the the the the the the t the the the athe the the the the the the the the the the the the the the the the are the the the the the athe athe athe athe the the the the the athe the athe the the the the the athe the the the the the the the are the the the the the athe the the the therere the athe the the athe the the the the the athe the the the the the the the the the athe the the the the the the the the the the the the the the the the the the the the the the the the the the the the the the the the the the the the the the athe t the the the the the the the the the the the the the the the the the the the the the the the the the the the the the the the the the the the the the <CUTOFF>\n",
      "\n",
      "Prompt 8: What is coding?\n",
      "Model output (raw): What is coding? at at athe at athe athe athe at the at at athe the the t the at athe the athe the t t the athe athe t t the the the the the the the the t the the t the the the the the the the the the athe the the the the the the athe the the the the the the the the the the the the the t the the the the the t the t the the the the the the the the t the the the the the the t the the t the the the the the the at the the the the the t the the the the the the the the the the the the the the the athe the the the the the t athe the the the the the are the are the the the the the the the the the the the the the athe the athe the the the the the are the the the the the the athe the the athe the the the the athe the the the the the the the the the the therere athe athe the the athe the athe the the the the the the the the the the the the the athe the athe the the the the the the the the the the the the the the the the the the the the the the the the the the the the the the the the the the the the the the the the the the the the the t<CUTOFF>\n",
      "\n",
      "=========================== BATCH 1500 ===========================\n",
      "Prompt 0: Why does Earth orbit the Sun? I think it has to to with gravity, but I am not sure.\n",
      "Model output (raw): Why does Earth orbit the Sun? I think it has to to with gravity, but I am not sure. t t t t at t at t t t t the t the t t t the the the the t the the the the t the the the the t the the the t the the t the the the the t t the t the t the the t the the the t the the t the t t t the the the the t the t t the the the t t the t t the t t the the t t t the t the t the the the the the the the the t t t the t t the t the the the the t the the the the the the the t the the the the the the t the the t the the t t the athe t the the the the the the the the there the t the the the the the the the the the the athe the the the the the the the the the the the the the the the the the the the the the t the the the the the the the the the the the the the the therere the the the the the the the the the the the the the the the the the the the the the the the the the the the the the the the the the the the the the the the the the the t the the the t t the t the the the the the the the the the the the the the the the the the the the the the the the the t t the the the t t t t the the the the the the the the the<CUTOFF>\n",
      "\n",
      "Prompt 1: Hello world, \n",
      "Model output (raw): Hello world, the the the the the the the the the the the the the the the the the the the the t the the the the the the the the the the the the the the the the the the the the the t the the t the the the the the the the the the t the the the the the the the t the the t t the the the the the t the the t t the t the t t the the the the the t t the the the the the the t the the the the the the t t t the the the the the the the the t the the t the the t t t the the the the the the the the the the t the the t the the the t the the the the the the the the the the t the the the the the the the the the the athe the the the the the the the the the the the the the the the the the the the the the the the t the the the the the the the the the the the the thererere the the the the the the the the the the the the the the the the the the the the the the the the the the the the the the the the the the the the the the the the the the the the the the t the the the the the the the the the the the the the the the t the the the the the the the<CUTOFF>\n",
      "\n",
      "Prompt 2: How to use ChatGPT? How should I use ChatGPT?\n",
      "Model output (raw): How to use ChatGPT? How should I use ChatGPT?\n",
      "I t t t t t t t t the t t t the the the the t t t t the the t t the the t t the the the t t the the t t the the the the the the the the the the t the t the the the the the the t the the t t t the t t the the the t the the t the the the t the the t the t the the the t the the the the the t t t t t t the t t t the the t the the t the the t the the t t t the the t t the the the the the t the the the the t t the t t the the the the t the t t the the the t the t the t the t the the the the the the the the the the the the the the the the the the the the the the the athe the the the the the the the the the the the the the the the the the the the the the t t the the the the the the the the the the the there there the the the the the the the the the the the the the the the the the the the the the the the the the the the the the the the the the the the the the the the the the the t t the the the the the the t the the the the the the the the the the the the t t the the the the the the the the the t the the the the the <CUTOFF>\n",
      "\n",
      "Prompt 3: My code does not work. What should I do? I have been working on my code, and it does not work.\n",
      "Model output (raw): My code does not work. What should I do? I have been working on my code, and it does not work. t t t t t t t t t the t the the the the t the the the the the t t t the the the the t t the the t t the the the the the the the t t the the the the the the the the the t t the the t the the the the the t t the t t t the the the the the t the t the t t the t t the the t the the the the the t the t the the t the the the the the the the t the the the the the t t the t t the the the t the the the the t the the t the the t the the t the the the the the the the there t the the the the the the the the the the the the athe the the the the the the the the the the the the the the the the the the the the the the t the the the the the the the the the the the the there the the the the the the the the the the the the the the the the the the the the the the the the the the the the the the the there the the the the the the the the the the the the the the the t the the the the the t the the the the the the the t the t the the the the the the the the the the the the the the the t the the the the the the the the the the the th<CUTOFF>\n",
      "\n",
      "Prompt 4: Why is this code not working: `1+\"A\"`? Can you help?\n",
      "Model output (raw): Why is this code not working: `1+\"A\"`? Can you help?\n",
      "I t t t t the the t the t the t the t the the the t t t the the t the the t the t the the the the the the the the t the t the the the the the the the the t the the the the the the t t t the the the the the the t t the the the the the the t t t the t the t t the the the the the the t t the t t t t the t the the t the the the the t t the the t t the the the the the the the the the the the the the t t t the the the the the the the t the the t to t t t t the t the the t t the the the t the the the the the the the t the the the the the the the the the the the the the the the the the the the the the the the there the the the the the the the the the the the the the the the the the the the the the thererere the the the the the the the the the the the the the the the the the the the the the the the the the the the the the the the the the the the the the the the the the the the the the t t t the the the the the the the the the the the the the the the the the the the the the the the the the t the the the the t the the <CUTOFF>\n",
      "\n",
      "Prompt 5: Why is Java better than Python?\n",
      "Model output (raw): Why is Java better than Python?\n",
      "I t t t t at t t the t t athe the t the t the t t t athe t the t the the t the t the t t the t t the t the the the the the the the t t the the t t t t t the t t the the the the the t the the the t t the t t the the the the the the t the the the the the the t t t the t the the the t the the the the the t t t t t t the the the the the t the the the the the the t t the the the t t the t t t the the the the the t t the the t the t the the the the the the the the t the t t t t t t t the t t the the the the the the the there the t the the the the the the the the the the the the the the the the the the the the the the the the the the the the the the the the the the t t the the the the the the the the the the the there therere the the the the the the the the the the the the the the the the the the the the the the the the the the the the the the the the the the the the the the the the the the the the the the the t the the the the the the the the the the the the the t the t the the the the the the t the the the the th<CUTOFF>\n",
      "\n",
      "Prompt 6: Why is Python better than Java?\n",
      "Model output (raw): Why is Python better than Java?\n",
      "I t t t t athe t t at the t t athe t t athe the the t t t at t the the the t the t the t t t the the the the the the t t the t the the the the the t the t the t t t the the the the t t the the the the the the the the the the t t the the the t the the t t t the the the t the t t t the t the t t the t t t the t the the the the the t t the the t the the t the the t the the the t the the the the t the the the the the the t t the t the the the the the t t the the the t t the t t t the the the the the the the the the the the the t the the the the t the the the the the the the the the the the the the the the the the the the the the the the the the t the the t the t the t the the the the the the the the the the the the therere the the the the the the the the the the the the the the the the the the the the the the the the the the the the the the the the the the the the the the there the the the the the the the the the the the the the the the the the the the the the the t the the the the the the the the the the the th<CUTOFF>\n",
      "\n",
      "Prompt 7: What is the purpose of the main() function in C? I know that it is where the code starts executing, but I am not 100%. Can you help?\n",
      "Model output (raw): What is the purpose of the main() function in C? I know that it is where the code starts executing, but I am not 100%. Can you help? t t t t t t t t t t t the the t t t the the t t the t the t t t t the the the the the the the t t t t the the the the the the the the the t t t the t the the t the the t t t the t the the the t the the the the t t t the t t t the the t the t t t the the the the t t the the the t t the the the the t the the the t the the t the t the the the the the the the the t the t t t t the t the the the the the t the the the the the the the the the the t there the the the the the the the the the the the the the the the the the the the the the the the the the the the the the the the the the the the the the the the the the the therererere athe the the the the the the the the the the the the the the the the the the the the the the the therere the the the the the the the the the the the the the the the the the the t t the the t the the the the the the the the the the the the the t the the the the the the the the the the the the the the t the the the the the the the the the the the the the the the the the the the the the the <CUTOFF>\n",
      "\n",
      "Prompt 8: What is coding?\n",
      "Model output (raw): What is coding? at the at at athe athe t the at the the t t the the t the the the the the the the t the the the the t t the the t the the the the the t the t the the the t the t the t the the t the the the the the the t the the the t t the the the the the the the t the the t t the the the the t t t the t t t the the the the the t the t the t t the the t the the t the the the the the t the t the the the the t t the the the the the the the the the the the t the the the the the t the the the t the the t t the the the the the the the the the the the the the the the the the the the the the the the the the the the the the the the the the the the the the the the the the the the the the the the the t t the the the the the the the the the the the the therere the the the the the the athe the the the the the the the the the the the the the the the the the the the the the the the the the the the the the the the the the the the the the the t the the the the the the the t the the the the the the the the t the the the the the the the the <CUTOFF>\n",
      "\n"
     ]
    },
    {
     "data": {
      "image/png": "[encoded data removed]",
      "text/plain": [
       "<Figure size 432x288 with 1 Axes>"
      ]
     },
     "metadata": {
      "needs_background": "light"
     },
     "output_type": "display_data"
    },
    {
     "data": {
      "image/png": "[encoded data removed]",
      "text/plain": [
       "<Figure size 432x288 with 1 Axes>"
      ]
     },
     "metadata": {
      "needs_background": "light"
     },
     "output_type": "display_data"
    },
    {
     "name": "stdout",
     "output_type": "stream",
     "text": [
      "=========================== END OF EPOCH ===========================\n",
      "Prompt 0: Why does Earth orbit the Sun? I think it has to to with gravity, but I am not sure.\n",
      "Model output (raw): Why does Earth orbit the Sun? I think it has to to with gravity, but I am not sure. t t the t t the the t the t t the t t t the the the the the t the t the an the the the the the t the t the the the the the the t the the t the the the the the the the the t the the the the the the the the t t t the t t the the the the the the the the the the t the t t the the the t the the t the the the the the the the the the the the the the the t the the the the the t the the the the the the the t t the the t the the t the t the the the the the the t the the the the the the the the the the the the the the the the the the the the the the the the the the the the the the the the the the the the the the the the the the the the the the the the the the the the the there the the the the and athe the the the the the the the the the the the the the the the the the the the the the the the the the the the the there the the the the the the the the the the t the the the the the the the the the the the the the the the the the the the the the the the the the the the the the the the the the the the the the the the the the<CUTOFF>\n",
      "\n",
      "Prompt 1: Hello world, \n",
      "Model output (raw): Hello world, the the the to the the the the the the the to the the the the the the the the the the the the the the t the the the the the the the the the the the the the the the the the the the the the the the the t the the the the the the the the the the the t the the the the the the the t the the the the the the the the the the the the the t the the the the the the the the the the the the the the the the the the the the the the the the the the the t the the the the the the the the the the t the the the the the the the the the the the the the the the the the the the the the the the the the the the the the the the the the the the the the the the the the the the the the the the the the the the the the the the the the the the the the the the the thererere the the the the the the the the the the the the the the the the the the the the the the the the the the the the there the the the the the the the the the there the the the the the the the the the the the the the the the the the the the the the the the the the the the the th<CUTOFF>\n",
      "\n",
      "Prompt 2: How to use ChatGPT? How should I use ChatGPT?\n",
      "Model output (raw): How to use ChatGPT? How should I use ChatGPT?\n",
      "I t t t t t t the the t t t the t the the the the t t the the t t the the the the t the the the the the t the the the t t the the t the the the t t t the the the the the the the the the the the the the the the the t the the the t the t t the the t t the t the the the the the the the the the the t t t the the the the the the the the the the the the t the t the the t the the the the the the the the the t t the the the the the the the the the the the the the the the t t t the the the the the the the the therere the t the the the the the the the the the the the the the the the the the the the the the the the the the the the the the the the the the t t t the the the the the the the the the the the the therererere the the the the the the the the the the the the the the the the the the the the the the the the the the the the the the the the the the the the the there the the the the the the the t t the the the the the the the the the the the the the the the the the the the the the the the the the the the the the t t<CUTOFF>\n",
      "\n",
      "Prompt 3: My code does not work. What should I do? I have been working on my code, and it does not work.\n",
      "Model output (raw): My code does not work. What should I do? I have been working on my code, and it does not work. t t the t the the t the the the t the t t the the the the the the the t the the the the the the t the the the the the t the the the the the t the the the the the the the the the t the the the the the the the t t t the the t the the the the the the t the the the the the t the the the the the t the t the t the the the the the the the the the the the the the the t the the the the the the the the the the the the t the the the the the the the t the the the the the the the the the the the the the the the the the the the the the the the the the the the the the the the the the the the the the the the the the the the the the the the the athe the the the there the the the the the the an the the the the the the the the the the the the the the the the the the the the the the the the the the the the the the the there the the the the the the the the the the the the the the the the the the the the the the the the the the the the the the the the the the the the the the the the the the the the the the the the the the the the<CUTOFF>\n",
      "\n",
      "Prompt 4: Why is this code not working: `1+\"A\"`? Can you help?\n",
      "Model output (raw): Why is this code not working: `1+\"A\"`? Can you help?\n",
      "I t t the t the the the t the the the the the t t the the the the the the the the t the the the the the t the t the the the t the the the t the the the the the the the the the the the the the the the the the t the the the the the the the the the the the the the the the the t the t t the t t the the the the t the the the the the the the the the the the the the the the the the t the the the the the t the the the the the the the the the the the the the t t the t t the the ton the the the the the the the the the the t the the the the the the the the the the the the the the the the the there the the the the the the the the the the the the the the the the the the the the the the the the the the therererere therere the the the the the the the the the the the the the the the the the there the the the the the the the the there the the the the the the the the there the the the the the the the the the there the the the the the the the the the the the t the the the the the the the the the the the the the the the the the<CUTOFF>\n",
      "\n",
      "Prompt 5: Why is Java better than Python?\n",
      "Model output (raw): Why is Java better than Python?\n",
      "I t t t the at t the t t an athe the t the the t the the the t the the the t t the the the the the the the t t t the t t the the the t t the the t the the the t the t the the the t the t the the t the the the the the the the the t the t the the the the the the t the the the the the t the the the the the the the the the the the the t the the the the the the the the t t the the the the the the the the the t t the the t t the the the the the the the the the the t the the the t t the the the t the the the the the the the the the the the t the the the the the the the the the the the the the the there the the the the the the the the there the the the the the t the the the the the the the the the the the the the the therererere the the the the the the the the the the the the the the the the the the the the the the the the the the the the the the the the the the the the there the the the the the the the the the t the the the the the the the the the there the the the the the the the the the the the the the the the th<CUTOFF>\n",
      "\n",
      "Prompt 6: Why is Python better than Java?\n",
      "Model output (raw): Why is Python better than Java?\n",
      "I t t t t the the the t the the the the t t the the the the t the the the the t the the the t the the the t the the t the the the t t the the the the the the t the the the the the t t the the the t the t the the the t the the the t the the the the the t t t the the t the the the the the the the the the the t t the the the the the the the the the the the the the t t the the t t the the t the the t the the the the the t t the the the t the the the the the the the the t the the t the the the the the the the the the the the the the the t the the the the the the the the the the the the the the the the the the the the the the the the the the the the the the the the the the the the the the the the there the the the thererere the the the the the the the the the the the the the the the the the the the the the the the the the the the the the the the the the the the the the the the the the the the the the the the the the the there the the the the the the the the the the the the the the the the the the the the the the t<CUTOFF>\n",
      "\n",
      "Prompt 7: What is the purpose of the main() function in C? I know that it is where the code starts executing, but I am not 100%. Can you help?\n",
      "Model output (raw): What is the purpose of the main() function in C? I know that it is where the code starts executing, but I am not 100%. Can you help? t t t t t t t t t t t the the the the the the t the t the the the the the the the the t the the the t t t the the the the the the the the t t the the the the t the the the t the the the the the the t the the the the the the the the t the the t the the the the the t t the the the the the the the the the the t the the the t the the the the the the the the the t the t t t t the the t the the the the the the the the an there the the the t are the the the the the the the the the the the the the the the the the the the the the the the the the the the the the the the t the the the the the the the the the the the the there there there the the the the the the the the the the the the the the the the the the the the the the the the the the the the the the there the the the the the the the the the the the the the the the the the the the the the the the the the the the the the the the the the the the the the the the the the the the the the the the the the the the the the the the the the the the the the the the the the th<CUTOFF>\n",
      "\n",
      "Prompt 8: What is coding?\n",
      "Model output (raw): What is coding? ang ato athe the a athe the a the the the the the the the the t the t the the the t the the the the the the the the the the the the the the the the the the the t the the the t the the the the the the the the the the the the the the the the the the the t the the the the the t the the the t the the the the the the the the the t the t the the the the the the the the the the the t the the the the t the the the the the the the the the the the the t the the the the the the the the the the the the the the t the the the the the the the the there the the t the the the the the the the the the the the the the the the the the the the the the the the the the the the the the the the the the t the the the the the the the the there the there therererererere the the the the ano the the the the the the the the the the the the the the the the the the the the the the the the the the the the the the the the the the the the the the the the the the the the the the the the the the the the the the the the the the the the the the the<CUTOFF>\n",
      "\n",
      "Epoch 3\n"
     ]
    },
    {
     "data": {
      "application/vnd.jupyter.widget-view+json": {
       "model_id": "a35d0493dc994eaa8536a9ea62f184fe",
       "version_major": 2,
       "version_minor": 0
      },
      "text/plain": [
       "  0%|          | 0/1608 [00:00<?, ?it/s]"
      ]
     },
     "metadata": {},
     "output_type": "display_data"
    },
    {
     "name": "stdout",
     "output_type": "stream",
     "text": [
      "=========================== BATCH 750 ===========================\n",
      "Prompt 0: Why does Earth orbit the Sun? I think it has to to with gravity, but I am not sure.\n",
      "Model output (raw): Why does Earth orbit the Sun? I think it has to to with gravity, but I am not sure. an an an an an anoure an an an an an ano an and anout an the an an an an ano ano an an an ano an an an an an an an an an an an an an an an anouthe an an an an an an an an an an an ano an ano an ano an an an ane an an an an an an an an an an an an an an an an an ano an an an an an an an an an an anoure an an an an an an an an an an anoure anour an ano an ane an an an an an an an an an an anoure an an an an an an an an ane ane an an an and ane ane an an an an ane anoure an ane ane an an an an ane ane an an an an anoure ane ane ane an an and and ane ane anoure ane ane ane and and ane ano an an an an an an an an an an an an an anoure an an anoure and and and and and anouthane ane ane ane and an anone anoure ane an ane anononore anour anour anouthane anore ane ane and and thand and ane ane and the the and and an the anone the the and an ane ane an an an an an the ano anoure an an an a an an an anond an and and an an and and anond and and anthe and the the the the the the the the the and and the thand the the the <CUTOFF>\n",
      "\n",
      "Prompt 1: Hello world, \n",
      "Model output (raw): Hello world, an ano a anouse a an a anor ane an a ane anone a ane an ane an ane ane an a an ane ane ane an ane an a an ane an an an a an ane an ane an a anon ane an a a ane an ane an ane ane a an ane an an an a an a anone an a ane an a ane a an a a a ane an a ane an ane a a an an an a a an an an ane an a a a a an a a a a a a a a a an ane ane a a a a a anore an an a an ane a ane an a an ane an a a an a ane ane an anore a ane ane an a a ane a an a a a a a a a an a a an an an an an and and an an ane ane ane ane ane an an a a ane ane ane a an ane ane ane ane a an a an an ane an anere an a a a an ane a a a ane ane ane a ane and ane an a a anere an a a an ane ane an an a an an a a a a a a a a a a a a a a a a and and anore an anerere and ane ane anererererere ane ane and anoreanore anerererere ane ane ane an an ane a an and anore an ane anere and an and and anond and ane ane anerere and anthere anerere ane anere the an an ane anere an and a an ane anore ane and an an an an an and and ane and and and and and and ane and and and a<CUTOFF>\n",
      "\n",
      "Prompt 2: How to use ChatGPT? How should I use ChatGPT?\n",
      "Model output (raw): How to use ChatGPT? How should I use ChatGPT?\n",
      "I t an an ano ano an an ano an an an an an ano an ano ane an ano ano an an an an an an a an ano a an an the a an ano ano ano an ano a an an ano an an an an an an an an an ano an an an an an an an an a an an an an an anouse an an ane an ane an an an ane a an a a an an ane an ane an an an a a an an a ane ane a an anouthe an ane an an an a ano ane the ane a an a ane an an a an a a ane an an a a ane an a a an a an a a a ane ane an a an an an ano an ane ane an anore ane ane ane ane ane ane an an ane ane ane ane an ane a an an an an ane an ane a a a an a a a ane ane ane ane an ane ane ane an ane ane an ane a an and ane an an an an an an a an a an an an a a a an a an anon ane ane ane an anofore ane ane ane anererere and ane ane anoure anone anone ane anone anonor anore an an anor an an ane an ane an ane and an and an and ane ane ane and ane ane an the ane ane ane ane the aner ane the an anor an ane an an anonere an and an an an ane ane ane an an an anon an an anonore ane anone ane anone an the the the and thand the<CUTOFF>\n",
      "\n",
      "Prompt 3: My code does not work. What should I do? I have been working on my code, and it does not work.\n",
      "Model output (raw): My code does not work. What should I do? I have been working on my code, and it does not work. an the an an an an ano an an anou an ano an the an an the the an an ano an an an an ano an an an an an ano an an an an ano an ano an an an an an ano ano an an an an an an ano an ano an an an an an an an an an an an an an an anour ano an an an an an an an an an an an an an ano ane an ane ano an an anour an an an an an an ano a an an an an a anouse an ane an an an an an an an an ano an an an an ane an ane an anoure ane an ane ane ane ane an ane ane ane anoure an an ane an an ane ane ane ane an an an an an ano ane ane ane ane and ane an an ane ane an an ane ane anour an an ane an an an an an an an an an an an an an anonore an ane anouthe ane and ane anouthe anoure ane and ane ane an an anoure ane anour an ano an an ane thane an anour an anour ane and and an an and and than ane ane the ane the the ane ane anond ane the an the an anon ane an an an ano an anonoure an an an an an ane ane anon an an an an an and ane ano and ane an anond the an the the the the an and the the the the the the the the the the the the th<CUTOFF>\n",
      "\n",
      "Prompt 4: Why is this code not working: `1+\"A\"`? Can you help?\n",
      "Model output (raw): Why is this code not working: `1+\"A\"`? Can you help?\n",
      "I an an the the an an an the ano an the at the an the an an an a ano ano a the an an the the an t a an an an ano an an an an the ano an an an athe an the a an an an an an an ano an an an an a an an an an an an an a an a an a an an an an ano an an an an an an ano the an an an an the ano a an a an an a a an an a a the a an a an an the an the an an a an an ano an an ane the an the an the t an an an a a the a a a an an an an an a the ano an a an an an a an an an an an an ano an an an the ane ane ano ane are an are an ane an an the an a are the a a a an a ane an an an anore anoure an an the an an an an an anoure an ar an an an a a an an a a an an an an an an an the ano an an are the an an an anoure anoure ane and ano an ane ano ano an anoure an anoure an ano ano an the anore a an anore ane anousthe thand the an an ano an ane an the the the the ane ane ane an the the the an the a an the a the the ano ano an an an an an an an an an and an the an an and an ano an an an anouson the the the the the the the the the the<CUTOFF>\n",
      "\n",
      "Prompt 5: Why is Java better than Python?\n",
      "Model output (raw): Why is Java better than Python? a a an athe a a a a anous anour an a an athe an an an an an an an ane an an an an an ane a ano a a anousousthe a an an a a an an an a a an an an an an an an an a an a an ane a anour an an an an an an an a an ane an a an an an ane an ane ano an an an an a an an a a a a ane ane a a an a a an an an ane a an an an an an ane an an an ano a an a a a a an a an a an an ane a a a ane a ane anoure an an an an a a a ane a an an a a a a a an a an an an an a a ane and ane a ane ane ano a ane an an ane ane ane an an ane ane ane ane an an an an ane an an a ane an an a an ane a ane a a ane ane ane a ane an ane ane a an ane ane a an a an and and ane an ane a a a an a a a an an a a a a a an anore an an anone an and ane ane anere anourerere anere anore ane anoure anore anouse an ane anonore and anore ane ane anore ane ane anere and and than an and ane ane anere anere and the an and ane and thanthe and an ane an an an the an an ane an ane an an an an an an and ane ane an ane and an an ane anond ane and anond and and the an and <CUTOFF>\n",
      "\n",
      "Prompt 6: Why is Python better than Java?\n",
      "Model output (raw): Why is Python better than Java?\n",
      "I a a an a a a a anoust an a and and a an a a anouthe an a ano an a a a ano a a a a a a anoure an a a ano a a a a a a anoure an an a an anouso a a a a a an ane a an a a a a an an a a anour a an a a an the an an a an a a an a an an ane an a a a an an an a an an an an a an an a an a and anouthe anouso a a a an a a a an an ane a a a a a a an a an ane a a ane a an a a an a a anouse an an a an an a an an a a an an a a a a a a a a a an a a ane ano a a a a anon a an an ane a and a anoure a and ane an ane and ane anoure anore a an an an a ane ane ane ane an an a a a a a a an ane ane a ane a a ane ane ane a a an anour ane a ane and and an ane an an an a an a an a and a an a a an and and and and an anoure and and and anore anomane anoure anoure ane and anoure anoure an ane and anor and anor and and and and and and and and and and and and anono anoure anthand and and ane ane and and and the anone an an an an an an an and anore anore an an an an ane and anonond an an and and and and and and anonond and the and anthand a<CUTOFF>\n",
      "\n",
      "Prompt 7: What is the purpose of the main() function in C? I know that it is where the code starts executing, but I am not 100%. Can you help?\n",
      "Model output (raw): What is the purpose of the main() function in C? I know that it is where the code starts executing, but I am not 100%. Can you help? an an the an an t an an an an an an an an an an an an an an an an an an an an an an an an an ano an an an an an an an an an an an an ano an an an an an ano an an an an an an an an an an an an an an an an an an an an an an an a anoure an an an an an an an an an an an an an an an a an a an an an an an an an an an an an a an an an an an an ano an an an an an anouan an an and an an an an an an anoure an and ane an an an ane anoure an an an an anoure an an an an an an an a an anoure ane a an ane and an ane an an an an an an an an an an an anoure an an an a an an an an a an an an and and an an anoure anthan and anore and anthanoure and an and anouan anouanoure anoure an anoure anore an anoure anoure anoure and an an and and and an and anouse an an and and anore an the anond and and anond an an ane and an an an an ano an anoure ano an an an an an and and and an and and and and an an and anon and the and the the the thanthe the the the the the the thanthanthe the than the the the an than athe anousthan the than the <CUTOFF>\n",
      "\n",
      "Prompt 8: What is coding?\n",
      "Model output (raw): What is coding? at an a aroure an an an an and an anoustha an a a an an a a a anoure an an a an an an an an ane an ano an a an ano a an a an anoure a a an a a anour an a an a a an an a a a a a an an an a an an an a a a an a a an an a a anouse a an ano a a a a a a an an a a a a an an a a a anoure a a a a a a an ane a a a a a anoure an a a an a a an an anoure an a a a an a a an an a a a an a a an a an an an a a a anouan a a a an anour a a a an a a a an a a anour a a an anore a a a a a and an a a ane an and an and a an and ane ane ane ane ane ane and ane an a a an an an a a ane anore an a a a a an a a a a anoure ane ane an ane ane a a a a anoure an a a a and and a a and and a a a a a a a an a an a a a a a and anour and an and anoure anore and and and and anoure anouand an anoure anonouthane anond and an an anore and and an a an anoure anoure and and and and and ane ane anor and anor and and and and and and and and and an ane and a an a a an anore and and an ane an an an and anore anond and and and and and and and and and and t<CUTOFF>\n",
      "\n",
      "=========================== BATCH 1500 ===========================\n",
      "Prompt 0: Why does Earth orbit the Sun? I think it has to to with gravity, but I am not sure.\n",
      "Model output (raw): Why does Earth orbit the Sun? I think it has to to with gravity, but I am not sure. the the the the the the t t the the the the the the the the the the the the the the the the the the the t the t the the the the the the the the the the the the the the the the the the the the the the the the the the the the the the the the the the the the the t the the the the the the the the the the the the the the the the the the the the the the the the the the the the the the t the the the the the the the the the the t the the the therere the therere the there therere the the the there the the the the the the the the the the the the there the the the there the there the there the the the the the the the the the the the the there the the thererererere the the therererererererere there the the the the the the there the there there the the the therere the the the the therere the the therererererere there thererere there the thererere the the the the the the the the the the t the the the the the the the the the the there the the the the there the the the the the the the the the the the the the the the the the<CUTOFF>\n",
      "\n",
      "Prompt 1: Hello world, \n",
      "Model output (raw): Hello world, the the the athe the the the the the the the the the the the the the the the the the the the the the the the the the the the the the the the the the the the the the the the there the the the the the the the the the the the the the the the the the there the the the the the the the the the the the the the the the the the t the the the the the the the t the the the the the the the the the the there the the the the the the t the the the the t the the the the the the t the the the the the the t t there the therere thererere there there therererere the the the the the there the the the the the the there the the therere the the the there the the the the there the there the the the the the the the the therere the therererererere the therererererere there therere the the the the the the the there the the there the the the the the there the the there therere there there there thererere the therere therere the the the the the the the the the the there the the t the the the the the the the the the the the the there the t<CUTOFF>\n",
      "\n",
      "Prompt 2: How to use ChatGPT? How should I use ChatGPT?\n",
      "Model output (raw): How to use ChatGPT? How should I use ChatGPT?\n",
      "I t the the the the ano t the the the athe the the the the t the the the the the the the the the the the the the the the the the the the the the the the the the the the the the the the the the the the the the the the the the the the the the the the the the the the the the the the the the the the t t the the the the the the the the the the the the the t the the the the the the the the the the the the t the t the the t the the the the therere the there the there there t the the there the the there the therererere the the the the there the the the the the the the the the the the there the the the the the the the the the there there the the the the the the the the there the the therererererere the therererererererererere the the the there the the the the the there the the therere the there the the the the the the there there the the therererere there the the therere there the there the the the the the the the the the t the the the there the the the the the the the the the the the the the the the the the the the <CUTOFF>\n",
      "\n",
      "Prompt 3: My code does not work. What should I do? I have been working on my code, and it does not work.\n",
      "Model output (raw): My code does not work. What should I do? I have been working on my code, and it does not work. the the the the the the the the the the the the the the the the the the the the the the the the the the the the the the the the the the the the the the the the the the the the the the the the the the the the the the the the the the the the the the the the the the the the the the the the the the the the the the the t the the the the the the the the the the t the there the the there the the the the the there there there the therererererere the the the therererere there the t the the therere the the the the the the the the the the the there the therere there there there the the the the the the the the the the the thererere the the therererererere therererererererere there the the there the there the the the therererere thererere the the therere there the the the the thererere therere there thererere the thererererererererere there the the t the the the therere the the t t the the the the the the the the the the there therere there the the the the the the the the the the the there the the the the the the the the<CUTOFF>\n",
      "\n",
      "Prompt 4: Why is this code not working: `1+\"A\"`? Can you help?\n",
      "Model output (raw): Why is this code not working: `1+\"A\"`? Can you help?\n",
      "I the the the the the the the the the the the the the the the the the the the the the the the the the the the the the the the the the the the the the the the the the the the the the the the the the the the the the the the the the the the the the the the the the the the the the the the the t the the the the the the t the the the the the the the the the the the the the the the the the the the the the the the the the the the t the the the the there the t the the the the s thererererere the there therere the the the the the t the the the the the the the the the the the there the the the therere the there the there there the the the the t the the the the the the the the the the therere the thererererererererere therere the the the the the the therere the there therere there the the the the the the the therererere the the the there the the there therere therererere the therere the the the t the the the the the the the the the the the the the the the the there the the therere the the the the the the the the the the<CUTOFF>\n",
      "\n",
      "Prompt 5: Why is Java better than Python?\n",
      "Model output (raw): Why is Java better than Python? I a a a a a a a a anoure a the a the the the the the the the the the the the t the the the the the the t the the the the the the the the the t the the the the the the the the the the the the the the the the the the the the the the the t the the the the the t the the the t the there the the the the t the the the the the the the the the the the the the the the the the the the the the the the the t the the t the the the the t the the the the the the the the the the the the t the s the the the thererererere the the therererere the the the t the there the the the the the the the the the the the thererere the the the the the there the there the the the the the the the the the there there the the there therere the therererere the therere there there the there the the the the thererererere there the the therere there the the therererererere the the the the the the the thererere the the the therere the the t t the t the the the the the t the the the the the the the the the the the there therere the the the t the the <CUTOFF>\n",
      "\n",
      "Prompt 6: Why is Python better than Java?\n",
      "Model output (raw): Why is Python better than Java? the the the the the the t the the the there the the the the the the the the the the the the the the the there the the t the the the the the the the the the the the the the t the the the the the the the the the the the the the the there the the the the the t the the the the t the the the the the the the the the the the the the the the the the the the the the the the the the the the the there the the the the the the the t t the the the there the the the there the t t t t there the the t the therererererere the the therere the there the the the thererere the the the the the the the the the there the the thererere the the the thererererere the the the the the the the the the the there the there therere there the therererererererererere the the the the the the the the the therererere the the the the the the there the the the the the the therere therere thererere there there therere the there the the the t the the the there there the the the the the the the the the the the there the the there the the the the the t<CUTOFF>\n",
      "\n",
      "Prompt 7: What is the purpose of the main() function in C? I know that it is where the code starts executing, but I am not 100%. Can you help?\n",
      "Model output (raw): What is the purpose of the main() function in C? I know that it is where the code starts executing, but I am not 100%. Can you help? the the the the t the t the the the the the the t the the the the the the the the the the the the t the the the the the the the the the the the the the the the the the t the the the the the the the the the the the the the the the the the the the the the the the the the t t the the the the the the the the the the the t the the the the the the the the the the the there the the there the the the therere the the the the therere the the t the the the the the the the the the the there the the the the the the therere there there there the the the the the the the the the the the the therere the thererererererere therererererererere there the the the the the the the the there the the there the there the therere the the there the therererere the the the therere there the therererererere therere therere the the the t the the there the t the t the the the the the there the the the there the the the the the the the the the the the the the the the the the there the the the the the the the the the the the the the the the t<CUTOFF>\n",
      "\n",
      "Prompt 8: What is coding?\n",
      "Model output (raw): What is coding? the the the the the the the the the the the the the the the the the the the the the the the the the the the the the the the the the the t the the the the the the the the the the the the the the the the the the the the the the the the the the the the the the the the the the t the the the the the t the t the the the the the the the the the the the the the the t the the the the the the the the the the the the the the the the the the the the the the the the the the t t the the t therere the therere the the t therererere the the therererererere t the t the the there the the the the the the the the the the the the the the there the the the the there the the the the the the the the s the the the there the the there therererere thererererererere the the the the the the the the the the the the therererere thererere the there the the the the the the there thererere therere there the the therere therere there the there the the t the the the the the the t the the the the the the the the the the there there the the the t<CUTOFF>\n",
      "\n"
     ]
    },
    {
     "data": {
      "image/png": "[encoded data removed]",
      "text/plain": [
       "<Figure size 432x288 with 1 Axes>"
      ]
     },
     "metadata": {
      "needs_background": "light"
     },
     "output_type": "display_data"
    },
    {
     "data": {
      "image/png": "[encoded data removed]",
      "text/plain": [
       "<Figure size 432x288 with 1 Axes>"
      ]
     },
     "metadata": {
      "needs_background": "light"
     },
     "output_type": "display_data"
    },
    {
     "name": "stdout",
     "output_type": "stream",
     "text": [
      "=========================== END OF EPOCH ===========================\n",
      "Prompt 0: Why does Earth orbit the Sun? I think it has to to with gravity, but I am not sure.\n",
      "Model output (raw): Why does Earth orbit the Sun? I think it has to to with gravity, but I am not sure. an an the a an a a ano a a the the a a a a a a a ano a a a a ando the a the the a a the a a the the a a a a a a the a a a a a a a a a a a a a a the a a a and a and a a a a a a a a a ano a a a a a a a a a a a ano a a a ano a a a a and a the a a a a a a a a a a a and the a a a a a a a a a a a a a and a a a a a a a a a a a a a a a a a a a a a a a a a a a a a a a a a a a a a a arerea and a a a a a a a therererea a a a a and andorea a a a and a ando and theand and ano a a arerere a a a a a a a a a a tha a a a a a a a a a a a a a a a a a a a and a and a a a a a a a a a a a a and and a a a a a a a a tha a a a a a a a a a a a areandorea tha areand andofoforeand and arearerereareandeand arerea a a a a and and a a and a and and tha and area arerererea a and and and and and thand thand thand and and theand therererererererererereand thand and serererererere the the the tha a andere the a the se the therere the se stha the thand and and thand thand the the tha the the the thand the the thand the thand tha the the the th<CUTOFF>\n",
      "\n",
      "Prompt 1: Hello world, \n",
      "Model output (raw): Hello world, ane arean anean ane anerea and and a anea anea a aneand a a anea anea a a and anea a and a tha a a a a a a a a a a a anoreand a a a a a anoforere a a a and a a a a a a and a a a a a a a a and a anorea a a a a and a anorea a a a a a a a a a a a a a a anorea a a tha a and a a a a a a a a a a a a a a a a a a a a a a a a a a a a a a a a and a a a a a a a a a a a a and a a a a anorea a a a a a a a a a a anorea a a a anorea a a a a and and a a a a a a a a a a a and a a a a a a and a anorea a a and a a a a a a a a a a a aneand a and a a a andererererererererea a a a a and tha tha tha a a a a a a a a a a a a a and a a a andea a a a a a a a a tha a a thand a and a a a a a a a a a a a a a a a a a a and and and a and and thand and a andeand andeandea andea a a and a a and a anoreand a a a a and and and area a thand and a a a a and and a and thand thand thand and and a a thand theand theand and thand thand and tha a therea tha there the tha a tha a a a a and a thand thand thea tha tha and tha and and a a a a thand tha th<CUTOFF>\n",
      "\n",
      "Prompt 2: How to use ChatGPT? How should I use ChatGPT?\n",
      "Model output (raw): How to use ChatGPT? How should I use ChatGPT?\n",
      "I an an an anow an an athe an ano ano ane the a an an ano an an anore an ane ane an an anofore an a the an ane a ane ane an an an the ane a an the an an a an a an ane ane an ane ane ane ane a ane a a a a a a ane an the an the a a a the a a a the a a a a the the a a a a a a a a a a a a a a a a a a a a the a a a thea a a a a a a a a a the a a a a a a a a a a a a a a a a a a a a a a a a a a a a a a a a a a a a a a a a a a a a a a a a a a a a a therererererererererere a an a anorererere a thererererere a arererere arere a a a se se se there the sthe the a a a a a a are a a a a a a a and and a than a a a a a a a and the a a a a a are a a a a a a a a a se a areand and thand tharerea arererearereand and arererearearea and a and arereand and and and tha a thand and thanereareand the a a thand therere and the thand thand thand and sereand there there the theand stherere the sere se serere the the the the the se a so se se the se se se the se and the thand se the a there a sthe than the the the the the the the the the<CUTOFF>\n",
      "\n",
      "Prompt 3: My code does not work. What should I do? I have been working on my code, and it does not work.\n",
      "Model output (raw): My code does not work. What should I do? I have been working on my code, and it does not work. I than the the the the the the the ano an the the an a ano an the the a the the the the an athe a an the an an an an an ano ano an an an the an a a a ano an ano a an the an athe a the a a an a the the a the the the the a the a an a the a a a a the a the the a a a a ano a the an a a a a a a a a a a the a a ano a the a an a are a the a an a a the athe an a a a a a a a a a a a a a a the a are a a and a are a a a and are a so and arererere a a are there anerererere are an are a are are therere a are a the a a an a a are a a a a a are and a a a a arerere an a a are and and and a and an a a a are a a a an a a a and and thand and and and therererere thererererererereareand athearearea and and and ane and and and and athare are arerererere and and and thereand thand thand there the the thererererererere there therere there the the serere the the the the the the the the se the the se the the the the the sthe and the thathe and the there the the the the the the the the the the the the the the the the the the the the t<CUTOFF>\n",
      "\n",
      "Prompt 4: Why is this code not working: `1+\"A\"`? Can you help?\n",
      "Model output (raw): Why is this code not working: `1+\"A\"`? Can you help?\n",
      "\n",
      "\n",
      "\n",
      "\n",
      "\n",
      "\n",
      "\n",
      "\n",
      "\n",
      " are athathe s athe sthe athe s athe athe are athe s athe s athe a s are athe so are the athe s athe a s s a so the the the are so s are are s athe athe the a a a s are a s a a a sthe the a a a so so se the the a a s the so the s sofo s so the so the sthe so se a so the the s the the the the so the so s s the the s the s s s a the the s a s the the so s the the s so so the the the s the s s so the so so the s the the the sthe the s the s s s sore so s s s s se sthe the the so so sore sore are sore s s s s s se s sore the the sore the so so the a the the s the s the se a the the the se a the the the the the the the the the sthe s the s s the sore the the the the the the the the the therere the are are are are a an are the the the the sore the the the the the the the the the sthe sthe sthe the the the sthe se sthe the sthe the sthe sthe the sthe sthe sthe sthe sthe s s the the the the s sore s the s s s s s sthe s the the sthe the s the the sthe the sthe the the the the the the sthe the the the the th<CUTOFF>\n",
      "\n",
      "Prompt 5: Why is Java better than Python?\n",
      "Model output (raw): Why is Java better than Python?\n",
      "I a an anou a a a a anouso a a a a anousousthe the a a a a a a a a a a a a a a anofore a a a a anore a a a a a a a a a a a a a a a anoreand a a a a a anore a a a a a a a a a a anorea a a a ane a anore a a a a a a and a a a a and and a a a a a a a a a a a a and a a a a and a a a a a a a a a a a a andea a a a a a a anorea a tha a a a a a a a a a a a a a a a a a a a a a a a a a a a a a a a a a a a anorea a a a and a a a a a a a a a a a a a a a a a a a areand andea and a and a a a a a a a a a anorea a a tha a and a anorea a a a a a a a and a a a and a a a a tha a tha a a a a a a a a a a a a a a a and a anorea a a a a a a a a anderea a a a a a a a a a a a a a a a a a a a a a a and thand a a a andorererea thand andeandeareareandeandea a andeand a a a andeand a a a a and a and a a and and and a and a a a andorea andeand tha thand thand thand thand thand thand theandeand and thand thand theand serererea a the tha the tha sorea tha a se sea se the tha the tha so tha so tha tha and a a a tha thand tha the the the the <CUTOFF>\n",
      "\n",
      "Prompt 6: Why is Python better than Java?\n",
      "Model output (raw): Why is Python better than Java?\n",
      "I a a a a a a a anoustha a a a a a a a a a a a a a a anofore a a a a a a a a a a a a a a a a a a a anorea a a a a a a a a a a a a a a a a a anorea a a a a a a a a a a a a a a anorea a a a a a a a a and a a a a a a a a a andea a a a a a a a a a a anorea a a a a a a a a a a a a a a a a a a a a a a a a a a a a a a a a a tha a a a a a a a a a a a a a a a a and a a a a a a a a a a a a and a a a a a a a a a a a a a a a a a a a a a a a a a a a a a a a a a a andorea andorea a a a a a a a a a and a andorea a sorea a a a a a andea a arerererea and and a a a a a a tha a a a a a a a a a a a a a a a a a a a a a a a a a a a a a a a a and and a a a a a a and a a a a a a a a a a a a a andorereand a a thandoreand a andeand andoreareandearea andea a a andea andea a andeandea a thand a a and and thand and a a a a and a and and thand thand thand thand a seand thand sorea sorereand sorereand thand thand tha sererere tha se the tha tha tha a tha tha se se the therea tha se seand stha thand and a a sofoforea tha the the tha the th<CUTOFF>\n",
      "\n",
      "Prompt 7: What is the purpose of the main() function in C? I know that it is where the code starts executing, but I am not 100%. Can you help?\n",
      "Model output (raw): What is the purpose of the main() function in C? I know that it is where the code starts executing, but I am not 100%. Can you help?\n",
      "\n",
      "\n",
      "\n",
      "\n",
      "\n",
      "\n",
      "\n",
      "\n",
      "\n",
      "\n",
      "\n",
      "\n",
      "\n",
      "                        arourourourourouro                          anourouroourouroutha                                                                                                        aroooooooooooooourourourourooooouarooorourourourourourourouroure                                                                                                arorooourourororororoorororororoororororororourororeanororororerororere                                                                                                                                            aroorourourourorourourourourorourororororororororourorouarorourourouarourorourorororororororororororororororororororororororororororororeanororeanomanorororanoreanorororerorean                       thanorean   than               tha                       anorean                                            anorouroromanoromanoromanororofofomanorororofofoforeandorore thandomanoromanoromanomanomandoreandore thanore      than    than thandore than<CUTOFF>\n",
      "\n",
      "Prompt 8: What is coding?\n",
      "Model output (raw): What is coding? athe a a aro ano a a anoure a a and a a anofor a a a a a a a a a anorea a the a a a a a a a a a a a a a a anorea a a a a and a a and a a a a a a a a a a a a a andorea a a a a a a a a a a a a a a a a anorea a a a a and a a and a a a a a a a and a a a a a a a a a a tha a a a a a a a a a a tha a a a a a a a a a a a a a a a a a a a a a a a a a a a a a a a a a a a a a a a a a a a a a a a a a a a a a a a area a a a a a a a a a a a a a a a a a a a a a a a a a a anorea a a a and a a andea a a a a a a a a a and a a andorea a area a anorea andorea arererererea a a a a and a a a a a a a a a a a a a a a a a a a a a a a andea a a tha a tha and a a a a and a a a a a a a a a a a a a a a a sorea a a and a and tha and andoreand and and and areareareandoreareand a a a a a a and a a a and a a a and and andoreandorea and tha a a a a a tha and thand tha thand thand and and a thand thand sthand tha sorerereand thand tha tha sererea tha sea the a tha so sea a se and se the se thand tha a the so tha thand so a tha a a a thand tha s<CUTOFF>\n",
      "\n",
      "Epoch 4\n"
     ]
    },
    {
     "data": {
      "application/vnd.jupyter.widget-view+json": {
       "model_id": "7b3bf70fe4a4495eb30cf851b33a1aed",
       "version_major": 2,
       "version_minor": 0
      },
      "text/plain": [
       "  0%|          | 0/1608 [00:00<?, ?it/s]"
      ]
     },
     "metadata": {},
     "output_type": "display_data"
    },
    {
     "name": "stdout",
     "output_type": "stream",
     "text": [
      "=========================== BATCH 750 ===========================\n",
      "Prompt 0: Why does Earth orbit the Sun? I think it has to to with gravity, but I am not sure.\n",
      "Model output (raw): Why does Earth orbit the Sun? I think it has to to with gravity, but I am not sure. I the t the the the t the t the the the the t the t the the the t the the the the so t the the t the so t t t so the the t the t the the the sthe t the the the sthe the t t stherere t sthe t t so the the t t the sthe t t the there t the t the the t the the t t therere the there t st the t the the the t t therere s t the t the the the t t the the the therere the t st t t there the t therere s t t t therererere therere t t t sto st st stherererererererererererere thererererererere t t t t t therererere the t the the the t t there therere thererere the the thererere t therererere there the the the the the t the s s s the the there there the therererererere thererererererere thererere therere the there there the t there therererererererere the the therere thererere t there the there therererererererere there sthere therererererererererere t t t t t t t t t t t t t thererere t t t t t t s t t thererere t t the t t t t therererererererererere the there the the the the t the t t therere the there the the the the th<CUTOFF>\n",
      "\n",
      "Prompt 1: Hello world, \n",
      "Model output (raw): Hello world, to the the the the the the the the the there t the the there t the the there the st the the the t sthe the the the st the the t the the the the the the t therere the st the t sthe the t the there t sthe the st the the the t there the t the the t st therere the t the t the the there t the the t t there t sthere there t t there t st therere there the t t there the the the t the t the the the the t the the therere the sthe t t the the the t t therere the thererere t t t thererererererere t t t st st st t therererererererererere thererererererererere t s t t thererererererererere t t the t t t therere t there therererererere t thererere the thererere t therere t the t t the the t the s the therererere the the therererererere thererererererererererere there the there there the the the t thererere the there the the t the there t there t the there the thererere thererererere therere therengererererererererere t t t t t the t t t t t t t thererere t t t t t t therererererere t therere t t thererererere thererere ther<CUTOFF>\n",
      "\n",
      "Prompt 2: How to use ChatGPT? How should I use ChatGPT?\n",
      "Model output (raw): How to use ChatGPT? How should I use ChatGPT?\n",
      "I the the the the an the there the the the there t the the the the the the the the the the the the so the t the the the the sthe the the t sthe sthe sthe the the the t the the sthe the t sthe the sthe sthe t the the t the t sthe sthere the t the t the sthe sthe there st st the the the t t sthe there the the the t there t sthere the the t the there t sthe t t the s the the thererere t t the therere t there t t therere t sthe there t thererererere st t t t t t therererere t st stherererererererererererererererere st s s t s there thererere there t there the the there there therererererere therererere t the thererererererere the the t t the t t t t t s there there therererere thererererere the thererererererererererere there there thererere the the the there thererererere the the t the the the there the therererere the there the t therere there t thengenthereresthererererere t t t t t t t t t t t t t there the t t t t t t t the therererere theresthe the the the therererengerererere there t t therere the t the t<CUTOFF>\n",
      "\n",
      "Prompt 3: My code does not work. What should I do? I have been working on my code, and it does not work.\n",
      "Model output (raw): My code does not work. What should I do? I have been working on my code, and it does not work. I the t the the the the t the the the the the t the the the there the t the the the t the so t the the the the t the the so t the the t the sthe therere the t the t there the the t t the there t s the thererere t the the the there the the t t t t there therererere the t t t the t therere the the t t t so the there t there there the there t t t therere there t therere t thererere s t t t t thererere thererererererererere t s t therererererere t therererererererere t s t thererererererererererere t t t t t t the therere the the the there therererererere thererererererere there the the t the t t t t st t t therere thererererere thererererererererererererererererererererererererere the the the the the t thererererererererererererere the t the thererere t t therererererere therererererererere therere t therererest t thest t t t t t t the t the t t t t t thererererere t t t t the the therere the the t then t thererererererererererengere there t t thengere t there t t t the t therererere theresthenthe the the the t<CUTOFF>\n",
      "\n",
      "Prompt 4: Why is this code not working: `1+\"A\"`? Can you help?\n",
      "Model output (raw): Why is this code not working: `1+\"A\"`? Can you help?\n",
      "\n",
      "I that the the the there the the the the the the the so the the the the the t the so the the the the the the the the the t so t the the st so the t the the t the the s the the the t sthe the so s the t s so there the st t st the sthe t sthe the st the t the t the sthe the the st t the st s the the there sthe st so t t the sthe t t the the the the t sthe s sthe the the the s sthe the s sthe t the s t sthere the sthere the t s stherererere there st t stherere st stherere sthere there sthererere stherererere s s s s st s sthererere there t the s st the st the there the stherererere therererere t thererere thererere the the t t the t s there s s s sthere therererere the therererererere t therererererererererere the therere the the there the t t the thererererererererere t the there the sthe t the t t thererere therererere the there t therere sthererererere t t there t st t st st t t t t t t t therererere st s t t t st the therere st st the t the the thererere therererere the there the the the the the there t t <CUTOFF>\n",
      "\n",
      "Prompt 5: Why is Java better than Python?\n",
      "Model output (raw): Why is Java better than Python?\n",
      "I the the there the the the the there the there the the the the the the the t there t the sthe the the the the the the st the the the the the s there t the sthe sthe t the the the the the the st t the the there the t the the sthe t t there sthe there st t the st the t there there the t there t there t the the t there the the t sthe t t the the there the t the the st there there the there the t t sthe t t the t the t there therere t thererere the t t thererererererere t t therere st t sthererererererererere the therererererere t t s t s t therererererererere t the the the st the there the therere t there thererere t therere thererere the the t t t there t the the t therere thererererere thererererererere thererererererere therererere there there the the the t therererere thererere the there there the the t the the t therere there there therererere the t t the thererererererere t t t t t t t there the t t t t t the therere t t t t t the the therererere the the t the t therererererererengere the the the the t t<CUTOFF>\n",
      "\n",
      "Prompt 6: Why is Python better than Java?\n",
      "Model output (raw): Why is Python better than Java?\n",
      "I the the the there the the the the the the the the there the t there the st there t the the the the the the the the t the the the sthe the the t the st the sthe t the the the the st the the st the t the the the sthe there t st therere t t the t there the t t t there there the the t t sthere the sthe t the t the t the there the t t t therere t the the the t t there the the there the t there sthere st the t t the t t there therere t therererere t t therererere t t t t sthere t sthere st therererererererere t therererererererere t t there t t therererere there t t the the there the t the thererererere the therere t therere therere there the the the t t t the the t s t therererererererere therererererererererererererererererererere there the the therere the t the the the therererererererere t the t there therere t t the the there the therere there t thererere thererererere the therere t t t t the t t t t t t t the thererere the t t t t the therererere t there t t the thend the therererengere t there t t t there<CUTOFF>\n",
      "\n",
      "Prompt 7: What is the purpose of the main() function in C? I know that it is where the code starts executing, but I am not 100%. Can you help?\n",
      "Model output (raw): What is the purpose of the main() function in C? I know that it is where the code starts executing, but I am not 100%. Can you help? I t there t the t the the the the the the the the t t the t the there t the the the the the the t the t the so t the the t t there the the t t there the the t t there the the t the st t therere the t t the the t t therererere t the t the the the the the t the the the s the the t the the t the the t there the t the t t t the thererere t thererererere t t thererererererere t t t s t t t so s thererererererererererererererererererere t t t t thererererere t the the t the the the thererere therererererererere t therere thererererererererere t t t t the the t t t there s therere thererererererererererere therererererererererererererererererererere there the the the t the t therererere t thererere t t therere there t the thererst t thererere thererererererererererere the thererererererere t t t t t t t t t t t t t t t therererere t t t t t the therererere there t t t the therererererererere there the the the t the the the there t there the therere the the there the the the the the the t the the the t thesthe there<CUTOFF>\n",
      "\n",
      "Prompt 8: What is coding?\n",
      "Model output (raw): What is coding? I the the the the the the the there t there t there t the the the the the the t so t the sthe t the the t the so t the the the s the the s there t the there the the the t t therere the the t the the there the s t the the there t the t the t the st the t the t there t the the st there therere t t there t there the the t t t t thererere t the the the the the the the st sthe t t t the sthere t t t the t there the the t the the the the the the the there thererere t t t thererere t st st t t t therererererererererererere sthe thererererererererere s s t t t therererere the the t t the the t the there the there therere the thererererere there there thererere t t t the t the t t the s s there thererererere the thererererererererererererererererererere t therere the there there t the there there thererererere the the t the t there the the there therererererere t t t therererererere theresthererererest st t st t t the t t t t t t t t therererere s t t t st t there therere t t there t t t the thererererererererere the<CUTOFF>\n",
      "\n",
      "=========================== BATCH 1500 ===========================\n",
      "Prompt 0: Why does Earth orbit the Sun? I think it has to to with gravity, but I am not sure.\n",
      "Model output (raw): Why does Earth orbit the Sun? I think it has to to with gravity, but I am not sure. I the the the the the the the the the the the the the the the the the the the the the the the the the the the the the the the the t the the the the the the the the the the t the the the the the the the the the the the t the the the the the the the the the the the t the the the the t the the the the the the the the the the the the the the the the t the the the the the the the the the the the the the the the the the t t the the the the the the the the the the the the sthere s the the the the the the the the the the the the the the t the the the the the the the the the the the the the the the the the the the the the the the the the the the there there the the therererere the the the the the the the the the the the the the the the the the the the the the the the the the the the the the the the the the the the the the the the the the the the the the the the the t the the the t the t t the the the the the the the the the the the the the the the the the the the the the the the the the the the the the the the the th<CUTOFF>\n",
      "\n",
      "Prompt 1: Hello world, \n",
      "Model output (raw): Hello world, a wo the the the the the we the the the the the the the the the the the the the the the the the the the the the the the the the the the the the the the the the the the the the the the the the the the the the the the the the the the the the the the the t the the the the the the the the the the the the the the the the the the the the t the the the the the the the the the the the the the the the the the the the the the the the t the the the the the the the the the the the the the the the the the the s the the the the there the the the the there the the the the the the the the the the the the the the the the the there the the the the the the the the the the the the the the the the the the the the the the the the the the the the therere therere the the the the the the the the the the the the the the the the the the the the the the the the the the the the the the the the the the the the the the the there the the the the the t t t t the the the the the t the the the the the the the the the the the the the the the th<CUTOFF>\n",
      "\n",
      "Prompt 2: How to use ChatGPT? How should I use ChatGPT?\n",
      "Model output (raw): How to use ChatGPT? How should I use ChatGPT?\n",
      "I the the the the the the the the the the the the the the the the the the the the the the the the the the the the the t the the the the the the the the the the the the the the the the the the the the the the the the the the the the the the the the the the the the the the the the the the t the the the the the the the the the the the the the the the the the the the the the the the the the the the the the the the the t the the the the the the the the the t the the the the the the the the the the the the therere the the the the the the the the the the the the the the the the the the the the the the the the there the the the the the the the the the the the the the the the the the the the the the the thererererere there the the the the the the the the the the the the the the the the the the the there the the the the the the the the the the the the the the the the there the the the the the the t the the the the the t the the the the the the the the the the the the the the the the the the the the the the the the the<CUTOFF>\n",
      "\n",
      "Prompt 3: My code does not work. What should I do? I have been working on my code, and it does not work.\n",
      "Model output (raw): My code does not work. What should I do? I have been working on my code, and it does not work. I the the the the the the the the the the the the the the the the the the the the the the the the the the the the the the the the the the the the the the the the the the the the t the the the the the the the the the t the the the the the the the the the the the the t the the the the the the the the the t the the the the the the the the the the the the the the the the the the the the t the the the the the t the the the the the the the the the the the the therere the the the s the the there the the the the the s the the the the the the the the the the the the the the the the the the the the the the the the the the the the the the the the the the the thererere the the the the the the the the the the the the the the there the the the the the the the the the the the the the the the the the the the the the the therere the the the the the the the t the the the the the t t the t the the the the the the t the the the the the the the the the the the the the the the the the the the the the the the the the the the the t<CUTOFF>\n",
      "\n",
      "Prompt 4: Why is this code not working: `1+\"A\"`? Can you help?\n",
      "Model output (raw): Why is this code not working: `1+\"A\"`? Can you help?\n",
      "I the the the the the the the the the the the the the the the the the the the the the the the the the the the the the the the the the the the the the the the the the the the the the the the the the the t the the the the the the the the the the the the t the the the the the the the the the the the the the the the the the the the the the the the the the the the the the the the the t the the the the the the the the the the the t the the the the the t the the the the the the the the the the the there the the the the the the the the the the the the the the the the the the the the the the the the the the the the the the the the the the the the the the the the the the the the the there the the thererererere the the the the the the the the the the there the the the the the the the the the the the the the the the the the the there the the the the the the there the there the the the the the the the t the the the t t t t the the the the the the the the the the the the the the the the the the the the the the the the the<CUTOFF>\n",
      "\n",
      "Prompt 5: Why is Java better than Python?\n",
      "Model output (raw): Why is Java better than Python? I the the the the the the the the the the the the the the the the the the the t the the the the the the the the the the the the the the the the the the t the the the the the the the the the the the the the the the the t the the the the the the the the the the t the the the the the the the the the the the the t the the the the the the the the the the the the the the the the the the the the the the the the the the t the t the the the the the the the the the the the t the the the the the the the the the the the the the therere the the the the the the the the the the the the the the the the the the the the the the the the the the the the the the the the the the the s the the the the the the the the the the the thererererere the the the the the the the the the the the the the the there the the the the the the there the the the the the the the the there the the the the the the there the the the t the the the the the the the the t the t t t the the the the the the the the the there the the the the the the the the t<CUTOFF>\n",
      "\n",
      "Prompt 6: Why is Python better than Java?\n",
      "Model output (raw): Why is Python better than Java? I I wavere the the the the the the the the the the the the the the the the the the the t the the the the the the the the the the the the the the the the the the the the the the the the the the the the the the the the the the the the the the the the the the the the the t the the the the the the the the the the the the the the the the the the the the the the the the the the the the the the the the the the the the the the the the the t the the the the the the the the t the the the the the the there the the the the the there the the the the the the the the the the the the the the the the the the the the the the the the thererere the the the the the the the the the the the the the the the the the the the the therere thererere the the the the the the the the the the the the the the the the the the the the the the the the the the the the the the the there the the the therere the the the the the the the the t the t t the the the the the the the the the the the the the the the the the the the the the the the the the <CUTOFF>\n",
      "\n",
      "Prompt 7: What is the purpose of the main() function in C? I know that it is where the code starts executing, but I am not 100%. Can you help?\n",
      "Model output (raw): What is the purpose of the main() function in C? I know that it is where the code starts executing, but I am not 100%. Can you help? \n",
      "\n",
      "\n",
      "\n",
      "\n",
      "\n",
      "                            auarea                                                     arooofoupofore                                                               thouathare                                                                                thare     the               the                the the               thare  the  the       the  the the the the  the the   the        the the the the    the       the   the    the    the the the the the the     the t t  the the   the the  the the the the the the the the the the the the t the    t       t            the the the the  the the the the the the the the the  the the the t t  the the the the the t the the the the the the the t t the the the the t the the the t the the the the the the the the the the the the t the t t t t t t t t t t t t   t t t t t t t t t t t t t t   t t the the the the t t t t t t t t the the the the the t the t the t t t the the the the t t t the t the the the the the the the the the the t t the t the the the the the the the<CUTOFF>\n",
      "\n",
      "Prompt 8: What is coding?\n",
      "Model output (raw): What is coding? the the the the the the the the the the the the the the the the the the the the the the the the the the the the the the the the the the the the the the the the the the the the the the the the the the the the the the the the the the t the the the the the the the the the t the the the the the the the the the the the the the the the the the the the the the the the the the the the the the the the the the the the the the the the the the the the the the the the the the the the the the the the the the the t the the the the the the the there the s the the the the the there the the the the the the the the the the the the the the the the the there the the the the the the the the the the the the the therere the the the there the the therererere therere the the the the the the the the the the the there there the the the the the the the the the the the the the the the the there the the the the the there the the the the the the t the t the the the the t t t the the the the the the the the the the the the the the the the t<CUTOFF>\n",
      "\n"
     ]
    },
    {
     "data": {
      "image/png": "[encoded data removed]",
      "text/plain": [
       "<Figure size 432x288 with 1 Axes>"
      ]
     },
     "metadata": {
      "needs_background": "light"
     },
     "output_type": "display_data"
    },
    {
     "data": {
      "image/png": "[encoded data removed]",
      "text/plain": [
       "<Figure size 432x288 with 1 Axes>"
      ]
     },
     "metadata": {
      "needs_background": "light"
     },
     "output_type": "display_data"
    },
    {
     "name": "stdout",
     "output_type": "stream",
     "text": [
      "=========================== END OF EPOCH ===========================\n",
      "Prompt 0: Why does Earth orbit the Sun? I think it has to to with gravity, but I am not sure.\n",
      "Model output (raw): Why does Earth orbit the Sun? I think it has to to with gravity, but I am not sure. I the and the and a a the a the a a a a a a a the se a and and the and and the a the a a the a and a a and the a a the a a the a a a a a soure a and and a and and and anout and and the the a a a a and a anouse the t a a a a a the a a a and a a a a a a a a a a therea sea a souse a the the t the se a a the a the a se a se the the the the the s a se the t t the the s the a se sere the t sere s se the therere t an serere t se sere se se an therere the there there are arere t s arere s t the s t serere the there the the the se an the the the there the the the the the the t the the therere t t t the t the the t the s s an thererere therere the the thererere t the therererererere the and the there an the the the t t there the thererere there the t the t the there the t the t the the the the t the t there the the the se the t t the t t t t t s t t s t the t t t t t t t serere are t an t s the the the there the the the the t thererere thererere the the the the the the the the t the the the there the there the the the<CUTOFF>\n",
      "\n",
      "Prompt 1: Hello world, \n",
      "Model output (raw): Hello world, a a the a a a a a a dof the a a areand ane and aneand anea a a a anof a the a a a a a a a a a the a a a a a a a a a a a the a a a a a a a areand and anof and a a a anore the and a a a a anouse a and a anofore and a a anererere and and anoreand aneand and anorea aneand and and and anoreand and anousea a a a a a anofore and a a and anorea a and a anorea a a a and anoreand thea a and a a a anound a a aneand a a a a a anoorea a a and a a tousea a a a a a a a anorea a a a thereand a a and and a a and a a a a and anoreaneand and and and anoureanorea a and a a a a thea thererea thea thea the a a a a a a a a a a a a a and a a thea anerereanerea a a a a a a a a a and a a a a a tha a a a a a a a anoureanoureand theand a and tha and and and theareanea area and a and a a and a anoureand and and a and a thand theand a and tha and a and theand and thand thererereand and a therererererererereand and thed thererererere teand thea the the the there and the the a the the the and the the the the the theand and and and and the t<CUTOFF>\n",
      "\n",
      "Prompt 2: How to use ChatGPT? How should I use ChatGPT?\n",
      "Model output (raw): How to use ChatGPT? How should I use ChatGPT?\n",
      "I an an and and a andea the a the a a a the a a a a a a the a a a a a a the a a a a a sof arere and anore a a ane a a and anof the a a a the a a a a a a a a a sof the the t a a a a a a the se the the the a the t a the a se sous t the a the a a sour the t a a the a the a the the the a t the se the the the the sous a t t the a t the the the the the the the s the the s the the the the s se the the the the the s there the t s there s se thererere the the s se thererere se s s serererere therere the the sere serere the s s s s the thererere the the the the the are the the the the the the the therererere t there there there the the the the t the t the t s se there the there the there there there the therererererererere there there the the the there the the the therere therere the the the the t the t t the t the s the the the t there the t the therere the se therere t t t t s t s there the t t t t t the t t the the t t t t t the the thererere the the the the thererererererere the there t the the therere the the the<CUTOFF>\n",
      "\n",
      "Prompt 3: My code does not work. What should I do? I have been working on my code, and it does not work.\n",
      "Model output (raw): My code does not work. What should I do? I have been working on my code, and it does not work. I a and the a a a a a a a a a ande the a a and a a anous a a a and the a a a a a anof the a a a a a a a anoure the a a a a anof and a and and anouse and the a a the the a a a a a a a a a a a areanouse a a the a the a a the a a a a a a a a ane and a a a a a area se a a ane the a se ane the se ane the the se se the se the a a the the se se se se the the the t a se se a t t a sererere thererererere the s se t t t sererere s serererere there the the the the arere are s se s t the sererererere t the t there t are ane the the t an the the the the therere the the the there t the the the the the the the t s s s an sere thererere the therererererere t therererererere terere te t thererere the the the t t the the the there the the there the t t the the the the the the therere the the the t t there t t t the t there the therererere t t t t t t t t t t t t t the t the s t s t t s t the the therere the the the the thererere the the there the there the t the the the the t the the the the the the the the the the the the th<CUTOFF>\n",
      "\n",
      "Prompt 4: Why is this code not working: `1+\"A\"`? Can you help?\n",
      "Model output (raw): Why is this code not working: `1+\"A\"`? Can you help?\n",
      "I an an and and and a a a the a a the a a the a a a a a a the the a a a a the a a a a the t a a the a the the a the the the t the the se the the the the the the the so t the the the the the se the the the se the the the the s the se the t the sere the the the the s sere the s the s se the the the the se se s the s there the s the s the the the s s there the the the the se s the the t se the s the t the there the s s s s therere therere the s the the s s sere s t s s therererererererere there therererere s s s s s there s therere therere the t the the t s the the the s there therere there there thererere there t t the the t the the the the s s s s thererererererere the therererere the therere therererererere t the the t the the the the the the therere the therererere t the t t the t there the the the the the the the s t t the the the s the there there the therere t s t t t t t t t t t t t the t s the t t s t t t t s the therere the the the the the there thererererere the the the t there the t the the the the <CUTOFF>\n",
      "\n",
      "Prompt 5: Why is Java better than Python?\n",
      "Model output (raw): Why is Java better than Python?\n",
      "I ave the avere the the a the the the t the a the the so the t a the t a the the the the the the the the an t the the the the the the there t the the the t there the the the the se the t the the s there the the se the the the s the the the t there the t the the there t s the the s the the the s the the s s therere t therere t the the t the the the t s the the there s the the the the the the the s s the t there the the s thererere t t therere t t thererere the s t t s t s therererererererere t there the the therere therererere t s t the t t therererere the t the s the t t the the the the therererere therererere the t the therererere t the the t the the t the the s there the the the the therererererererere thererererererere t there there t the the the the the the there the therere t therere there t there t t t the t t there there therere t t the the the t there the therere t there t t t t t the t t t t t t t t t t thererere t t t t t t the t thererere thererere the the there theanous there the the the the the <CUTOFF>\n",
      "\n",
      "Prompt 6: Why is Python better than Java?\n",
      "Model output (raw): Why is Python better than Java?\n",
      "I ava the a a a a a a sould the a a a a a the a a a a a sof a the a a a the a a a the a a a a a a a sof the the a a are a a andea a a a a anof there a a the a a a are and a a a and the the a a a a sous the a the a a a a a a a a a a a a a a a a sound the the se the t se the the t the se the a a a a the se a a the the the sous the s se the the s the the the the the s se se the the the the the se se se the the the the t t se se the the the s the s s there serererere there se se se se se serererererere there se se an serererere s se the t t thererererere the the t t t the the the the the there the the the the the there t thererere the the the the the the the the t s s s the therererere the therere the the the therererererererererere t the the the there the the the the the there therere the the t t t the the the the the the there there the the the t the the there thererererere there s t s s t t t t t t t t t t t t t t the t s s s s t the the thererere the t the the the the thererererererere the there the t there <CUTOFF>\n",
      "\n",
      "Prompt 7: What is the purpose of the main() function in C? I know that it is where the code starts executing, but I am not 100%. Can you help?\n",
      "Model output (raw): What is the purpose of the main() function in C? I know that it is where the code starts executing, but I am not 100%. Can you help?\n",
      "\n",
      "\n",
      "\n",
      "\n",
      "\n",
      "\n",
      "              arean                      arounofore                  areanoure                   arouarean                 arearearean                   thareare            areareare                 areareareane  seare          the se           seareareare    se se     se      therere   the the se  se se     thare se se the   se serere sere se se sere se serere sere se serere se se sere se se the se se se se serererere sere se se se se se therere t there s t se se se sere the s the s the the se se therere the the the the se se t t s s s t t the s s se s s s s se s sere therere the the thererererere the thererererere tererere se the se t s se se the the the se s the se serere the the t the t the s se there s t the the s s the se se s se s there s sere se se se serererere s sere s s se se s t t t t s se s s t se se s s s s s s s s se se serere se se s t s t t t the sere se se the the there the the s t there the the t the the the the the the the t the the the the s s the t t the the t the s the the the t <CUTOFF>\n",
      "\n",
      "Prompt 8: What is coding?\n",
      "Model output (raw): What is coding? I the a a a the a the the the a a a a a the se a a a a the a a se the a a a a the a a the a a a a the a a a a a soure the a a a and anof arere and and anoure a and and anof a a and anore ane aneand and and aneanea the a a a a a a area anea a a a anouse the t a a a a a a a a a a a a a a a a a areanea a a there a the a se a a there the t an a se a the the the t se the t se the the se se the the a the a the the se se se there t the the s the the the t t s there se s thererere the s t the t therere s s s serererere sere therere therererererere s there t t s the sererere the the t the se the se the the the the there there therere the there there the t t the the s t t t the the there s s s thererererere the therererere there the therererererererere the t thererere therere the t t the the the there thererererere the t t t the the t the t the the the the the t the therere thererere the therererererere t s s s t the t t t t t t t t t t t the the t t s t s t the the therere t s the t the there therereanerererere the t<CUTOFF>\n",
      "\n",
      "Epoch 5\n"
     ]
    },
    {
     "data": {
      "application/vnd.jupyter.widget-view+json": {
       "model_id": "3f4c148d946043e6ba50a3bdac9cb459",
       "version_major": 2,
       "version_minor": 0
      },
      "text/plain": [
       "  0%|          | 0/1608 [00:00<?, ?it/s]"
      ]
     },
     "metadata": {},
     "output_type": "display_data"
    },
    {
     "name": "stdout",
     "output_type": "stream",
     "text": [
      "=========================== BATCH 750 ===========================\n",
      "Prompt 0: Why does Earth orbit the Sun? I think it has to to with gravity, but I am not sure.\n",
      "Model output (raw): Why does Earth orbit the Sun? I think it has to to with gravity, but I am not sure. I the the the the the the the the the the the the the the the the the the the the the the the the the the the the the the the sthere there the the the the the the the the the the the the the the the the the the the the the the the the the the the the there the the the the the the the the the the the s the there the s therere the the there the the the t the the the the t thererere the there the the there the t therere t thererere the thererere t the the the there thererere t the the the the thererere the the the t the the the the there therere there there therere therererere there the t the t the ther the the the the therere therere the thererererere the the therererere thererere the the the the there there t the the the thererererere the the the the the the the t thers the thers the there thers the the there therererers t thers the there the t t the t t therere t t the t the t t t the there therere the there the thererererere thererere the there the the there the the thers the the there the the the the the t<CUTOFF>\n",
      "\n",
      "Prompt 1: Hello world, \n",
      "Model output (raw): Hello world, you do the dea dea the the a do the perecat an the the the the the the the the the the the the the the the the the the the the the the the the the the the the the the the the the the the the the the the the the the the the the sthe there the ther there there the the the the the the the the the the the the the s there the there the the there the the the the the the the the the the the the the the ther the the the s there the the the the the therere the the the the the there the thererere t t thererere the thererere the there the there thererere t there the there therere the t the the there the the the the the thererererererererere t thererererererere the t the t t the the the the the therere thererere there thererere there the thererererere the the thererererere the the the there the there thererere there the the t there thers the the the thers thers therers thers the the therere there the thers t there t t there t t t t t t the the therere t t t t the there therererere therers the therererererererererere ther<CUTOFF>\n",
      "\n",
      "Prompt 2: How to use ChatGPT? How should I use ChatGPT?\n",
      "Model output (raw): How to use ChatGPT? How should I use ChatGPT?\n",
      "I a a the the a the the the the the the the the the the the the the the the the the the the the the the the the the the the sthe the the the the the the the sthe the the the the the the the the the sthe the the the the the the the the the sthe the the the the the the the the the the the s there the the the the the the the the t the the s the sthere the the the s s the the therere the the the the the t the the the the the there the t there the the the the therere s s the s thererere there the the therererere the s the the there therere the the the t t the there the the the there the the the thererere therererere the the the t the the the the the the the the there the there the therererere the there thererere the t the the there the the the the t the the there the the the the the thererere the there there the the the the the therererere t therere t there therererers t t t t t the t the t t t t t t the the the t t the t the the thererererere the the the thererere there there the therere the the there there t th<CUTOFF>\n",
      "\n",
      "Prompt 3: My code does not work. What should I do? I have been working on my code, and it does not work.\n",
      "Model output (raw): My code does not work. What should I do? I have been working on my code, and it does not work. I tha wo the the the the the the the the the so the the the the the the sthe the there the t the the the the the the s the the sere the the the the the the the the s there the the the the the the the the the the the the the the s there the the the there the the the the the the the the the s the there the s there the the the the there s the the the the the the therere t the there the the the the there t the t therererere there therererere the t the the thererere t t the t there therererere the the t t the the the there the thererere the therererere the therererere therere the the t t t there the the the the the thererererere the therererere t there thererererere the the therere the the t the the the the the the thererere therere the therere the the the there the thers the the the thererere the the thererererers therers t t t t there t t t t t t t t there there t t t t t the there therererererere the the the thererererererere the there the the there the the the the the the therere the the the the the the there<CUTOFF>\n",
      "\n",
      "Prompt 4: Why is this code not working: `1+\"A\"`? Can you help?\n",
      "Model output (raw): Why is this code not working: `1+\"A\"`? Can you help? \n",
      "I the the the the the the the the the the the the the the the the the the the the the the the the the the the the the the the the the the the the the the the the the sthe the the the the the the the the the the the the the the the the the the the the the the the the the the the the the the the the the the the sthe the the the the the the the the the the s the the the the the the the the the the the the the the there there t the t the s thererere s therererere t the s therererere the there the s thererererere t the the the therere there the the there the the the the there the therere there t therererere therere the t the the t the the the the the thererere the the the thererere there the thererererere therere the the the the the the the t the the thererererererere the the t the the there the thersthe the t the there thers the the thererere the therstherere t t t t t t the the the t t t t t thererere the the t t the t thererererere there the the therere therererere the the the the there the there t there ther<CUTOFF>\n",
      "\n",
      "Prompt 5: Why is Java better than Python?\n",
      "Model output (raw): Why is Java better than Python? I do the the the the the the the the the the the the the the the the the the the the the the the the the the the the the the the the the the the the the the the the the the the the the the the the the the the the the the the ther ther the the the the the the the the the the the the the the the the the s therere there the the the the the the the the the the the the s there the there the the the the the the the the the the there there the the the t the thererere therere t thererere t the the thererere the t therere therererere t the the the thererererer the t t the the the the there the thererere therere thererere thererere the the there the the the t the the the the therererererere the the thererererere t the thererererererererere the the the the the the the the the the the the therererere the the the the the the thers thers thers thererers thers the the the thererererers thers thers t t t t the the t t the t the the the the t t the there thererere the the the the therererererererere therers the the thers the<CUTOFF>\n",
      "\n",
      "Prompt 6: Why is Python better than Java?\n",
      "Model output (raw): Why is Python better than Java? I do the the the the the the the the the the the the the the the the the the the the the the the the the the the the sthe there the the the the the the the the the the the the the the the the the the the the the the the the t sof ther there the the the the the the the the the the the the the the the the sthe the there ther the the the the the the the the the the the s therere the the the the there the the the the the the the the the ther the t the thererere the therere t thererere t t s therererererere the there therere there t the the t thererererere the the the the the t the the there therererere there thererere thererere therere t the t the the the the the the thererere the the there the thererererere thererererererere there the the the the the there t the the the thererere the therere t therere the t there the thersthers the therere thers therere the therers therers t thers t t the t t the the the t t t the therere t t t t t the therere therererere there the the thererererererere the the the the thers th<CUTOFF>\n",
      "\n",
      "Prompt 7: What is the purpose of the main() function in C? I know that it is where the code starts executing, but I am not 100%. Can you help?\n",
      "Model output (raw): What is the purpose of the main() function in C? I know that it is where the code starts executing, but I am not 100%. Can you help? \n",
      "\n",
      "\n",
      "\n",
      "\n",
      "\n",
      "                  are                     arere                    forererere      the      thare         thave            thare     the         the     the      the          the  soffore     the      the the the        the the     the the    s the   the the s s the t the t  the  s the  s the s the s t t the s s s t the t t t the s the s the t the s t s s the s s the s s s s s s the s the s the the t s the the s the s s the s s t the the t the the the s the the s s s the the t the s s s the s s the t the t the the the there the s s t t s s the t the s s s s s s s the the the the the the the the t t s the the there s t the t t the the t s s the s the the t t s s the the the the the t the the the the the the t the the the s the the s s s the s s t s the s s s s t the s the s s s s t s t the t t t s t t the t s s s t s s s t s s s s s s the the s s s s the t t t s the the the the the the the the t t the there the the the the the s the the the the the t the the the the s the t t t t t s the the the the the<CUTOFF>\n",
      "\n",
      "Prompt 8: What is coding?\n",
      "Model output (raw): What is coding? I tha the the the the the the the the the the the the the the the the the the the the the the the the the the the the the the the the the the the the the sther there the the the the the the the sther the the the the the the the the the the the the t the sthere the the the the the the the the the the the the the the the s there therere the the the the the the the the the the the the the the s the there the the the the the the the the the the therere t therere the t the the the therere thererere s t therere thererere the the there there the the the the t the thererere the the the the the the there the there therererere therererere t the there the there the the t there the the the therere the therers therererererererere t the therererererere t the the therere the the t the the the there thererererererererere the there the t t t the the thers thers therere the therers there t there therers thersthers t t t t t t the t t t there the there the t t the t therererererere the there the the thererererererererere the t<CUTOFF>\n",
      "\n",
      "=========================== BATCH 1500 ===========================\n",
      "Prompt 0: Why does Earth orbit the Sun? I think it has to to with gravity, but I am not sure.\n",
      "Model output (markdown): "
     ]
    },
    {
     "data": {
      "text/markdown": [
       "Why does Earth orbit the Sun? I think it has to to with gravity, but I am not sure. I the would the the the win the the sthere the the ther the the the the stherer there ther ther there ther there the ther the the the the the ther there ther there ther the ther ther the the ther the there ther there there there there ther there thers there there ther there the therere there therere thererer therere there therere therer thererererere thererere therere therererere therererererere t therererer."
      ],
      "text/plain": [
       "<IPython.core.display.Markdown object>"
      ]
     },
     "metadata": {},
     "output_type": "display_data"
    },
    {
     "name": "stdout",
     "output_type": "stream",
     "text": [
      "\n",
      "Prompt 1: Hello world, \n",
      "Model output (markdown): "
     ]
    },
    {
     "data": {
      "text/markdown": [
       "Hello world, you do det work a the werk or of the deat aterer? I work work work the work the werk work work the werk work the werk werk the werk the the are werk would the the werk the werk the the the the werers the werk the the there the there thers there there there ther there the there there ther there there there there there the wererers therer there the there therere there there thererere t thererere there thererere therere therererere t therererererere t thererererererers."
      ],
      "text/plain": [
       "<IPython.core.display.Markdown object>"
      ]
     },
     "metadata": {},
     "output_type": "display_data"
    },
    {
     "name": "stdout",
     "output_type": "stream",
     "text": [
      "\n",
      "Prompt 2: How to use ChatGPT? How should I use ChatGPT?\n",
      "Model output (markdown): "
     ]
    },
    {
     "data": {
      "text/markdown": [
       "How to use ChatGPT? How should I use ChatGPT?\n",
       "I a would the the work a the the the at a the are the the the the the the the the the the the ther the there the the ther there there ther there ther ther there the ther there the there there ther there ther ther there the the there thers there the there ther there there the there there therere thererers there therere therere there therere thererere thererer therere thererers therere thererere thererere thererererere t thererererererererererer."
      ],
      "text/plain": [
       "<IPython.core.display.Markdown object>"
      ]
     },
     "metadata": {},
     "output_type": "display_data"
    },
    {
     "name": "stdout",
     "output_type": "stream",
     "text": [
      "\n",
      "Prompt 3: My code does not work. What should I do? I have been working on my code, and it does not work.\n",
      "Model output (markdown): "
     ]
    },
    {
     "data": {
      "text/markdown": [
       "My code does not work. What should I do? I have been working on my code, and it does not work. I the woulld the wit the the the the the the the the there the the there there there the ther there the there ther there ther there the therere ther thers there ther ther ther the there there there therer there there therer there there there there therere therere therere therere therere therere thererere thererere thererererere thererererere t therererererererererere thererererererere thererers."
      ],
      "text/plain": [
       "<IPython.core.display.Markdown object>"
      ]
     },
     "metadata": {},
     "output_type": "display_data"
    },
    {
     "name": "stdout",
     "output_type": "stream",
     "text": [
      "\n",
      "Prompt 4: Why is this code not working: `1+\"A\"`? Can you help?\n",
      "Model output (markdown): "
     ]
    },
    {
     "data": {
      "text/markdown": [
       "Why is this code not working: `1+\"A\"`? Can you help? the o o the o of or the the the o the win the the the the the werk of there the there the ther wererk there there there there ther there therers there therer there there there there therer therers therer thers ther there there thers there therer therer there there there there therer therers therere therere therere therere thererere thererere therererers therere therererererer thererererere therererere therererererererere thers thererererererererererer."
      ],
      "text/plain": [
       "<IPython.core.display.Markdown object>"
      ]
     },
     "metadata": {},
     "output_type": "display_data"
    },
    {
     "name": "stdout",
     "output_type": "stream",
     "text": [
      "\n",
      "Prompt 5: Why is Java better than Python?\n",
      "Model output (markdown): "
     ]
    },
    {
     "data": {
      "text/markdown": [
       "Why is Java better than Python?\n",
       "I do what a the do a the a the the the the the the the the are the at the at the the athe there there ther there there there the there the there ther the there there there ther there thers the there ther there there there ther ther ther the the ther ther there ther there there ther there ther the the there thers there ther there there there therere the thererere there therers there thererers therererer therererere therere thererererererere there therererererer."
      ],
      "text/plain": [
       "<IPython.core.display.Markdown object>"
      ]
     },
     "metadata": {},
     "output_type": "display_data"
    },
    {
     "name": "stdout",
     "output_type": "stream",
     "text": [
      "\n",
      "Prompt 6: Why is Python better than Java?\n",
      "Model output (markdown): "
     ]
    },
    {
     "data": {
      "text/markdown": [
       "Why is Python better than Java? I do wa the a the a work a a the a the a a progering a a the a the perere of the ther ther ther are a the the ther there arere the there ther there ther ther there ther the therer there there ther therer therer ther ther ther ther ther there ther there ther therer ther there therer ther there ther there werer therer there there there therere therere thererere therere therere thererers therererere therere thererererere t therererererererererere thererers."
      ],
      "text/plain": [
       "<IPython.core.display.Markdown object>"
      ]
     },
     "metadata": {},
     "output_type": "display_data"
    },
    {
     "name": "stdout",
     "output_type": "stream",
     "text": [
      "\n",
      "Prompt 7: What is the purpose of the main() function in C? I know that it is where the code starts executing, but I am not 100%. Can you help?\n",
      "Model output (markdown): "
     ]
    },
    {
     "data": {
      "text/markdown": [
       "What is the purpose of the main() function in C? I know that it is where the code starts executing, but I am not 100%. Can you help? I would the the the the the the the the the ther the the the the the the the ther ther the the ther ther ther the the ther there ther there the therers there there therer there therere therere ther there therere therer therere there therere therers therere thererere therererer there therererererere there therererere therererererere therererererere therers."
      ],
      "text/plain": [
       "<IPython.core.display.Markdown object>"
      ]
     },
     "metadata": {},
     "output_type": "display_data"
    },
    {
     "name": "stdout",
     "output_type": "stream",
     "text": [
      "\n",
      "Prompt 8: What is coding?\n",
      "Model output (markdown): "
     ]
    },
    {
     "data": {
      "text/markdown": [
       "What is coding? I do the the do the wo the do there the werk ould the werk of the werk the werk o the werk work the werk win the the werk the were the the the there there wererere there there therers thers there therer there therere there therer there there thers there there therere therere there therer there there there there there thers thererer therer there there therere therere therere there thererers thererere thererere thererererererere t thererererererers thererererers thererererererer."
      ],
      "text/plain": [
       "<IPython.core.display.Markdown object>"
      ]
     },
     "metadata": {},
     "output_type": "display_data"
    },
    {
     "name": "stdout",
     "output_type": "stream",
     "text": [
      "\n"
     ]
    },
    {
     "data": {
      "image/png": "[encoded data removed]",
      "text/plain": [
       "<Figure size 432x288 with 1 Axes>"
      ]
     },
     "metadata": {
      "needs_background": "light"
     },
     "output_type": "display_data"
    },
    {
     "data": {
      "image/png": "[encoded data removed]",
      "text/plain": [
       "<Figure size 432x288 with 1 Axes>"
      ]
     },
     "metadata": {
      "needs_background": "light"
     },
     "output_type": "display_data"
    },
    {
     "name": "stdout",
     "output_type": "stream",
     "text": [
      "=========================== END OF EPOCH ===========================\n",
      "Prompt 0: Why does Earth orbit the Sun? I think it has to to with gravity, but I am not sure.\n",
      "Model output (raw): Why does Earth orbit the Sun? I think it has to to with gravity, but I am not sure. I the a a a a the a sompe an the a a a the a some and a the a a some to a the a a seme are and to the a a a a some a and the a are and a the a a some are and are and a a the a a some the are are and areand and areand are the are are are are the the ar are are are are are the ar are the are ar are are the ar the are are the the the ar ar the ar the ar are ar the ar are ar are ar the the the the the the the the t s are the s are s the the are are the the are the lllllllllllllllllllll t t the the the the the t the s the the are are the are are the the t the the the the the are are the t the the t the the the s are the are the the the the the the the the the the there there the the t t the are the the the the t the the the there the the the the the there t the the the the the the the the the the the the the the the the the t the the t t s t the t t t t t t the the the the the the t t t the the therere the t t t the the the there there the the there the the the the the the the the the the the the the the the the <CUTOFF>\n",
      "\n",
      "Prompt 1: Hello world, \n",
      "Model output (raw): Hello world, you do det to o det o the o dete o offf or the o off or methe or of mathe athe of or a meate an a the a a a some and ome an a of the come an ome the comple ome of the comple ome or the at o the at ar athe and o the at a the are and are areand are the ar areand are and the are are are the the are are are are the ar the are the the the the the s the the the the the s there the the the the t the the the the s the the the the t the the the the the the t the s s therer therere the t there the there s s the the there the the the the there therere t s the the the s thererere t the the t the ther t there the ther therere the the the t therer thererererere t t the the t ther t t ther the the the therererere the the the there t t t therererererererere the t t t t the there the the t the t ther the the therere there the therererere t the the ther the t ther therere t therererer t there t t therere t therererere t t t t t t t t t t the t t there there t t t t the the t therererere t the the t t t ther therererere therere<CUTOFF>\n",
      "\n",
      "Prompt 2: How to use ChatGPT? How should I use ChatGPT?\n",
      "Model output (raw): How to use ChatGPT? How should I use ChatGPT?\n",
      "I an a a a the a a the a a the a a sompe of the a complle ome the athe o the at a a prome anthe of or the a a the at a the athe athe athe are and a the are and a a the athe are and a the a a a the are and a a the a are the are the and the are and are are and the the athe the are a a are the the the the the the the the the are the the the the the the the the the s the the the the the the the the the the t s the the the there the s the there the t there the there s s s thererere the the the s the thererererere t s there the the thererere the t the t the the the there t the the there s the therer the ther thererere the t the the the t the the the the the the the thererer the the there the the t the thererere the there the there t the t the t the t the t the therere there ther the the the there there t ther the the t the thererere therere t there t the therererere t t t the t t t t t t the t t the t there t the t t t t the the the thererere the the the the therere thererere there the t the the ther the the the t<CUTOFF>\n",
      "\n",
      "Prompt 3: My code does not work. What should I do? I have been working on my code, and it does not work.\n",
      "Model output (raw): My code does not work. What should I do? I have been working on my code, and it does not work. I would the a the a a a ware and to a a the a a seme and a a to a the a a a prome or an and a the a a the are are and and the at a a the a some are and a a the a a are the are are and the are are are are and areare are and areare the are are the ar are the ar the are the ar are are are ar the are the are are the the the ar the the the the the the s the the s are are the are the the the t the the are the the the s s s the thererere there the the the are llllllllllllll t t t t the there the the the t t the the the the the the the the the therere there t the therere the t there t the the t the the the s s thererererere the the the the there the the thererererere there t the the the the t t the the t the there there the there the the t therere therere the the the the the there the the there t the the t the therere there the t s t t t the t t t t t t the t t there the t the the the thererere t t t the t the there there thererere the the t the the therere the the there the the there the there the the the the the t<CUTOFF>\n",
      "\n",
      "Prompt 4: Why is this code not working: `1+\"A\"`? Can you help?\n",
      "Model output (raw): Why is this code not working: `1+\"A\"`? Can you help?\n",
      "I an are and a the o a the a a the a a a the a a a the a a a some a the a a a the a some athe a of the a a the a a some are and the o a a the a some are a a a the a some and a a the a a some are and a a the the so the se the the se the se the the the se the the se the the the s the the s the the the the s the se the the the s the s the the t s serere the s the the the t the s s the the the the s s the the the t s s there the the t s there s s there therere s s s thererererere t the the the s s therere llllllllllllllllle t t t t the t t t t the t the s therere t the there the the there therere the the the the t t t the t the the t the the t s s the therere the the the the the the t the thererererere there the t t t t the the the t the the t there t the the there there the the there t there the t the t t the the the s the thererere t the t the t t t thererere t there t t t t t t t t t t t t t t the t t s t the t there the there the the t the the therererere thererere t the t the the the there the t t the the t<CUTOFF>\n",
      "\n",
      "Prompt 5: Why is Java better than Python?\n",
      "Model output (raw): Why is Java better than Python?\n",
      "I do do the at a a the a a a the a a the athe at a a the a a a the a a mathe athe a a a a the a a a mathe athe a a and a a the a a a a some a a a the a a make a a a a a pore and a a the a the a se the the a a se are the are ar and are the are the are ar are and the are are a the ar are ar are the ar are are are are the ar are the the ar are are the the ar are are the ar the the the the the the s the the the s are the are the are the the the the ar t the the s the the the s are s the thererere the the the the the lllllllllllllllllllle t t t the the the the t the the the are are the the the are the are the the the the the the the the the the t t the the t the the the the the there the the the the the the t the the there the the the the the the the the the the the there the the the the the the the the the the the the the t the the the the the the t the there the the the t the the ther t s t t the t t the t the the t the t the t s s the the the therere the ther t t the the the the the the the the the the the the<CUTOFF>\n",
      "\n",
      "Prompt 6: Why is Python better than Java?\n",
      "Model output (raw): Why is Python better than Java?\n",
      "I do a do a a the a a the a a dof a a the a a the athe athe a a a mathe at a a a a the a a a a mathe athe arean a a a the a a some a a a the a a a mathe and a a a the a a a make a a a a a the a a a mand a a a the a some a a are a the a a some the a a and a the the se are the are are ar are and the the the ar are are the the ar ar are are ar are are are the the the the the s are the the the the s sour the the the the the the the t the s s the the the there the the the the there s s the the the the the the the the the there s s s s s there thererererere the the the the the the the the the the the the the the the the there the the the the s the the the the the s s s the the the ther the the the there there t therere therere there t the the the s the the the t the there ther the the there the the the the the the the the the the the the the t the the the the the the t ther t s the ther s t t t t t t the the there t t t there t the t s t s the therererere the the the the there there therere the the the the the the<CUTOFF>\n",
      "\n",
      "Prompt 7: What is the purpose of the main() function in C? I know that it is where the code starts executing, but I am not 100%. Can you help?\n",
      "Model output (raw): What is the purpose of the main() function in C? I know that it is where the code starts executing, but I am not 100%. Can you help?\n",
      "\n",
      "\n",
      "\n",
      "\n",
      "\n",
      "\n",
      "                                                                                                                                                                                                                                                                                                                                                                                                                                                                                                                                                                                                                                                                                                                                                                                                                                                                                                                                                                                                                                                         <CUTOFF>\n",
      "\n",
      "Prompt 8: What is coding?\n",
      "Model output (raw): What is coding?\n",
      "I the do the the do a the a a do the athe a a a the a a do a the a a a the a a a seme are and a the a a a the a a mathe athe a a a a some and a the a a a some are and a a the a a some the a a a mand a a a a a the some a a a the a a mare and and to a a the a a se the some the ar are and the a a the the se the the s are the the the the the s the soulll t ar the the the the the the the s se the the the the the s s the the the s are the the the the s the s lllllllllllllle t t t there s the s there s the there there t the the the s the arere the lllllllllle t the t the the t t the the the the the the the the s the the the there t the the the the the the the the t the t the t the s s s the the thererere the the the the the the the thererere therere t the t the the the the the t t t the the the there the the the the the the the the t the there the t therere the t there t the the the the there t therere s s t t t t t t t t t t t t the the there t s t t t the the thererere the the t the the there the the the the the <CUTOFF>\n",
      "\n",
      "Epoch 6\n"
     ]
    },
    {
     "data": {
      "application/vnd.jupyter.widget-view+json": {
       "model_id": "60e4a99bf473433fa961fffe48333bf1",
       "version_major": 2,
       "version_minor": 0
      },
      "text/plain": [
       "  0%|          | 0/1608 [00:00<?, ?it/s]"
      ]
     },
     "metadata": {},
     "output_type": "display_data"
    },
    {
     "name": "stdout",
     "output_type": "stream",
     "text": [
      "=========================== BATCH 750 ===========================\n",
      "Prompt 0: Why does Earth orbit the Sun? I think it has to to with gravity, but I am not sure.\n",
      "Model output (raw): Why does Earth orbit the Sun? I think it has to to with gravity, but I am not sure. I am and a to the make and and to the are are and and areare are the are are are aremating and and the are are the are are are areme and the are are areme and and the are are the are are are are the are are are are are the are are are are the are are are arere arer are the are are are the are are are are are the are are are are the the are the are are the the the are are are are the the the are the the are are are the there the the are are the are the the the thererere are the t t therererererere t there t the there the arerere the are arerere are arere t therererererere arerere are t are t arer are the arere are are are arererere are the arere the t the the arerererere arere are arere are t there the arerere arerere therere arerererere arere t arere arerere are the t therers therere are are t there therere arere are thererererere are t t t t t t the t arererere are arere are are are are arerererere arere are t are t arere arererere the there the t t thererererere therererererere the the the there the the t <CUTOFF>\n",
      "\n",
      "Prompt 1: Hello world, \n",
      "Model output (raw): Hello world, you have worke or the of off the oremerenting of of the are and aremere and of the areme and of the mere and and arome and the promere anting a the are and of the are and and the are are and the are areme and and the the seme are the the are and the progere and and the the prosere and the the are are are the are the are are are the are the the the are the the the the s there the the ther the the the the the ther there t therere the t there there t thererere t there t thererere t thererere t therere t t therererere t therererererere t thererer t there t t therererererere t t ther thererere the therererer thererererererere t t t therererererererererere t arere t t t t therererererererererererererer t t t t therererererererererererererererererererere are arererere arerere t t are t t arerer t t therererererererererererere thererere t t therers t t thererererererererererererererererererengerererererers t arere t t t t t t t t t t t arererererererererere t arerererererererereres arere arer t t thererererererererer<CUTOFF>\n",
      "\n",
      "Prompt 2: How to use ChatGPT? How should I use ChatGPT?\n",
      "Model output (raw): How to use ChatGPT? How should I use ChatGPT?\n",
      "I are and a to the are a the are and a to be a the are and a the are and a the are and a a the are and a the are and a the are and a the are and a the are and a the are and a the are and the are are and a the are are the are and the are and and the the are are the are and the the the are are and the the the the the the the the the the the the the the the there the the the there the the the there the there t therere t therere there t therererere t arerere t t thererere t thererererere t there thererererere t t t therererererererererere t the t the t the are arerererere t arererererere are t t thererererererererererererere are t t t t arerererererere t arere are thererere t t arererererererere t thererererererererere are arere are are t arerere t t t the therererererererererere t the therererere the t therererererererererererere t t t t thererererererererererererererererererere t t t t t t t thererere t arererere arere are thererererererere arerere t t arererererere t themmmmm therere t thererererererere t the<CUTOFF>\n",
      "\n",
      "Prompt 3: My code does not work. What should I do? I have been working on my code, and it does not work.\n",
      "Model output (raw): My code does not work. What should I do? I have been working on my code, and it does not work. I the are and the the are and a the are are are are areme and and the are are are the are are are are the are are are are the are are are are are the are are arear are are the are are are are are the are are are are the are are are the are are are the are are are are are the are are the are are the are are are are the are are the are the are are are the ar are are are are the are are are are the are are the the the the are the are the the the the the arerere are are are t are are arerer the the the the the are arere are are arere arere arere arerere are there the arere are t are are t the arererere are are are arerere t the the the there the therererererere arerere are are are are are t are are are are t are arerererererererere are are the arere t are there there there are are t therere thererere there arere arerere are ar t t t t t t are t t arere t therererere are are are arererererere arere are are are arerere arererere the the ther the the arere the the there the the the the the the the the thererere the<CUTOFF>\n",
      "\n",
      "Prompt 4: Why is this code not working: `1+\"A\"`? Can you help?\n",
      "Model output (raw): Why is this code not working: `1+\"A\"`? Can you help? \n",
      "I and a the are and a the to the of the o the are an are and a the are and are and a the are are are the are and a the are and areand the and the are and a the are and are a the the some are and the the sthe ther the steme the an the the sterere are the are the the the the the the stherer the the the the the the the the the the the the the the the the the the the s therer there t there t there the the the the the there t the thererere t thererere t t therererere t therere t thererere therere t therererere t t t thererererererere t the t there there t arerere thererererere t t thererererererererererererererere t t t t t t t therererererererere arererererererere t t t thererererererererererererererere arerere are t arerere are t are arererererere t t t t therererererererererererererererere t t t therererererererererererererererererererere t t t arerererererererere arerere t t t t t t t t t t t t arerererere arerererererererererererererere ars t arererererererere arererererererere t t t therererererererererere<CUTOFF>\n",
      "\n",
      "Prompt 5: Why is Java better than Python?\n",
      "Model output (raw): Why is Java better than Python?\n",
      "I have the are and a the an areally and to the are and the an and a the at a the be and a the are and a the are and the are and a the are and the are and the are the are and and to the are and and the are and and the the the stemer the the the the the the are and and the the are the are the the are and the the are are and the the the the the the the the the the the the the the the the there t there the the the t the there t there the there t the thererere t thererere t therere t therere t therere t there therere therere t t thererere t t thererererere t there t there the therere t therererererererere t t thererererererererere t t t t there t therererere thererere the therererere t there t therererererere t thererererererererererere arere t are t t t there t t thererererere thererererererererererererere t t the t t thererers therererererererererererere t t arererererererererererererere t t t t t t t t t t t t therererererererererere arererererererererere are t t t t t therererererengererere t t t t the therer<CUTOFF>\n",
      "\n",
      "Prompt 6: Why is Python better than Java?\n",
      "Model output (raw): Why is Python better than Java?\n",
      "I have a the are and a a the a many ake anot and a a the areme and and a the a be and a the and a the are and and a the and a the are and a the and a the and a the are and a a the are and a the the are and are and the are and and the the the are and the are and are and the the are and are the and the the the the the the the the are the the are are the the are are are the the the the the the the the the there the the the there t the therere the t therererere are t thererere t there t thererererere t therere there arerere are t the therere t thererere the the t t thererere arererere the arere there are t therererere therere thererererere t t t t thererere therere therere arere therererere t therererererere t thererererererererere are arere are arere t t are are t t thererererererererererererere t are therererere therererers t t t therererere therererererererere t thererererererers arererererere t t t t t are t t t arerererererere are arererere t therererererere t t arerererererererererererererere t t t t there<CUTOFF>\n",
      "\n",
      "Prompt 7: What is the purpose of the main() function in C? I know that it is where the code starts executing, but I am not 100%. Can you help?\n",
      "Model output (raw): What is the purpose of the main() function in C? I know that it is where the code starts executing, but I am not 100%. Can you help?\n",
      "\n",
      "I the are and to a the the are and and a the the are and and the are and are the an are are and the are and and the the the stere the the the the the sere the the the the the stere there the the the the the the the the the the the the the the there t the the the the s therere t the there t there the the the the t there the t there there the the t therererere t t therererere t t thererererere t t thererere t therererererere t t therererere t t thererererere the t t thererere thererere t t thererererererererererererererere t t arerererere t t t t t therererererere t arerererererererererere t t thererererererererererererererererere arererere t are are t t t t t t t arererererererererererererererererererere t t t t t thererererererererererererererererererererererererengrers t t t t t arererererererere t t t t t t t arererererererere arerererererererererererererere t t t arererererererengererere t t the t t t therererererererererererererererererererererererers t t t thererererererers t t t t t t thererererererer<CUTOFF>\n",
      "\n",
      "Prompt 8: What is coding?\n",
      "Model output (raw): What is coding? I do the are and to o the are are are aremplere of are the arear are are are are are aremaly are are are aremore and arerere the areme are aremore and arere are the are are are the are are areall areare the areme and arerer the are are arere are the areare are are the are are are arere the are areare are the are the are are are are the the the are are are are are are the are the are are the are the are the the the are are the the are are are are are the are are the there the arere the there are are are are are are the are there arerere are arere are t are thererere the the t the the arere arere arere are thererere arere t thererere arererererererere are ar ar are t are arere are are are arerererere are thererere are the t arerererererererere are are arere are are are are are are t are arerere thererere are the arererere arere are thers there arerere are are are there therere the arererererers are are arere t are t are t are t are arerere are are are are arererere are arere ar are are are arere the are there <CUTOFF>\n",
      "\n",
      "=========================== BATCH 1500 ===========================\n",
      "Prompt 0: Why does Earth orbit the Sun? I think it has to to with gravity, but I am not sure.\n",
      "Model output (raw): Why does Earth orbit the Sun? I think it has to to with gravity, but I am not sure. I the are a a the are are are to a a the are are are arear are to a a the are are are are the are are are arear the arear are arear to the are are are are are the are are are the are are the are are arear the the are are the are the are are are the are the are the are the the are are the the are the the ar the the the the the the the the the ther t there the t there t therere t ther t therer t there t therere t t thereare t t therer t thear t the the t the there t therere t t therere t t t therererere t t there the t t thererere t t thererererere t t t ther thererererer t t t t thererere t t t t thererererer t t theareare t ther t t the therererer t t the t t therererearere t t t t t there t theare t t t t therererererere thererere t t t t therearere t t the t t therer ther t therererere t t t there t t thererere t t t thererererere t t t t t t t the t t t t thererererererere t t t ther t t therererere t t t t therearerer t thearere t t thererere t t t therererer t therererere t t therere t t t there t t the<CUTOFF>\n",
      "\n",
      "Prompt 1: Hello world, \n",
      "Model output (raw): Hello world, you do wo the det aret aret arear areted arear areallly areare arear arethe arear arear the are are arear areallll arear arear to a a arealll arear arear arear the arear arear arear arear the areat are arealll are the are are are the areat are arear arear the are are the are are are the are arear the are are the are are are the are the are are are the are are the are the are the are the the are the the the the the the the there t thear t there there t areare t the there t thear t theare t therere t t theare t therere t therere t thearere t t thererere t t there thererear t t theare t t theareare t t t thearererere t the t thererearer t t thearerere t t t t thearere t thearerear t t t theareare t t thear t t therearere t t thearearererere t t t t theare theare t t t theareare t t therere t therererererere t the t therere t there t thererer t thererererererere t t t t t therererere there t thererererere t t t t t t there t t t t thereareare t t t t thearerere t therearerear the t t t theareare t theareare t t t<CUTOFF>\n",
      "\n",
      "Prompt 2: How to use ChatGPT? How should I use ChatGPT?\n",
      "Model output (raw): How to use ChatGPT? How should I use ChatGPT?\n",
      "I a the are a a to a a a to a a the areat a a a a the are a a a the a a a a a per a a the a a a pere ar a the a a a a a pere a to the are a a the are arear are a a the are a a a a the are arear a a the are a a the are are are are the are are the are are the are the are the the are the are are the the are the the the the the the the ther the the the ther the the ther the the the t ther the t there t ther the the the t there t there t t therere t thererer t t theare t t t thererere t there t t therere t there t t therere t t t therererer t ther t therere t the t theare t t t thererere t t thererererer t t therere t therere t t t t t thererere t t t thearearere t ther t t t t therererererere t t t t thearerearererer t t t t theare t t t t t therearererere t t t t thererererere t t t t therererearer t t ther t t ther thererererer t t t t t thererere thererere t therererere t t t t t t t t t the t t t t therereareare t t t t the therererere t t t t t t t thearerear t thearererere t t t the t t therererer t therer<CUTOFF>\n",
      "\n",
      "Prompt 3: My code does not work. What should I do? I have been working on my code, and it does not work.\n",
      "Model output (raw): My code does not work. What should I do? I have been working on my code, and it does not work. I would to the are are are are are to the are are are are to are are areallly are to the are are are are the are are are the are are the are are the are are are the are are are the are are are the are are the are the are the are are the are the the the the are the ar are the the are the the the the there ther ther the the ther the the t the there t there t there t there t there the t there t there t there there t therer t t thererere t the t thererere t there t t there therere t t t therererer t t the t therere t thererer t thererere t therer t t thererererererer t t t t thererer t t thererere t t t thearereare t t t therer t t t thear therere t t thererererereare t t t t t thererear t t t thererer t therererererere t t therer t t t therererere t the t therer ther t therererere t t t t t thererererere t t t t thererererere t t t t t t t t t t t thererererererere t t t t t t thererererearere t tor t t t thererearereare there t the t ther t t therererer there t thererer t t t the the t there t the the thererer<CUTOFF>\n",
      "\n",
      "Prompt 4: Why is this code not working: `1+\"A\"`? Can you help?\n",
      "Model output (raw): Why is this code not working: `1+\"A\"`? Can you help? \n",
      "I the are a a the a a a some a to a a the are a arealll a to a a a a the are a a a a the are a a a a to the are are a a the are a a the are are a the are a a the are are are a a the are are are the are are the are arear are the are are to the are are are the are are the are the are are the are are the the are the the the the the the ther the the the there the the the the ther the ther the t thear t the the the there t the t therere t therere t t thereare t t t therere t there the the t therere t t thererere t t t there therer t there t the t therere t t thererer t t therererere t t thererer therererer t t t t theare t t t t thearerererere t t t thearererere t t t t therererere t t t t thearererereare t t t t t theare t the t t theare t t thererereare t t therererer t t t t therere therere t therer t t t t thererererere t t t therererere t t thererererer t t t t t t t t t the the there t t t t t theareare t t t t therererererereare t t t t t t thearearerere t there t t t therer t there there t the t there t <CUTOFF>\n",
      "\n",
      "Prompt 5: Why is Java better than Python?\n",
      "Model output (raw): Why is Java better than Python? I the are are aread to a the are are arear a the are are arear arear arear a the are arear arear arear arear to a a the are areall are arear arear the areat arear arealll arear the are are arear areall arear the are are the are arear arear are the are are the are are arear the are arear are arear the are are the are are the are are the are the are the are are the are the the are the the the the ther are t thear the t the are the t theare t the t therere t theare t there t therere t the the the the t therear t t therererere t t there t therere t therear t t the t theare t theare t therere t the thererer t t therererere t therere t t t theare t t thearear t t t t thearearerear t t t there t thearere t t thearerereare t t t t thereareare t t t t theareare t t t theare t thererere t therererere t t t thererere t t therere t t t t thearere there t t t therererere t t t therererererer t t t t t t t therererereare t t t t thearere t t t thearerearererere t t t t t t theareare the theare t the t therere t the the th<CUTOFF>\n",
      "\n",
      "Prompt 6: Why is Python better than Java?\n",
      "Model output (raw): Why is Python better than Java? \n",
      "I do the a a the a a a a a the a a a a the are a a a a the a a a a a the a a a a a the are a a a a the are a a a a the are a a a a the are a a a a the are a a a a the are a a a a the are a a a a the are a a a the are a a a area the are arear are to the are a a a the are are are are the are are ar are the are are the are the are are the are the are the the the the are the the ar the the the the the the t there the t there t therear t t thear t are t there t theare t t theare t t the t therere t t therere t the t thererere t t t theare t t therere t therer t t the the theare t t t the therere t t therere t therererere t t there t t t theare t t t therere t theare t t thereare t the t t the t thererear t t t t thearerereare t t t t t t thereare t t t t theare t t therererererearere t t t t t there t therere t t therererer t t t therererere t t t t t thererererere t t therererere t t t t t t t t t there t t theare t theareare t t t t t t t the therereare t the t t t t thearereareare t t the t t t the t t t ther<CUTOFF>\n",
      "\n",
      "Prompt 7: What is the purpose of the main() function in C? I know that it is where the code starts executing, but I am not 100%. Can you help?\n",
      "Model output (raw): What is the purpose of the main() function in C? I know that it is where the code starts executing, but I am not 100%. Can you help? I the are are are to the are are are are to are the are are are the are are to the are are are are the are are are the are are the are are the the are the are are the are the are the the the are the the are the the the ther the the the there the there the there the ther ther the the there t there t the the the t ther the there t there t there t there t therer t therere t thererere t t thererer t t therere t therere t thererere t t therere t t t therererer t t thererere t t thererere t t therererere t t therererererere t there t t t t therer t t thererererererer t t t the thererer t t t therearererere t t t thererererererererere t t t t t t thererearere t t t t therererererererererer t t t t t t thererererererererer t therere t t therererere t t thererer t t t t therererererererererer t t t t t t t t t t t thererererererere t t t t t t thererererererere t t t t t thererearererererererere t t t ther t t t thererer therererer t t t thererer there thererere t t therererere t therere t t t t the t therererererere<CUTOFF>\n",
      "\n",
      "Prompt 8: What is coding?\n",
      "Model output (raw): What is coding? I do this a are arear a the are are arear are arear arear arear arear a the areat arear arealll arear arear arear to a a are arear arear arar a the areall are arear arear arear the areall arear arear areare the are are the arear are arear areare the arear are the are are arear are the arear are are the are are are the are are the are are the are are the are are the the are the are the the are the the the the the ther the there the t thear the the ar t there t thear t there t theare t t thereare t t therere t thear t there t the thererer t t there t t thearerere t the t there t there theare t t theare t t thererere t thearer t t therearere t t t t theare t therere t thear t t t theareareare t t t t thearerear t t there t t therearererere t t t theare t thereare t t t the t t t thearerererere t t thererere t t t thererearerer t t therere t t t thearerere t t t therererererere t t therererere t t t t t t t t t thearerere t t t t thearearere t t the t t thererererere the t thear t t thearear t t theareare t t t <CUTOFF>\n",
      "\n"
     ]
    },
    {
     "data": {
      "image/png": "[encoded data removed]",
      "text/plain": [
       "<Figure size 432x288 with 1 Axes>"
      ]
     },
     "metadata": {
      "needs_background": "light"
     },
     "output_type": "display_data"
    },
    {
     "data": {
      "image/png": "[encoded data removed]",
      "text/plain": [
       "<Figure size 432x288 with 1 Axes>"
      ]
     },
     "metadata": {
      "needs_background": "light"
     },
     "output_type": "display_data"
    },
    {
     "name": "stdout",
     "output_type": "stream",
     "text": [
      "=========================== END OF EPOCH ===========================\n",
      "Prompt 0: Why does Earth orbit the Sun? I think it has to to with gravity, but I am not sure.\n",
      "Model output (raw): Why does Earth orbit the Sun? I think it has to to with gravity, but I am not sure. I the are to are are to ar are to the are are are are the are are to are the are are areal to the are are to the are are to the are are are to the are are are the are the are to the are are the are the are are the are the are the the are the the ther are the the the ther the there the there ther there the there there there there there the there ther there there ther there there therere t thererere t thererere tererererer t tererererererer t thererererere t therererererererererer t t t therererererererer t t therererererererererererer t therererer therererer t thererererererererererer t t t t thererererererererererererererererer t t therererererer terererererererererererererererererererer t t terererererererer terer t t thererererererererererererererererererererer t thererer thererererererererererererererererer t t t tererererererererererer t t t t t t terererererererererer arer arererer t thererererererererer ar therer t t thererererererer thererererererer ther t thererererererererererererererererererererer <CUTOFF>\n",
      "\n",
      "Prompt 1: Hello world, \n",
      "Model output (raw): Hello world, you doesen are to or ar aret aremer to arether arear areter to aret arear arear arear to a the are arear are arear the are arear to are arear the are are the are are the are are are the are are the are the are are are the are are the are are the are are the are the are are the are are the the are are the are the are the are the the the the ther the the ther there there the there therer therere therer therer there therer there there therere therer therererer there t therererererere t thererererererer t thererererererer t therererererererererer t tererererererererererer t tererer t thererererererererererer t therererererererer t thererererererererererer t t t arererererererererererer thererererererer ther t terererererererererererererererererererererererererererer t t t thererererer terer thererererererererererererererererererererer t ther ter therererererererer therererererererer thererererererererererer ar t orererer t t t t t orerererererer orerer t therer therererererererer t ther therererererererererererer<CUTOFF>\n",
      "\n",
      "Prompt 2: How to use ChatGPT? How should I use ChatGPT?\n",
      "Model output (raw): How to use ChatGPT? How should I use ChatGPT?\n",
      "I the are a the are aret a to a the are are are the arear are arear are the arear are areare the are the are are the are are are the arear are are the are the are are the are the are are are the are are the are are the the are the are the the are the are are the are the the the the the are the the ther the ther the ther there the there the there there there there therer ther there the ther therere ther therere therer t thererere t thererererere t therererererererer t t thererererererererer t thererererererererererer t t t thererererererererer t thererererererererer t thererererererererer t t thererererererererererererer t therer t thererererererer thererererererer t thery t thererererererererererererererererererererererererer t t t t tererererererererererererererererererererer t t terererererererererer t therererererererererererererer t t therererererererererererererererer t t t t t t tererererererererererererererererererer thererererer t t ther t t thererer thererererererererererererererer therer therererer<CUTOFF>\n",
      "\n",
      "Prompt 3: My code does not work. What should I do? I have been working on my code, and it does not work.\n",
      "Model output (raw): My code does not work. What should I do? I have been working on my code, and it does not work. I the are to the are are are the are are are the are are to the are are are to the are are are to the or are the are the are are the are are the are are the are the the are the the ther are the the ther are the the are the the ther are the ther ther the the ther there the there the there there therer therer there there there there therer the there there there there therererere t therere t therererererererer t t therererererererer t therererere t thererererererererer t t therererererererererer t t t thererererererererererer t thererererererer therererererererererererer t t t tererer thererer tererererererererererererer t t thererererererererererererererererererererererererer t arerer t terererererer tererererererererererer t terer therererererererererer t t thererer thererererererererererererererererererererererererererer t t t t t t t t therererererererererer t t arerererererererererererererererer t t t tererererererererererererererer t t t therererer thererererererererererererererererererererer t therererer<CUTOFF>\n",
      "\n",
      "Prompt 4: Why is this code not working: `1+\"A\"`? Can you help?\n",
      "Model output (raw): Why is this code not working: `1+\"A\"`? Can you help?\n",
      "I are the are a a the are are are the are of the or the are are are are the or a the are are are the or the or ar are the or the are are are the are the are are the are are the are are the are the are the to the the the to the the are are the the the the ther there ther ther the the there ther ther the the ther the there ther there the there there ther the there ther ther ther there there ther there therere t therererer t therererer t thererererer t therererererer t therererere t therererererererererer t t t therererererererer t therer t thererererererererererererer t therererererer t ter therererererererererer t t t therererererer therererererer therer thererer t thererer thererererererererererererererererererer t t t t terererererer t terererererererererererererer t t thererererererererererer thererer t thererererererererererererererererer t t thererererererererer t t t t t thererererererererererer t t t t t t therererererererererererer t t therererererererererer thererererererererererer ther thererererere<CUTOFF>\n",
      "\n",
      "Prompt 5: Why is Java better than Python?\n",
      "Model output (raw): Why is Java better than Python?\n",
      "I have the are anot the are an to the are a a the are a a the are are the are are the are are the are are the are are the ar to a the are are the are the are are the are are the are the ar are the are arear the are the are the are the the are the the the ther are the the the the ther the ther the the ther there the ther the the the ther the ther there the ther ther the there t there ther the the there t therer the ther there t therere there t thererere t therererer t thererere t thererer thererere t thererererererer t thererer t t therererererererer t ther t therererererererererer t t thererererererer t t thererererererererererer t t t therer thererererererererererer t thererererer t t thererererererererererererererererererererer t t t terererererererererer t t t t thererererererererererererer t therererererererer therer t t therererererererererererererererererererer t thererererer t t t t t t t t therererererererererererererer t t t t therererererererererer t t therererererererererererererererer t thererere<CUTOFF>\n",
      "\n",
      "Prompt 6: Why is Python better than Java?\n",
      "Model output (raw): Why is Python better than Java? I have a to a the are aret areary arear areary to arethe ar are the are are arear the are arear the are arear the are the are are are the are the are to are the are are the are are are the are are the are are the are the are are the are the are are the are are are the the are the are are the are the are the are the the the ther are the the the ther the ther there are ther there ther there ther ther there there ther there ther therere therer t therererer there t thererererer t thererererer t thererererere t therererererererer t t therererererer ther t therer therere t therererererere therererererererer t t thererererererererererer t t t thererer t thererererererer thererererererer t t therer t thererererererererererererererererererer tererer t t thererererer t thererer thererererererererer t t thererererererererer t t thererer therererererererererer t therererer tererererererererererererer t t t t t t t t thererererererererererererererer t thererererer t ther t t thererererererererererererererererer t t there<CUTOFF>\n",
      "\n",
      "Prompt 7: What is the purpose of the main() function in C? I know that it is where the code starts executing, but I am not 100%. Can you help?\n",
      "Model output (raw): What is the purpose of the main() function in C? I know that it is where the code starts executing, but I am not 100%. Can you help? I the to the are are to the are of the or the to the of the the or the of the the or the the the to the of the the to the the to the the the the the the to the the the the there the ther there the the the ther the the ther the there the ther the the the ther there ther there the the ther there the ther there there ther therere t therererer t therererer t thererererer t t thererererererererer t t thererererererererer t t thererererererererer t t therererer t therer thererererererererer t therererererererer t therererererererererer t t t t t therererererererererererererererererer t t t therererererererererererererererererererererererererererer t t t t t therererererer t thererererererererererer t t therererererererererererer t t therererererererererererererererer t t t thererererererererer t t tererererererer t t t t tererererererer t therererererererererererer t t t t terererererererererererererererererererererer ther thererererererererer then therererererererererererererererer t t t t t t therererererererere<CUTOFF>\n",
      "\n",
      "Prompt 8: What is coding?\n",
      "Model output (raw): What is coding? I do the to the of the or are are to are aret arear arether arear are to the are are arear are to arear are areare the arear are are the are are the are are the are are the are are are the are are the are are the are are to the are are the are are the are the are are the are the ther are the are the are the are the are the are the are the the there there there there the there ther there there ther therer there the therer therer there t therere there therer therere t therererererere t t therererere t thererererererererer t thererererererer t t thererererererererererer t t thererer t thererererererererererererererer t t thererererererererererererer t t thererer t thererererererer t arererererererer t t therererererererererererererererererererererererererer t t therererererererer t t t therererererer thererererer t therererererererer thererer therererererererererererererererererererererererererererer t t t t t t t t tererererererererererer t arerer arerer ar thererererererer or t t t thererererererererer therer<CUTOFF>\n",
      "\n",
      "Epoch 7\n"
     ]
    },
    {
     "data": {
      "application/vnd.jupyter.widget-view+json": {
       "model_id": "22e15f8541c7445d8de55e56f5f7d55e",
       "version_major": 2,
       "version_minor": 0
      },
      "text/plain": [
       "  0%|          | 0/1608 [00:00<?, ?it/s]"
      ]
     },
     "metadata": {},
     "output_type": "display_data"
    },
    {
     "name": "stdout",
     "output_type": "stream",
     "text": [
      "=========================== BATCH 750 ===========================\n",
      "Prompt 0: Why does Earth orbit the Sun? I think it has to to with gravity, but I am not sure.\n",
      "Model output (raw): Why does Earth orbit the Sun? I think it has to to with gravity, but I am not sure. I am and a to the complent of to the arough and of the are arouge of the of the are arouge a arof the are are arof the are are are the are are are arof the are are the are are are the are are ar the are are are are the are are the are are the are ar ar are the are are the are ar the are the are ar are the are the are the of the the the the the thear ar the the the the the the thear t thear t thear t the thear t thear t the the t thear the the the the t theare t there the t therer t the there the ther the t thear t theare t the t thear the the t there there ther ther there thear t t t the t there thear ther the the the the thear t t t the therere t there thearere ther thear t t t theare t t t theare the t t thear t theroooooor t t the t t t the the there the t the the the the ther the the the the t the ther t thes therer theroooor t t t the t t t t t the the the t the ther t the the the therooooor t t t t the t the the the ther theroooooooooot t t t t the the the the the t the t the the the the the the the th<CUTOFF>\n",
      "\n",
      "Prompt 1: Hello world, \n",
      "Model output (raw): Hello world, you have are are arofter to of the are areally areathe areather areally areathe areathe areathe areall areathe areathe areathe areall ar areathe areates of the are are are are areally areally areare the areall areathe areathe areathe areates of the are are are are are are the areate areall areathe arear areand the are ar are ar the are are are are the are are are are the are are ar the are ar are the are ar the the are the the ar the are the ar the ar the ar the the thear the the thear t thear ar t the thear t thear t the thear the the the t theare the t the the thear t the thear t the the arear t theare t theare t the theare t thear the thear t thear t the t thear t thear thear t the theare the t the t the theare the t theare thereare t t theare t t theare thear t t the t theare thear the the the the the theare the the the thear t t the ther the theare the t the t the there the the therooooooooor t t t t t t t t the t the the t the the the the the t the the therooooooooooooo t t t t t t t the the the the the<CUTOFF>\n",
      "\n",
      "Prompt 2: How to use ChatGPT? How should I use ChatGPT?\n",
      "Model output (raw): How to use ChatGPT? How should I use ChatGPT?\n",
      "I and the any are and a to the are and a to the are and a to a a point of the and a a the are and a to a proge amplent and a to the are and a to the are and a a to the als a and to the an a point of the to the are and a to the ar and a to the are an the als a a possing a the to the ar and to the the to the ar and to the the the the to the the the the the to the the the the the the the the the the the the the the the t ther the the t ther the the the the t the the t the t the ther t the the t ther the ther the t the the t t ther the the the t the t the the t ther the t the the the the t ther ther the t ther ther t t the the t t the the t the ther the t there the t the t the t the ther the t ther theror the the t t the t the t the the t the the t the t t ther there the ther the the theror t ther t t t the then t the t theroor t t t t t t theroooooor t t t t t ther t t the t t t t t the t t t the t the t the t the the t t t the t theror the t the t t the the ther ther the the the the t the t ther the the the t <CUTOFF>\n",
      "\n",
      "Prompt 3: My code does not work. What should I do? I have been working on my code, and it does not work.\n",
      "Model output (raw): My code does not work. What should I do? I have been working on my code, and it does not work. I that at arout and a to the complent of the are are arof the are are to als o the complent of the to the peop of the of to the of the to the are are arof the of the the are are ar are the are are are the ar are the are are are the are ar are the are are the are are the the are ar the are the are the are the the the the the the the the the the the the the the the ther the t ther thear t the the the the the t there the t t therear t the the the the t there ther the t the the t ther ther ther t the ther t there the the t the ther therere ther t ther t ther therererere t t t the t t ther ther thererer the t theare the t t the t t thereror ther t there therererere t t the the t t the thear t the t t the the the therererere the t the the ther the the the t the t the ther ther thes t therooor t t ther t t t ther therorooooor t t t t t t t t t t the the t theror t t the t t the the theroor ther t t the t t t the theroooooor the t t t the the the the the the the t ther the the the the the the the the the the the the<CUTOFF>\n",
      "\n",
      "Prompt 4: Why is this code not working: `1+\"A\"`? Can you help?\n",
      "Model output (raw): Why is this code not working: `1+\"A\"`? Can you help?\n",
      "I the and a to the of the are and of the of the of the of the of the of the of the of the complent of the of the complent of the of the the complent of the of the of the to the complent of the the of the the to complent of the of the the of the to the the of the the to the peop of the the to the the the the the the the peron to the the the the the the the the the the the the the the the the the the t ther the the the the t the the the t there the t ther the t ther the the t ther the t ther ther the t ther the the t t ther there t the the t the t ther ther t the the ther ther ther ther ther the t ther ther the t t t t ther ther ther there t the the the ther the t the t ther t ther t t torerererer theror t t the t t ther t the the the t t the the the ther therer the t the ther theror the t t t ther ther the t ther the the t tor t t ther the ther ther ther the t the t t t t the t t t the t t t theror the t t t the t ther the theror t t the t t t theror ther therer ther t the ther the theror ther the t ther ther<CUTOFF>\n",
      "\n",
      "Prompt 5: Why is Java better than Python?\n",
      "Model output (raw): Why is Java better than Python?\n",
      "I have the and a the of the off the to the are and a a the are and a to the are and a a the are and a to a the are and a to the alp of the are and a to a the are and a a the are and a to the ar and a to the an a all an a possing and to the an all an to the ar an a the are an to the are all athe an to the ar and to the the the the ar and to the the the ar all at to the the the the the the the the the the the the the the the the the the the t the the the the the the the t ther ther t the the the the t the the the the ther the t the the t the t ther the the t the the the t ther the t ther the the the t ther ther ther ther ther t ther t the t the t the ther the the the t theroooor t t t t the t the ther the t the ther the ther the the t the t t the the t t t the the the ther therere ther t ther t therooooooor t t t t t the t t t t the the the the ther t t the t the t ther ther the the t the the t t the t t the t t t the t the t t the the the t therooooooooor t t t t t t the the the the the t t the the t the ther<CUTOFF>\n",
      "\n",
      "Prompt 6: Why is Python better than Java?\n",
      "Model output (raw): Why is Python better than Java? I have to arothingh and to of the the are are are arof the are are areall areathe areathe arear ares are to a a complention on of the are arof the are are are the are are are the areal are are the are are are the are ar are the are are are to all arothe ar arof the are ar are the are are are the are ar are the are are the are are the are are are the are are the are are the the ar the ar the the the the the the the the the the the the ther the the the the ther thear t t thereare t t the thear t the the the the the therer t t therere the the t there the ther the the t theare t t thear t t thererear t the ther therer thear t the ther t t ther the there ther ther the t the theare the t t the there the t t theare t therereare t t thear t t the t the the the t t theare the the thererere t there the t thear the the t t therooor t t t therer the t theroooor t t t t ther t the the theroor t the t t t t the the t the the t t theroooor t the t t the ther the the t t the t the the the theresthe the the the the the ther <CUTOFF>\n",
      "\n",
      "Prompt 7: What is the purpose of the main() function in C? I know that it is where the code starts executing, but I am not 100%. Can you help?\n",
      "Model output (raw): What is the purpose of the main() function in C? I know that it is where the code starts executing, but I am not 100%. Can you help? I would to bok of the of the are are are arof the of the of the compentions of of the commentions on the of the compentiont on of the to commenting on to the posing of or the the of the to the perop of to the the of to the the are to the of the the of the the to the the the the the the the the the the the the the the the the the t the ther ther t ther tor the the the t the the the t ther the the the t the t ther ther ther t the the t the the ther the the t the t the t ther ther the t ther ther ther ther ther the t the ther ther t the the t t the t the ther ther t t therore ther t ther t the ther the t the tor ther ther ther the t t the t the the t t the the t t ther the theroror the ther t t the theror the the t the t the the t ther ther t t t toror ther t t t the ther t theroror t the t t t t the t the the t t tor t theroor t t t t ther t ther ther t t t t t t tooooor the the ther the the t the the t the the the t the ther t the the the the t ther the the t the the t the the t the t t t t the the the ther t<CUTOFF>\n",
      "\n",
      "Prompt 8: What is coding?\n",
      "Model output (markdown): "
     ]
    },
    {
     "data": {
      "text/markdown": [
       "What is coding?\n",
       "I ant and an the are and to a the are and a to a complent and a the are and a to a a the are and a a to the are and a to the are and a to the are and a to a the are and a to a the are alls a and to the an the are and to the ar and a to the are an the are and to the ar an the als a a the the ar and to the the are all a the are the are the the ar all to the the ar all to the the the are the the the the the the the the the the the the the the the the the the the the the t there t."
      ],
      "text/plain": [
       "<IPython.core.display.Markdown object>"
      ]
     },
     "metadata": {},
     "output_type": "display_data"
    },
    {
     "name": "stdout",
     "output_type": "stream",
     "text": [
      "\n",
      "=========================== BATCH 1500 ===========================\n",
      "Prompt 0: Why does Earth orbit the Sun? I think it has to to with gravity, but I am not sure.\n",
      "Model output (raw): Why does Earth orbit the Sun? I think it has to to with gravity, but I am not sure. I wars to worith to the programmment to the torement are to the are torat arear the arear the toreat or the are the arear the toreme the tore the arear tore the the oreat the torem the torem the the prorat of the there them they tore the the torem the there they tore they they there they tore there the there they there there there there ther there ther therer there ther there therer thery therere therer thery thearer t thererer therery thererer thery therer. therererererery t therererer thererer thery thery thery therererererery thery therery therer thery thererererererererery ther therery ther thery thererer therererererer thery thery therererererery thererererererer. thererererery therer ther ther ther ther therery thererererery thery therererererery therererer ther ther thery thererery therererererererer thererererery therer therer thery thery therer thererererer ther therer ther ther therererererer ther ther thearer thererearerer ther ther therer therererer therer therererererererererer ther therery ther<CUTOFF>\n",
      "\n",
      "Prompt 1: Hello world, \n",
      "Model output (raw): Hello world, I doesn't to be to be or arear to arat arear arear torate arear arear torathe arear arearnd torathe areat torathe areat torathe areat arearnd toraten areat torates areat theare arear torat areat torathe areat arear torathe arear the arear the orear the arear the arear the arear the orear the are the them oreat the tore the the proger of the there them tore the they werere there tor the the tore the there thery thear the there there therer thear thery thererer thear therere thererery ther. theary t thearery thererererer t therearerererery therery therer t thearery therererery thery thearererererery thery thery therery thererery thererery therearery thery ther theary therererererererererererer thery ther ther thererearerererery thererery thererererererer thererer ther ther thererer therer therererery thererer thearerery thererery thery therery ther thearererererererererer therererer thererererery ther ther thery thererer thery therererererer thererer ther therer therererer therer ther thearerererererearer there<CUTOFF>\n",
      "\n",
      "Prompt 2: How to use ChatGPT? How should I use ChatGPT?\n",
      "Model output (raw): How to use ChatGPT? How should I use ChatGPT?\n",
      "I the way to do the can an the to the can an the the the are are the are the are the arear the the to the the they they to coden to the the toreat the are the the to the the they tore the they they to the they tore the they tore the the they tore the they they they they toure the they tore the they they they they toure the to the they they they they there they there there they there ther thear the there ther thery thear there ther therer thear thery thery thererer ther thery therererer ther theary thererer thery therererer ther therer therery thery thearear thear thery thear thery thery theary thearererery thererery ther ther thery thererererererer ther thearery ther thery thear therearerer therererery theary therer thererererer thererer ther therer ther therearery thererery ther theary thery theatherery therer thery thery thery thererererererer thererererery therererer thererery therererer therer ther ther ther therer therer thererererer ther ther therearerererearererer ther thery ther therererer ther there<CUTOFF>\n",
      "\n",
      "Prompt 3: My code does not work. What should I do? I have been working on my code, and it does not work.\n",
      "Model output (raw): My code does not work. What should I do? I have been working on my code, and it does not work. It work to working to the arear areard to the arear tore the orear the to the commery oreath to the they orear the to the commenth oreat the the commenting to the comment tororat the the torem the tore the they orear the the they tore the they they they they tore the they tore the thery the there they there there there thery there there the therer ther there thery there therer thery thererer therer. they thererery therer thery thererererer t thearererer thererery therererer t therery therery thery therererererererer t theary thery therery therery thererery therererererery thery thery therererererer thererererererery ther thery therererer therererererery thererererer thery therer therererer ther thererer ther therererery thererererery thery therererer thererery ther therery thery therererery thererererererery thererererer therery therer ther thererererererer therererer therer therererererer ther ther ther therer thery therer therery therererererery therererer thererererererererererererer thery thererer therer<CUTOFF>\n",
      "\n",
      "Prompt 4: Why is this code not working: `1+\"A\"`? Can you help?\n",
      "Model output (markdown): "
     ]
    },
    {
     "data": {
      "text/markdown": [
       "Why is this code not working: `1+\"A\"`? Can you help?\n",
       "It the ware the are and to the orear and the areat the arear the arear the arear arear the tore the the are the tore the are the they orear the orear the the are the they orear the the they they to the they orear the they tore the the they tore the they tore the they they tore the they they they they tore the they there they thear there they there they there the ther there the ther therery ther ther thear the there thery there therer therery therer therer."
      ],
      "text/plain": [
       "<IPython.core.display.Markdown object>"
      ]
     },
     "metadata": {},
     "output_type": "display_data"
    },
    {
     "name": "stdout",
     "output_type": "stream",
     "text": [
      "\n",
      "Prompt 5: Why is Java better than Python?\n",
      "Model output (raw): Why is Java better than Python?\n",
      "It woriten the to the do the to defferent the to the peren of the the tore and the oreat the are the aread the torem the the torat an the the tore the torement the orear the the they tore the the they tore the the they they tore the they they tore the they they they they tore the they they tore the they they they toure the they toure the they tore the they they tore the ther the they ther they there ther there ther there thery thear there ther therer thery theary ther thear t therer thery thear thery thererer thearer ther ther thery thererer therer thery thear thery thear thear thear thery therer thery therererery theary therery thery thery thery thear therererererer thery thery theary thear thererery thery ther therearearearery ther therer thear thear ther ther therer thererery thererererer therery therery thear ther ther ther thearereary thearer thererererer thererery thery ther therer ther ther ther ther therererer ther therer ther therererer therer thear ther theathearererearerer ther thery ther thery th<CUTOFF>\n",
      "\n",
      "Prompt 6: Why is Python better than Java?\n",
      "Model output (raw): Why is Python better than Java?\n",
      "I was the to the be to the programmmment the to the are the are the arear the they to the are the arear the tore the are the the are the the they tore the the are the tore the the they are the they they to the they deat to the they they tore the they tore the they they they they tore the they to they they toure the they tore the they thear they tore the they they there there they thear they there ther thear there ther thear ther thear thery the thear therery thear ther therery t thearer thery therery thererer thear thearer ther t thear thererery therery ther thery thearear thear thery thery theary thery therererer thery theary thererer ther thery thery thearearerer thearer thery thear ther therererer theary therer thear thearearer therer ther thear ther therer therer thearerery ther therery thearerery therery ther theary thery thearearerery therer thererer ther therer thererery therer thererer ther ther ther thererererer ther therer ther thererererer ther ther ther thearererererearerer ther ther ther thery t<CUTOFF>\n",
      "\n",
      "Prompt 7: What is the purpose of the main() function in C? I know that it is where the code starts executing, but I am not 100%. Can you help?\n",
      "Model output (markdown): "
     ]
    },
    {
     "data": {
      "text/markdown": [
       "What is the purpose of the main() function in C? I know that it is where the code starts executing, but I am not 100%. Can you help?\n",
       "I ware to to the commmany to the can areat tore the tore the the they orear the the oreme the to the the programmment to the torem the the tore the they orear the the they tore the they tore the they tore the they tore the there they there tore the there there they tore the there the thery there there there therer thery thear there therer therer therer therer."
      ],
      "text/plain": [
       "<IPython.core.display.Markdown object>"
      ]
     },
     "metadata": {},
     "output_type": "display_data"
    },
    {
     "name": "stdout",
     "output_type": "stream",
     "text": [
      "\n",
      "Prompt 8: What is coding?\n",
      "Model output (raw): What is coding?\n",
      "It don't the the down the offiner the they offer the they are the aread the arear the the are the aread the are the the arear the tore the are the arear the the are the areat the toreat the are the the they ore the the they orear the they they tore the the they they deat to the they tore the they tore the they they they tore the they they they they tore the they they there they there they there ther the they there ther thear ther there thery thear therer thear there thery theary ther thearer t thear thererer therer therery thearer therery therer therer therery therer thery thearer thear theary theary theary thery thery therererererererery thererer ther ther ther thearer thearer thearererer thery thear ther ther theary thery thearery theary thererererer therear thear ther ther thear thearererererer therer theary thererearery ther ther ther thery thearery thearerer therererer thererererery thererer therer thererer ther ther therer thererer therer therer therererererer therer ther theather theareatherer ther th<CUTOFF>\n",
      "\n"
     ]
    },
    {
     "data": {
      "image/png": "[encoded data removed]",
      "text/plain": [
       "<Figure size 432x288 with 1 Axes>"
      ]
     },
     "metadata": {
      "needs_background": "light"
     },
     "output_type": "display_data"
    },
    {
     "data": {
      "image/png": "[encoded data removed]",
      "text/plain": [
       "<Figure size 432x288 with 1 Axes>"
      ]
     },
     "metadata": {
      "needs_background": "light"
     },
     "output_type": "display_data"
    },
    {
     "name": "stdout",
     "output_type": "stream",
     "text": [
      "=========================== END OF EPOCH ===========================\n",
      "Prompt 0: Why does Earth orbit the Sun? I think it has to to with gravity, but I am not sure.\n",
      "Model output (raw): Why does Earth orbit the Sun? I think it has to to with gravity, but I am not sure. I want to the commenting arout the are arour the are are to the commmenting and to the commenting and to the commenting and to the carat arom arout to the commmmating all or the commmmmating and to the carat arout the or the carat arom the the protic to the carat aroun to the the commmmenting or the prog to the the proge to the the the the proring tow the the to the the the the the t proror t tor the t ther the tor t the tor t the t the ther t the the t ther t theror t t t thery t the t theror t t ther t the t t theror t t theror t t t theror t t thery t theror t t theror t ther t t t t t t theror t t theror t t theror t ther t t t t ther t theror t t t t theroror ther t t t t ther t t ther t t t the t t t theror t t theroror t t t t t t torororor t t ther t t t t t ther t t t theroror t t t tor t t t ther t t t t t tororororor t t t t t t t t t t t t t t t t tororororor t t t t t t ther t t ther t t t t t t t t t tororor t ther ther t t t t t t t t t theror ther t t t theroror t t theror t t t t t t t t t t<CUTOFF>\n",
      "\n",
      "Prompt 1: Hello world, \n",
      "Model output (raw): Hello world, how does the dist arout the or are arout arout to arating arat arout to arat arat aror aror aror aror aror aror aror aror aror aror the are aror aror aror aror aror aror aror the are aror aror aror aror the are aror are aror the are aror are aror the are aror are aror are som aror aror aror the are aror aror the are aror are aror the are are the are are aror the are are the are ar are the are ar the the the pering to the the the the peror the the the t arer the t there t pror tin t ther t there t ther t the t theror t t the t ther thery t the t ther t the t ther ther t ther t t ther t theror t t t ther t thery ther t therer t t ther t therery t t ther t t t t therory t t t theror t t t theror t ther t t t t therer t t t therorer t t therorery t t t t t t therer t ther t t t t t ther t t thererorery t t t t t t therororor t t t t t t ther ther t t t theror t t t t torororor t t t t t ther t t theror t t t t t t t t t t toror t t t t t t t t t t t t t thererorereror t t t t tor t t t t t theror t theroror t t t<CUTOFF>\n",
      "\n",
      "Prompt 2: How to use ChatGPT? How should I use ChatGPT?\n",
      "Model output (raw): How to use ChatGPT? How should I use ChatGPT?\n",
      "I work the are at a a comple an the arouge a the commmanting and a the comman and a the some to the commanting and to the commanting and to the can arout to the arat arout the are the are arout the are the to the care an the to the code to the the care an the the commmenting to the can arout the to the the commmenting to the to the carat aroll to the the to the the the to the the the the the there the the tor the the the the the t there t there t tore t ther ther t the the t the the t thery t there t thery t the t there t t ther t therer t the the t t there t thery t ther t theror t thery t thery t t therer ther t t ther t t t therory t t theroror t t t there thery t t t ther ther t ther t t therorerer t t t torere t t t t therer t t t theror the t t t theror ther t t theror t t theroror t t t t t theror t ther t theror t t t t theror t t the t t t t therorororor t t t t t t t t t t t t t the t t t theroror t t t t t t ther t t t therororororor t t t t t t ther t theror t t t t t t theror t theroror t t t th<CUTOFF>\n",
      "\n",
      "Prompt 3: My code does not work. What should I do? I have been working on my code, and it does not work.\n",
      "Model output (raw): My code does not work. What should I do? I have been working on my code, and it does not work. I would to the commany arom to the commment or aror the are aror the are arour the are arout the or ar are the are arour the are are aror the are the are are to the commmmmenting all or the are aror are the are aror the are aror the are the are aror the are the to the som the to the sear arol the are the are the the prore the the the the the peror tin the the the the the t proror t ther the the t thery the t there t ther t there t thery t ther ther t theror t the t t ther t t thereror t t ther t ther t the t therer t t thery t theror t t thery therer t t t therererer t t t t t thery t ther t t theror t t theror thery t t t ther ther t t t t ther thereroror t t t t theror t t t t t t t the t theror t ther therorer t the t t t t t therorororor t t t t t t ther t t t t theroror t t t t t t t t ther theror t t t theroror t t t t t t t t t t t t t t t t tororororor t t t t t t ther t t t theroror t t t t t t theroror ther ther t t t t t t t t t theror t t theroror t t t t t theror t t t t ther t t t t theror t t <CUTOFF>\n",
      "\n",
      "Prompt 4: Why is this code not working: `1+\"A\"`? Can you help?\n",
      "Model output (raw): Why is this code not working: `1+\"A\"`? Can you help? \n",
      "I want to the arouat a the are a the are are a the are arout the are the are are are the are are the are are the are arout the are are the are are are the are the are are the are are are the are are the are are the are are the are are the are the are the are are aror the are are the the are are the are the are the are the the sor the the the the sear ting to the the the ther the the the ther to the the the the t proror t the t tor the the t the the t ther the t the t theror t t ther t theror t ther t the t t ther t t ther ther the t t ther t t theror t t ther t t theroror t t t ther t thery t thery the t t ther t t t theror t t t theror t t t therororor t t t ther t t t ther t t ther theroror t t thery t t t t t t therer t t t t theror theror t t ther theror t t t t t t t theroror t t ther t t t t ther t t theroror t t t t t t theroror t t t t t therorororor t t t t t t t t t t t t t t t therororor t t t t t t t t t t therororor t t t t t t t t t therorororororor t t t t t t t t t t theroror t t t t theror <CUTOFF>\n",
      "\n",
      "Prompt 5: Why is Java better than Python?\n",
      "Model output (markdown): "
     ]
    },
    {
     "data": {
      "text/markdown": [
       "Why is Java better than Python?\n",
       "I would the to the do the are a the are a the arat a the are a the are are a the are are the are are the are are the are are the are are aror the are the are are the are are the are are the are are the are are the are are the are are the are are the are are the the are are the are are aror the are the are the the som the the are aror the are the are the are the the are the ar the are the the the the the ther the the the ther the the the the t pear t tin t therere t the ther t the t thery llllllll t t t theare t t toror t t ther t thear t t ther t the ther t thear t t thear t t t t theary t ther t thery t thererer lllllllllllllll."
      ],
      "text/plain": [
       "<IPython.core.display.Markdown object>"
      ]
     },
     "metadata": {},
     "output_type": "display_data"
    },
    {
     "name": "stdout",
     "output_type": "stream",
     "text": [
      "\n",
      "Prompt 6: Why is Python better than Java?\n",
      "Model output (raw): Why is Python better than Java?\n",
      "I does this a the are a the are arout the are a the arat are a the are are the are are the are are the are the are are the are are are the are are the are are the are are the are are the are are the are are the are are the are are are the are are the are are are the are are the the are are the are are the are the are the to the are the are the are the ar the are the are the the the the ther the the the ther the to the the the the ther the t are t there t thear t the t there t there t t thear t t thery llllllllll t ary t t t t thear t t theare t t theare t t t thear t t thearear t t t t theare t t theary t t theare t t therear t t t t thear t t t theare t t t thearor t t thear t t t t thearear t t t t t t thearorory t lllllllllllllllllllllll t t t t t t t t t t t t torororororor t t t t t t t thearoror t t t t t t t torororor t thearor t t t t t t t thearor t t t thearororororor t t t t t t t t t t t thearor t t t t t t t t thear t t t thearororor t t t t t t t t thearorororor t thear t t t t t t the t t ther<CUTOFF>\n",
      "\n",
      "Prompt 7: What is the purpose of the main() function in C? I know that it is where the code starts executing, but I am not 100%. Can you help?\n",
      "Model output (raw): What is the purpose of the main() function in C? I know that it is where the code starts executing, but I am not 100%. Can you help?\n",
      "\n",
      "I would to the care arout the prot to the commmanting and to the commmanting and to the commmating and to the carat an to the commmmenting and to the can arom to the carat arout the to the carat an to the the can arould to the to the carat aroll to the the proting to the the the the the the the pror to the the the the the the the the the the proror t t theror t tor the t toror t t the t the the t the the t theror the t t ther t the t t ther ther t thery t t theror t t t theror t the t theror t t theror t ther t t thery the t ther t t t t thery the t t theroror t t t theror t the t t t t theror t the t t t theroror t t t theroror t t t t t t theror t t t t ther ther ther theror t t t t theror t t theror t t t t t t ther ther t t theroror t t t t t t t toror t t theror t t t therororor t t t t t t t t t t t t t t t theroror t t t t t t t t t therororor t t t t t t t t tororororor t t t t t t t t t theror theroror t t t t t t theror t t theror t t t t t theror t t ther t t t t t t t t t t t t t t ther t theror<CUTOFF>\n",
      "\n",
      "Prompt 8: What is coding?\n",
      "Model output (raw): What is coding? I do work to the arout arout to the code arout to the are arout to the commmany arom to the code arod to the commmmating an to the code arom to the code at to the commmenting on the code oding to the to the carat arour the are aror the are aror the are aror the are aror the to the carat arould to the commmating to the commmating to the carat arout to the commmating to the to carat arom to the the the pror to the the the the the paror t toro t the the the the t the the ther t paror t t toror t the t theror t the t the t ther the t theror t t t theror t t the t ther the t the t t ther the t thery t t ther theror t t thery t theror t t theror t t ther t t t t ther t theror t t theror t ther t t t t thery ther t t theror t t theroror t t theror t t t t t t ther t t t ther t the theror t t therororor t t t t t t t torororor t t t t t t ther t t t theroror t t t t t t therororor t t t t t t theroror t t t t t t t t t t t t theror t t t t theror t t t t t t t t therorororor t t t t t t t t t theror theroror t t t t<CUTOFF>\n",
      "\n",
      "Epoch 8\n"
     ]
    },
    {
     "data": {
      "application/vnd.jupyter.widget-view+json": {
       "model_id": "a07e3ea2c5f242ada743c824cdf9328e",
       "version_major": 2,
       "version_minor": 0
      },
      "text/plain": [
       "  0%|          | 0/1608 [00:00<?, ?it/s]"
      ]
     },
     "metadata": {},
     "output_type": "display_data"
    },
    {
     "name": "stdout",
     "output_type": "stream",
     "text": [
      "=========================== BATCH 750 ===========================\n",
      "Prompt 0: Why does Earth orbit the Sun? I think it has to to with gravity, but I am not sure.\n",
      "Model output (raw): Why does Earth orbit the Sun? I think it has to to with gravity, but I am not sure. I wor the compent or the commend of the commend on the commend on the commend on the comend on the compen on the code on the code on the commenting on the code on the the complene of the code on the of the comenting of the the comenting on the the code on the the comen on the compent of the the comen on the the con the the the the pere the the the the the the the the the the the t ther the the t ther the t the ther t ther t. were t ther the t the the t ther t therer t the t t there t t therer t ther t the the t t t there t there t t ther there t t ther t ther t therer ther t t ther t t t t therer t t therere t t t therere ther t t t t t therer t t therere t t thererererer t t t t t t t therer there t t t t t t t t ther thererer t t t ther t thereror t t ther t t t t t t therer therererer t t t t t t therer t t t ther t t therererer t t t t t t t t t t t there t t t t t t t t t thererer t t ther therer t t t t t t therererorererer t t t t t t t t t t t theroror t t t therer t ther t theror t t ther t t t t t <CUTOFF>\n",
      "\n",
      "Prompt 1: Hello world, \n",
      "Model output (raw): Hello world, how do you how do the decient of the code on the or ar are the compendent of the or are the are are the are the compendent of the code of the of the commenting of the code on the or the compent of the code on the code on the of the comenting on the or the code on the of the the code of the the code on the the coment on the the code to the compent on the the peren to the the coment to the the the peren the the the the the the the the the the the the the the the t ther ther t there t ther t there t t. the the the t there t the t ther there t t the t ther t t ther t therere t t ther t ther t therer t t ther t ther there t ther ther. t t therere t t ther t t t t therere t therer t t t thererere ther t t t t therer t t t therererererer t t t t t thererere t t t the t the t t t t t thererere t therererere t t t t therererer t t t t t t t theren t then t therer t t t therer t therer t t t t t t therereren t t t t t t t t therere t t t t therer t t t t t t t ther t t therorere t t t t therer t there t therererer t t <CUTOFF>\n",
      "\n",
      "Prompt 2: How to use ChatGPT? How should I use ChatGPT?\n",
      "Model output (raw): How to use ChatGPT? How should I use ChatGPT?\n",
      "I a can an the compant then the code the the code the the code the the code of the complenent of the code on the the comend of the code on the the code on the the code on the the code to the the code on the the code to the code to the code to the the code to the the code to the the code to the the code to the the the coment to the the coment to the the coment to the the the the the the the the the the the the the the t ther the t the the the t the the t the the t the t the t ther t the t the t ther t ther t the t t ther t t ther t the t the t the t t there t t t ther t the t ther t t the ther t t ther t t ther t ther t t t t t ther t there t the t t t the the ther t t t t t t t ther t the t t t therererer t t t t t t t t ther the t t t t t t the t t t ther t therer t t t t t t theror ther t t t t t t theror t t t t t ther t t t t t t t t t ther t t ther t t t therer t t t t t t t t t t t t t t t t t t t toror t t t t t t t t t t t t theror t t t t t t t the t t t theroror t t t t t t t t t t ther the t t t t<CUTOFF>\n",
      "\n",
      "Prompt 3: My code does not work. What should I do? I have been working on my code, and it does not work.\n",
      "Model output (raw): My code does not work. What should I do? I have been working on my code, and it does not work. I wor the work are are the commend on the compendent of the compencent of the comend of the comend on the code on the comenting on the code on the the comenting of the comend on the code on the compenting of the comenting of the comen or the coment on the the coment of the the con to the coment on the the comen to the the the the pere the the the the the the the the the the t ther the the t ther the t ther t. there t the t ther the t ther t the ther t there t t therer t t t therer t there t the the t t there t t there t ther t therer t t therer t therer t t ther t t t ther t t t therererer t t there t t thererer t t t t t thererer t t t therer t therererer t t t t t therer t the t t there t t t t t t therer therererere t t t t t t t therorerer t t t t t t then therer t therer t t t t t t therer t t t t therererorer t t t t t t t t t t t t t therorererere t t t t t t t t t t t t thererororor t t t t t t t t t ther therererer t t t t t ther t t ther ther t t t therer t t t t theror t ther the t t t t t t ther <CUTOFF>\n",
      "\n",
      "Prompt 4: Why is this code not working: `1+\"A\"`? Can you help?\n",
      "Model output (markdown): "
     ]
    },
    {
     "data": {
      "text/markdown": [
       "Why is this code not working: `1+\"A\"`? Can you help?\n",
       "I would the complent of the code of the code on the of the compant of the compendent of the code on the the code on the of the complent of the code on the complenent of the code on the or the coment of the code on the of the code to the compention on the code the the code to the comenting on the the compent of the the compenting of the the the coment to the the the the the con the the the the the the the the the t the the the t ther the the t the t ther t."
      ],
      "text/plain": [
       "<IPython.core.display.Markdown object>"
      ]
     },
     "metadata": {},
     "output_type": "display_data"
    },
    {
     "name": "stdout",
     "output_type": "stream",
     "text": [
      "\n",
      "Prompt 5: Why is Java better than Python?\n",
      "Model output (raw): Why is Java better than Python? I work and arough are the complent of the commendent of the code on the of the commend of the code on the of the complenent of the code on the of the compendent of the code on the of the comend on the or code on the or the comenting on the code on the the code on the the code on the of the the comenting of the code on the the code to the the con the the coment on the the the con the the the the the the the the the the the the the t ther the t the the the t ther t ther t ther t the t ther t there t the t t there t ther t t ther t ther t t t therer t ther t t ther t the t t ther t t ther ther t t ther therer t t t t therer ther t t t t t the t t t t thererer t t ther t there t t t t t ther t t t ther t t t t therererer t therer t t t t t ther t t t t t t t t thererer t t t thererer t t t t ther t ther t t ther t t t t ther t t t t ther t t t tororor t t t t t t t t t t t therororor t t t t t t t t t t t t t t t t t t t t t t t t t t t t t t t therororor t t t t t t t t ther t t theror t t t t t t t t t t t the<CUTOFF>\n",
      "\n",
      "Prompt 6: Why is Python better than Java?\n",
      "Model output (markdown): "
     ]
    },
    {
     "data": {
      "text/markdown": [
       "Why is Python better than Java?\n",
       "I the the complent the of the complent of the the code of the the complenent of the code on the of the code on the of the code the of the the code on the of the compention on the of the code on the of the comenting on the code on the the coment on the code the the comenting on the the code to the the code to the the the code to the the the the coment to the the the con the the the the the the the the the the the the the the the the t ther the t the the the t the t ther the t."
      ],
      "text/plain": [
       "<IPython.core.display.Markdown object>"
      ]
     },
     "metadata": {},
     "output_type": "display_data"
    },
    {
     "name": "stdout",
     "output_type": "stream",
     "text": [
      "\n",
      "Prompt 7: What is the purpose of the main() function in C? I know that it is where the code starts executing, but I am not 100%. Can you help?\n",
      "Model output (raw): What is the purpose of the main() function in C? I know that it is where the code starts executing, but I am not 100%. Can you help? I would the code on the or the comment of the code of the comment on the comens of the comens of the comens of the comend of the comens of the comens on the comens on the comenting on the comens on the compenting on the the compenting of the of the the coment of the the the peren the the the the the the the the the the the the the the ther the t ther ther the t there t ther the t the the t ther t ther the t ther ther t there t t ther t ther t ther t there t t the t ther t therer t t ther ther ther t ther t t t ther thererer t t ther t t the t ther t t therer t the t therer t ther t t t ther t ther t t ther t ther thererererere t t t t t t t t t there t t t therer t t t therorerer t t ther t t t therorer t ther t t t t t then t t t therer t t t theror t ther t t t t ther t theror t t t t t t t t t t t therer t t t t t t t t t t ther t ther thereror t t t t t t t t ther theror t theror t t t t t t t t t t theror ther t t t ther t therereror the t t t t t t t t ther ther t t ther t t t t t t t t t t ther ther t<CUTOFF>\n",
      "\n",
      "Prompt 8: What is coding?\n",
      "Model output (raw): What is coding? I do at arouge the commenting on the code of the compande of the code on the of the compendent of the code on the of the complenent of the code on the of the commend on the code on the code on the code on the code on the the compent of or the comend on the code on the the code on the the code to the code to the coment on the the code to the the coment on the the coment to the con the the the peren the the the the the the the the the the the the the the ther the the t ther ther the the t ther t. the t there ther t there t the t therere t t ther t there t t therere t t ther t there t there t ther t t ther ther ther t ther ther t therer the t ther t t t the t therer t t thererere t t t thererer t t t t therer t ther t t t therererer t t thererere t t t ther t t t the the t t t therer t thererer t t t ther ther t thererer t the t t t theren t t t ther ther t t t ther t t ther ther t t therer therer t t t t t t the t t t t therer t t t t t the t t t t t ther t therereror t t t t t ther ther thererererere t t t t <CUTOFF>\n",
      "\n",
      "=========================== BATCH 1500 ===========================\n",
      "Prompt 0: Why does Earth orbit the Sun? I think it has to to with gravity, but I am not sure.\n",
      "Model output (raw): Why does Earth orbit the Sun? I think it has to to with gravity, but I am not sure. I want to work the or are the perate of the peret of the perenter of the pere of the perent of the perenter of the perenter of the ore are are are the perent or of the perent of the perest of the ore the perent of the sere the peret of the ore the perent of the the perent of the they seare the peretent of the ore the are the perent ore the the peres the ther the the ther ther the ther ther there ther ther therer. ore there ther ther ther therer ther therer therer ther ther therer ther ther therer ther ther ther therererer t therer ther therer ther ther. thererererer thererer t ther ther. ther ther therererer therer therether ther therer t ther thererer thererer ther thererer. t thererer ther thererer ther ther ther ther thererer thererererer ther thererer thether ther ther ther therer ther ther ther thererer therererererer ther ther ther ther t ther t therer ther therererer ther ther ther therer ther therer t ther ther therererererer ther ther ther therer ther ther thererererer ther ther ther therer ther. th<CUTOFF>\n",
      "\n",
      "Prompt 1: Hello world, \n",
      "Model output (raw): Hello world, are are aror are aror are are the ralles around of the are around of the are aror are aror are aror are the are around of the searing around of the peore of the peore of the ore are are aror are aror are the are aror are aror the are are aror the are are aror the are are the are aror the are are the are the sear the sear the sear the sear the sear the sear the sear the sear the sear the ar the sear the the sear the the the sere the the the ther the the ther the ther ther ther there the t therer ther t therer ther ther ther ther t thererer ther t they ther ther therer ther ther they t thererer. t they they therer ther ther ther therer ther thererer. t t ther ther they thererer therer thererer ther ther ther ther therer t thererererer ther t therererer t ther ther ther ther ther therer ther thererer therer ther thererethererer thet ther t ther ther thererer ther ther t ther ther. ther therererererer ther t ther therer t t t t thererererererer t t ther therer thererererer t ther ther ther theresthererether t t t<CUTOFF>\n",
      "\n",
      "Prompt 2: How to use ChatGPT? How should I use ChatGPT?\n",
      "Model output (markdown): "
     ]
    },
    {
     "data": {
      "text/markdown": [
       "How to use ChatGPT? How should I use ChatGPT?\n",
       "I want the be to bo the person of the person of the perent of the perent of the perent of the perent of the perent of the perent of the perent of the semet ore the perent of the sere the peret of the the perent of the semet the ore the perent of the the perent of the the perent of the the perent to the sear the seare there the sear the the perent of the the they were the the the peret to the the the ther the ther the ther the ther ther there ther."
      ],
      "text/plain": [
       "<IPython.core.display.Markdown object>"
      ]
     },
     "metadata": {},
     "output_type": "display_data"
    },
    {
     "name": "stdout",
     "output_type": "stream",
     "text": [
      "\n",
      "Prompt 3: My code does not work. What should I do? I have been working on my code, and it does not work.\n",
      "Model output (raw): My code does not work. What should I do? I have been working on my code, and it does not work. I would the be be arout the comenter of the peret of the perent of the perent of the peret of the perent of the perent of the sere of the perent of the perent of the ore the perent of the seare or of the ore the perent of the seare the ore the sear or of the ore the ore the perent of the the perent of the the peres. It wherer there the the there there there therer there therer therer thererer. therere therer thererer ther therer therererer. thererer therererer thererer ther thererer therererer ther therer. therererer therer therererer therer. thererererer thererererer ther ther ther therererererer thererererererererers ther therer therer. thererererererersther. therererer therererer ther thererer thersther thererererererer thererererer therererer ther thersther thersthererererer therer thererererstherstherstherererer ther ther ther. ther t ther t thererer ther therererer ther therererererer therererererer thererererererer ther thererer. therererererer therererererer therererererererererer. therer therstherer<CUTOFF>\n",
      "\n",
      "Prompt 4: Why is this code not working: `1+\"A\"`? Can you help?\n",
      "Model output (markdown): "
     ]
    },
    {
     "data": {
      "text/markdown": [
       "Why is this code not working: `1+\"A\"`? Can you help? \n",
       "I want the to book of the of the problem of the comention on the code on the code on the comenting on the code on the code on the code on the cometing on the code on the counction on the code on the colle the code the the code to the code to the code the the care the the sell to the sere the the peret to the the peret to the the the pet to the the the ther the the ther the the ther the ther the the the the ther the the ther the ther ther ther ther."
      ],
      "text/plain": [
       "<IPython.core.display.Markdown object>"
      ]
     },
     "metadata": {},
     "output_type": "display_data"
    },
    {
     "name": "stdout",
     "output_type": "stream",
     "text": [
      "\n",
      "Prompt 5: Why is Java better than Python?\n",
      "Model output (markdown): "
     ]
    },
    {
     "data": {
      "text/markdown": [
       "Why is Java better than Python? \n",
       "I would the be of the be of the perent of the perace of the perent of the or and or and the semet the sear the sear the sear ar and the seer the sear the sear the sear ar and the see ther sear the sear the sear the sear the sear the sear the sear the sear the sear the sear the sear the sear the sear the sear the sear the sear the sear the the sear the the sear the the the sear the the the ther the the ther the the the ther the the ther the the ther the ther they ther ther ther."
      ],
      "text/plain": [
       "<IPython.core.display.Markdown object>"
      ]
     },
     "metadata": {},
     "output_type": "display_data"
    },
    {
     "name": "stdout",
     "output_type": "stream",
     "text": [
      "\n",
      "Prompt 6: Why is Python better than Java?\n",
      "Model output (markdown): "
     ]
    },
    {
     "data": {
      "text/markdown": [
       "Why is Python better than Java?\n",
       "I the are the they of the offere the person of the perent of the perent of the perent of the perent of the perent of the perenter of the perent of the or and of the seme the perent of the seme the peresss of the semet ore the perent of the perent of the perest of the seare there or and the sear are the sear the sear the there sear the sear the the sear the they sear the the sere the the ther the the ther the ther the ther the the the ther ther the ther ther therey ther ther."
      ],
      "text/plain": [
       "<IPython.core.display.Markdown object>"
      ]
     },
     "metadata": {},
     "output_type": "display_data"
    },
    {
     "name": "stdout",
     "output_type": "stream",
     "text": [
      "\n",
      "Prompt 7: What is the purpose of the main() function in C? I know that it is where the code starts executing, but I am not 100%. Can you help?\n",
      "Model output (markdown): "
     ]
    },
    {
     "data": {
      "text/markdown": [
       "What is the purpose of the main() function in C? I know that it is where the code starts executing, but I am not 100%. Can you help? \n",
       "I want to the sear of the peore of the perate of the perest of the perest of the ore the courese on the corould the or the perent of the ore the perent of the seare the perest of the the perent of the the petiont ore the ore the perent of the the peret of the the there the perent to the the perent the there the there ther there the therer ther there ther ther."
      ],
      "text/plain": [
       "<IPython.core.display.Markdown object>"
      ]
     },
     "metadata": {},
     "output_type": "display_data"
    },
    {
     "name": "stdout",
     "output_type": "stream",
     "text": [
      "\n",
      "Prompt 8: What is coding?\n",
      "Model output (markdown): "
     ]
    },
    {
     "data": {
      "text/markdown": [
       "What is coding?\n",
       "I do at about the saring a programming the problem of the perople of the people or and and the seme and of the seme the semeting and of the seme and of the perople of the semetings or and and arouth the seare are and the seer the sear the sear the seard to the sear are ard the sear the sear the sear the sear the the sear the sear the the sear the the sear the the sear the the the sear the the the the sere the the the the ther the the the the ther the the the ther ther ther they there t therer t."
      ],
      "text/plain": [
       "<IPython.core.display.Markdown object>"
      ]
     },
     "metadata": {},
     "output_type": "display_data"
    },
    {
     "name": "stdout",
     "output_type": "stream",
     "text": [
      "\n"
     ]
    },
    {
     "data": {
      "image/png": "[encoded data removed]",
      "text/plain": [
       "<Figure size 432x288 with 1 Axes>"
      ]
     },
     "metadata": {
      "needs_background": "light"
     },
     "output_type": "display_data"
    },
    {
     "data": {
      "image/png": "[encoded data removed]",
      "text/plain": [
       "<Figure size 432x288 with 1 Axes>"
      ]
     },
     "metadata": {
      "needs_background": "light"
     },
     "output_type": "display_data"
    },
    {
     "name": "stdout",
     "output_type": "stream",
     "text": [
      "=========================== END OF EPOCH ===========================\n",
      "Prompt 0: Why does Earth orbit the Sun? I think it has to to with gravity, but I am not sure.\n",
      "Model output (raw): Why does Earth orbit the Sun? I think it has to to with gravity, but I am not sure. I ware to work to the complent aror to the complent of the complent of them to complent or to the complention on the complention of the complention on the complation on the code to the complention on the complention on the to colll ton the the complentiontion on the to colll to the complentiontion on the to con to the complentionting on to the the are to the to the to the to the the the the the tin tin tin tin tit tin tit. t tery tery thellllll t tet the t tory torere tery the thery te the the t thery. thery theret thet ther tit t thery thery thery thery titit. thether ther. thet t tery tither thether t thar tit thererethet. tit t t titet titer titit t tery. tetery titery. thetitit ter ter ther ther thethet tititit tit thithetiting. t t tery t thethetiter t t t thethitit ther thery ther titit tit tit titing. t ting. titeng. tery t ter thery tery. thet tethet t thererer thet thet t thery therethery ter thetit t thetheter thery. thethet thethetit thetitit thery thit thether thery tery ther thether thethithit t<CUTOFF>\n",
      "\n",
      "Prompt 1: Hello world, \n",
      "Model output (raw): Hello world, do you have are are the rating of the code on the code on the completion of the code on on the the complent of the code on therat of the complentions of the code on to them orof the complention on the complention on the collice on the collly on the to completion on the to code to to the complention on the to colll arout to the collly are to the collly on the the the dist to the the diting to the the to deating to to the the the the tor the toll to the the the the thell tor the tin tin t thelly t. they thery the the there t thery therellllll t t thery thery the thet thery. thery they there ther thery thery. thery thery thery. therery thery thererery. thery thery thethery. therererer ther. thethithithing. t tery ther thithitery thery.\n",
      "\n",
      "\n",
      "\n",
      "\n",
      "\n",
      "\n",
      "\n",
      "\n",
      "\n",
      "\n",
      "\n",
      "\n",
      "\n",
      "\n",
      "\n",
      "\n",
      "\n",
      "\n",
      "\n",
      "\n",
      "\n",
      "Ithethethethethary thethar thery thary thethery thery thery thery thery thethar thery thathary tharery thery thary the therer thererery thary thery thery thery thery ther ther therer thery ther the ther ther thererery thery thery therery thery thery therer thi<CUTOFF>\n",
      "\n",
      "Prompt 2: How to use ChatGPT? How should I use ChatGPT?\n",
      "Model output (markdown): "
     ]
    },
    {
     "data": {
      "text/markdown": [
       "How to use ChatGPT? How should I use ChatGPT?\n",
       "It working anytond the work a to bot any with and to the complent of the complention to code to the complention to the complention to code to the complention to the code to the complention to the complention on the code to the comple on to the complention to the complention to the complention to the complention to the code to to the to colll to the the to the to decontion ting to the to the the tor to the the to the the the tor the tor the the t."
      ],
      "text/plain": [
       "<IPython.core.display.Markdown object>"
      ]
     },
     "metadata": {},
     "output_type": "display_data"
    },
    {
     "name": "stdout",
     "output_type": "stream",
     "text": [
      "\n",
      "Prompt 3: My code does not work. What should I do? I have been working on my code, and it does not work.\n",
      "Model output (markdown): "
     ]
    },
    {
     "data": {
      "text/markdown": [
       "My code does not work. What should I do? I have been working on my code, and it does not work.\n",
       "I would to the bot arout the complent of the complent of the complention to comple on the complenting on the complention to code to to the complention to the complention on the complention on the to code to the to code to the to the complention to the complention to the to complention to to the complentiontion to to the to complention ton to the the to the to the to the the the the tor the tin tin tit."
      ],
      "text/plain": [
       "<IPython.core.display.Markdown object>"
      ]
     },
     "metadata": {},
     "output_type": "display_data"
    },
    {
     "name": "stdout",
     "output_type": "stream",
     "text": [
      "\n",
      "Prompt 4: Why is this code not working: `1+\"A\"`? Can you help?\n",
      "Model output (markdown): "
     ]
    },
    {
     "data": {
      "text/markdown": [
       "Why is this code not working: `1+\"A\"`? Can you help?\n",
       "I do you commplent and the complention to code any work to the complent and to the complent of the complention to complention to complention to code to the complention on the code to the complation on the to code to the code to the to complention to the complention to the complention to the complention to the complention to the complentiontion to the to conde to the the the to dene to the the the to the the the the the the thelll."
      ],
      "text/plain": [
       "<IPython.core.display.Markdown object>"
      ]
     },
     "metadata": {},
     "output_type": "display_data"
    },
    {
     "name": "stdout",
     "output_type": "stream",
     "text": [
      "\n",
      "Prompt 5: Why is Java better than Python?\n",
      "Model output (markdown): "
     ]
    },
    {
     "data": {
      "text/markdown": [
       "Why is Java better than Python?\n",
       "I don't this be that doest any the offinent that to the doest of that the to complent of the to complention of the complention to code to the code on to the code to the code to the to complention to the code to the complention to the complention to coden to the complention to the code to the to complention to the complention to to the complention to the complention to to the to the complention ton to the to the the to the to the the tin the the tin tin the tin tit tin tin t."
      ],
      "text/plain": [
       "<IPython.core.display.Markdown object>"
      ]
     },
     "metadata": {},
     "output_type": "display_data"
    },
    {
     "name": "stdout",
     "output_type": "stream",
     "text": [
      "\n",
      "Prompt 6: Why is Python better than Java?\n",
      "Model output (markdown): "
     ]
    },
    {
     "data": {
      "text/markdown": [
       "Why is Python better than Java?\n",
       "I does that the toolk of the that boother the office to the complention of the complenting of the complention of the complention on the complention of the code on the the complention on the code on the the commenting on the the code to the to complent on the to the complention to the code to the the complention to the complention to the complention to the complention to the to the commenting to to the to the the tor to the the tor to the the the the the the tin tin tin t."
      ],
      "text/plain": [
       "<IPython.core.display.Markdown object>"
      ]
     },
     "metadata": {},
     "output_type": "display_data"
    },
    {
     "name": "stdout",
     "output_type": "stream",
     "text": [
      "\n",
      "Prompt 7: What is the purpose of the main() function in C? I know that it is where the code starts executing, but I am not 100%. Can you help?\n",
      "Model output (markdown): "
     ]
    },
    {
     "data": {
      "text/markdown": [
       "What is the purpose of the main() function in C? I know that it is where the code starts executing, but I am not 100%. Can you help?\n",
       "I want to to the complent to the commenting on the comple of the complention to comple torating to the complention on the code to to the complention on the complention on the complention on the to code on to the consting ton to the the complentiontin to the to dition to the to the the to deating to to the the to the to the to the the the ther tin tin tit the tin tit."
      ],
      "text/plain": [
       "<IPython.core.display.Markdown object>"
      ]
     },
     "metadata": {},
     "output_type": "display_data"
    },
    {
     "name": "stdout",
     "output_type": "stream",
     "text": [
      "\n",
      "Prompt 8: What is coding?\n",
      "Model output (markdown): "
     ]
    },
    {
     "data": {
      "text/markdown": [
       "What is coding?\n",
       "I do and the stating to start and the start and the some that some that around to the around to the complent of the complention to code to the complenting to the code tome to the complention to code to the code to the code to the to code to the to code to the to code to the to complention to the code tomple to the complention to the complention to the complention to to the code to the to the the to the to deating to the the the to the the the tor the the the tor the the the tin tin t."
      ],
      "text/plain": [
       "<IPython.core.display.Markdown object>"
      ]
     },
     "metadata": {},
     "output_type": "display_data"
    },
    {
     "name": "stdout",
     "output_type": "stream",
     "text": [
      "\n",
      "Epoch 9\n"
     ]
    },
    {
     "data": {
      "application/vnd.jupyter.widget-view+json": {
       "model_id": "5c484a27ac0f402e9095e712ac65c9d7",
       "version_major": 2,
       "version_minor": 0
      },
      "text/plain": [
       "  0%|          | 0/1608 [00:00<?, ?it/s]"
      ]
     },
     "metadata": {},
     "output_type": "display_data"
    },
    {
     "name": "stdout",
     "output_type": "stream",
     "text": [
      "=========================== BATCH 750 ===========================\n",
      "Prompt 0: Why does Earth orbit the Sun? I think it has to to with gravity, but I am not sure.\n",
      "Model output (raw): Why does Earth orbit the Sun? I think it has to to with gravity, but I am not sure. I want to do they see the comend of the seme of the comend of the seme of the seme of the seme of the seme of the seme of the seme of the seme of the seme of the seme of the seme of the secomene of the seme of the seare of the seche of the seare of the seme of the sear are of the see ther so the sear ar are the some of the seer the sear the sere the sor the wher the sor the the spere ther the the ther ther. wher the ther ther the the ther sther ther the ther ther ther ther ther then t ther ther ther. ther ther ther ther therer ther ther ther ther ther. ther thererer ther ther. ther ther t ther thether ther ther ther therethengheng. t thet ther thetheng. t therer. thethererer t t ther ther thethenget t t thet ther thether thether thet thether ther thether thet t t thethengheng. therer ther thether t ther theng. thend ther ther ther ther ther t ther t t ther t thererererer t ther t ther ther therer ther then then thethether thethethengheng. thengher thengher thengher thengher t t t t thethethethethet t thethet<CUTOFF>\n",
      "\n",
      "Prompt 1: Hello world, \n",
      "Model output (markdown): "
     ]
    },
    {
     "data": {
      "text/markdown": [
       "Hello world, how do you how do you how do your?\n",
       "I don't know who yourse the do yours and and the some of the some of the some of the seme of the seme of the seme of the seme of the sear of the seme of the sear are of the see of the sear ar of the seem of the sear are of the see of the sear of the seem of the sear are and the seem of the sear are and the some the sear the sear the sear ar the ar the some the the sear the the sear the the sear the the the spere the the the the the the the the the the the the the the t ther the the the the the the the the ther t ther t ther the ther ther the the the t the ther the ther ther the ther ther."
      ],
      "text/plain": [
       "<IPython.core.display.Markdown object>"
      ]
     },
     "metadata": {},
     "output_type": "display_data"
    },
    {
     "name": "stdout",
     "output_type": "stream",
     "text": [
      "\n",
      "Prompt 2: How to use ChatGPT? How should I use ChatGPT?\n",
      "Model output (markdown): "
     ]
    },
    {
     "data": {
      "text/markdown": [
       "How to use ChatGPT? How should I use ChatGPT?\n",
       "I do you have a see the comment of the seme of the seme of the seme of the seme of the seme of the seme of the seme of the seme of the seme of the seme of the seme of the seme of the seme of the seme of the seme of the seche the sear are and the seeme of the seme the sere the sear the sear the seem the sear ar the are the the sear the seem the the sear the the sere the the the ser the the the ster the the the the the the the the the the ther the t ther the ther t."
      ],
      "text/plain": [
       "<IPython.core.display.Markdown object>"
      ]
     },
     "metadata": {},
     "output_type": "display_data"
    },
    {
     "name": "stdout",
     "output_type": "stream",
     "text": [
      "\n",
      "Prompt 3: My code does not work. What should I do? I have been working on my code, and it does not work.\n",
      "Model output (raw): My code does not work. What should I do? I have been working on my code, and it does not work. I have a some the come of the coment of the coment of the comention of the seme of the some of the seme of the seme of the seme of the seme of the seme of the seme of the seme of the seche of the seme of the seme of the seme of the seme of the seme of the secence of the seare the sear of the sear ar the sear the or sear the sere the the ser the sher the the specen the the ther sher ther ther then ther the ther. sthe the ther ther the ther the ther ther ther ther ther ther t ther ther ther. ther ther ther the ther ther ther ther ther ther ther ther therer ther ther. ther ther thethe ther ther ther ther ther thethengheng. t thet t ther ther ther ther ther ther. therer t ther ther ther thethethet thet t thet ther ther thether thethether ther ther thengheng. thengr t thengher ther t thetheng. ther t t ther. ther therether ther t t ther t thet ther t thetheror t thether t t ther ther ther ther ther thet thethether ther thenghetheng. t ther thether ther ther ther ther ther ther thethethethethet thet t thethengheng<CUTOFF>\n",
      "\n",
      "Prompt 4: Why is this code not working: `1+\"A\"`? Can you help?\n",
      "Model output (markdown): "
     ]
    },
    {
     "data": {
      "text/markdown": [
       "Why is this code not working: `1+\"A\"`? Can you help?\n",
       "I don't work the are and any where the complent of the complene of the complent of the coment of the comention of the code of the complent of the comention of the complene of the comention of the comention of the comention of the comention of the comentiong of the comentiong of the comenting of the coment of the the people to the comenting of the the coment the the prow the the the complent to the the the the the the the ther the ther the ther the then ther."
      ],
      "text/plain": [
       "<IPython.core.display.Markdown object>"
      ]
     },
     "metadata": {},
     "output_type": "display_data"
    },
    {
     "name": "stdout",
     "output_type": "stream",
     "text": [
      "\n",
      "Prompt 5: Why is Java better than Python?\n",
      "Model output (markdown): "
     ]
    },
    {
     "data": {
      "text/markdown": [
       "Why is Java better than Python?\n",
       "I have they offere they offere they offere the ofference they offere the offere the programmment the complenter of the comentione of the comention of the comention of the comention of the comention of the comention of the comention of the comention of the people of the seme of the comention of the comentiong of the sec of the sece the the comenting of the coment of the the the perent to the sece the the the the the the the the the the the the the the the the ther the t ther the the t ther the the the the the the ther then t ther t the the the ther the the the t ther ther the ther t ther ther ther the ther ther."
      ],
      "text/plain": [
       "<IPython.core.display.Markdown object>"
      ]
     },
     "metadata": {},
     "output_type": "display_data"
    },
    {
     "name": "stdout",
     "output_type": "stream",
     "text": [
      "\n",
      "Prompt 6: Why is Python better than Java?\n",
      "Model output (markdown): "
     ]
    },
    {
     "data": {
      "text/markdown": [
       "Why is Python better than Java?\n",
       "I'm think of the stard the of the stard of the some of the some of the some of the seme of the seme of the seme of the seme of the seme of the seme of the seme of the seme of the seme of the sear are and the seem of the sear are and the seem or the sear are of the seem the sear the sear the seem the sear ar the sear ar the sear the sear the the sear the seem the the sear the the sear the the sere the the the ser the the the sthe the ther the the the ther the the the the ther t."
      ],
      "text/plain": [
       "<IPython.core.display.Markdown object>"
      ]
     },
     "metadata": {},
     "output_type": "display_data"
    },
    {
     "name": "stdout",
     "output_type": "stream",
     "text": [
      "\n",
      "Prompt 7: What is the purpose of the main() function in C? I know that it is where the code starts executing, but I am not 100%. Can you help?\n",
      "Model output (raw): What is the purpose of the main() function in C? I know that it is where the code starts executing, but I am not 100%. Can you help? I would be are the come or the come or the comention of the come of the coment of the coment of the comenter of the comente of the comentiong of the comende of the comentiong of the comenting of the comenting of the sec of the see the comenter of the comente of the comenting of the the perent of the the where the the the pretic. It where the wher there the wher there ther ther ther the ther ther ther ther ther ther ther ther. theret then ther ther thether t ther therer ther ther therer. ther therer ther therer ther ther thethether t ther. theng. ther thererer therer thethetheng. t ther thether theng. thether ther. thererer. thet thether ther ther thengher thet ther thethether thet ther t ther therer therer thether thetheng. ther therer ther thethenger ther t thengengengenghenthenghenger t t t t t t ther ther t therer ther thengengher theng. therer. ther ther t thethethenghetherengher. thengher thet t t ther therer thengher ther. thethethethethet thethet thethether theng. thethetheng. thethengher thenghenghet<CUTOFF>\n",
      "\n",
      "Prompt 8: What is coding?\n",
      "Model output (raw): What is coding? I do ato are around around ato are around are the commentiones of the some of the some of the some of the seme of the seme of the seme of the seme of the seme of the seme of the seme of the seme of the seme of the seme of the seme of the seme of the sear are of the seem or of the see of the seme of the seare of the seeme or the sear of the seare ar aror of the see ther sear the or the sear ar of the sor the sor the sof the the sher the ther sor the sthe the sthe ther ther the ther ther ther. st ther ther ther the ther ther ther ther ther the ther t ther ther ther ther ther ther the the t ther ther ther ther ther ther ther. ther ther therer ther ther ther ther the t ther ther ther ther ther ther then ther ther ther thet ther ther ther ther thether t ther then then ther t ther ther thengher. ther thethet t ther ther thether thet thet theng. thengher ther t t ther ther ther t ther ther ther thether t t thether t t t t ther ther ther ther ther t ther ther then ther ther ther then thethet t ther therethethenghet <CUTOFF>\n",
      "\n",
      "=========================== BATCH 1500 ===========================\n",
      "Prompt 0: Why does Earth orbit the Sun? I think it has to to with gravity, but I am not sure.\n",
      "Model output (markdown): "
     ]
    },
    {
     "data": {
      "text/markdown": [
       "Why does Earth orbit the Sun? I think it has to to with gravity, but I am not sure.\n",
       "I ware to do the say of the something of the solught of the solut of the solught of the solut of the solut of the sare of the or and of the sare around of the sare of the solught or of the solught of the peoration of the solught or the or or are to araticaly or to the sare to the sard to to the saring arout to to the corat ard to the to the to to the to to the to to to the to tor tor."
      ],
      "text/plain": [
       "<IPython.core.display.Markdown object>"
      ]
     },
     "metadata": {},
     "output_type": "display_data"
    },
    {
     "name": "stdout",
     "output_type": "stream",
     "text": [
      "\n",
      "Prompt 1: Hello world, \n",
      "Model output (markdown): "
     ]
    },
    {
     "data": {
      "text/markdown": [
       "Hello world, are aror aror or or or programming or aror aror aroror aror aroror aror aroror aroror aroror aroror aroror aroror aroror aroror aroror aroror aror aroror aror aror aroror aror aroror aror aroror aror aroror aror aror aror aroror aror aror aroror aror aroror arorating arorating arorating arorating arorating aror arorating aror arorating arorating arore aror aror aror aror aror aror aror aror aror aror aror to so arout aror.\n",
       "\n",
       "I wark aror to to the are aror aror ar tor aror the tor."
      ],
      "text/plain": [
       "<IPython.core.display.Markdown object>"
      ]
     },
     "metadata": {},
     "output_type": "display_data"
    },
    {
     "name": "stdout",
     "output_type": "stream",
     "text": [
      "\n",
      "Prompt 2: How to use ChatGPT? How should I use ChatGPT?\n",
      "Model output (markdown): "
     ]
    },
    {
     "data": {
      "text/markdown": [
       "How to use ChatGPT? How should I use ChatGPT?\n",
       "I work the at work of the something of the solve of the parent of the something of the solught of the profet of the solve of the parament of the something of the parent of the cometing or of the so to the pen of to the sarard of the sare around of to the sare around to the sare around to the sare around to the sore to the sear to the sare to the sore to the sore to the tore to the tore to the tore to the tor tor."
      ],
      "text/plain": [
       "<IPython.core.display.Markdown object>"
      ]
     },
     "metadata": {},
     "output_type": "display_data"
    },
    {
     "name": "stdout",
     "output_type": "stream",
     "text": [
      "\n",
      "Prompt 3: My code does not work. What should I do? I have been working on my code, and it does not work.\n",
      "Model output (markdown): "
     ]
    },
    {
     "data": {
      "text/markdown": [
       "My code does not work. What should I do? I have been working on my code, and it does not work.\n",
       "I would to have a be a lot of the cometaly or a profet to the comant oror a lot of to the saray of the saray of the or are aror and of the solut of the solught of the sare to the sare around of to the sare around to the sear to the sare arout of the to so to the sear arout to the sare to the to deat to to the to sear to the to the tor to to the to the tor to to the the t."
      ],
      "text/plain": [
       "<IPython.core.display.Markdown object>"
      ]
     },
     "metadata": {},
     "output_type": "display_data"
    },
    {
     "name": "stdout",
     "output_type": "stream",
     "text": [
      "\n",
      "Prompt 4: Why is this code not working: `1+\"A\"`? Can you help?\n",
      "Model output (markdown): "
     ]
    },
    {
     "data": {
      "text/markdown": [
       "Why is this code not working: `1+\"A\"`? Can you help?\n",
       "I would work at a something to come to come and of the comet of the solught of the code of the cometant of the code or a prot of to the cometantion or and to the cometaly or aror and to the sarat of the sare around to the cometally or aror the saric to the cometiontion or the corate ard to the sare to the corate to the corate to the corat to to the code to to the to the to the to to the to the to to to the tor the t."
      ],
      "text/plain": [
       "<IPython.core.display.Markdown object>"
      ]
     },
     "metadata": {},
     "output_type": "display_data"
    },
    {
     "name": "stdout",
     "output_type": "stream",
     "text": [
      "\n",
      "Prompt 5: Why is Java better than Python?\n",
      "Model output (markdown): "
     ]
    },
    {
     "data": {
      "text/markdown": [
       "Why is Java better than Python?\n",
       "I would the be of the of the ofice or a programming of the solught of the problem of the code or a problem to code and a were to and oto and a way to to aray arout and to the sarary arout of to the saray around and of the sare and to the sarard and to the sear around to the sear around to the sare around to the sear to the sear arout to the so to the seard to to the core to the to the to the to to the to the tor to to the the tor."
      ],
      "text/plain": [
       "<IPython.core.display.Markdown object>"
      ]
     },
     "metadata": {},
     "output_type": "display_data"
    },
    {
     "name": "stdout",
     "output_type": "stream",
     "text": [
      "\n",
      "Prompt 6: Why is Python better than Java?\n",
      "Model output (markdown): "
     ]
    },
    {
     "data": {
      "text/markdown": [
       "Why is Python better than Java?\n",
       "I work a the office the office or a problem of the coment of the something of the parent of the or aror and of the coment of the cometant oroly and the cometion oror and a procet of to the cometaly or and arout and to the saray arouther to the sear of the or and of the sare arout to the sare aro to the sare to the sear to the sare around to the corent to the code to the to the to the core to the to the to the to the to to the tor tor."
      ],
      "text/plain": [
       "<IPython.core.display.Markdown object>"
      ]
     },
     "metadata": {},
     "output_type": "display_data"
    },
    {
     "name": "stdout",
     "output_type": "stream",
     "text": [
      "\n",
      "Prompt 7: What is the purpose of the main() function in C? I know that it is where the code starts executing, but I am not 100%. Can you help?\n",
      "Model output (markdown): "
     ]
    },
    {
     "data": {
      "text/markdown": [
       "What is the purpose of the main() function in C? I know that it is where the code starts executing, but I am not 100%. Can you help?\n",
       "I would to have a bot to come or a prot of to the come or a profet or the cometaly or are aror the corater or aror aror the corate or the corate or the cometiont or the cometiont or the code to the corate to the corate to to the code to to the code to to the code to to the to code to to the to to the to to the to the tor too the tor."
      ],
      "text/plain": [
       "<IPython.core.display.Markdown object>"
      ]
     },
     "metadata": {},
     "output_type": "display_data"
    },
    {
     "name": "stdout",
     "output_type": "stream",
     "text": [
      "\n",
      "Prompt 8: What is coding?\n",
      "Model output (markdown): "
     ]
    },
    {
     "data": {
      "text/markdown": [
       "What is coding?\n",
       "I don't a solund the something of the sole of the process of the or and of the something of the problem of the solut of the sarare of the comentation or and of the sare around of the sare of the or aror and of the sare around to the saral around to the sare around to the sear around to the sem to the sear around to the sear around to the seare to the seard to the sole to the sore to the to the sare to the to the to the tor to the to the to to the t."
      ],
      "text/plain": [
       "<IPython.core.display.Markdown object>"
      ]
     },
     "metadata": {},
     "output_type": "display_data"
    },
    {
     "name": "stdout",
     "output_type": "stream",
     "text": [
      "\n"
     ]
    },
    {
     "data": {
      "image/png": "[encoded data removed]",
      "text/plain": [
       "<Figure size 432x288 with 1 Axes>"
      ]
     },
     "metadata": {
      "needs_background": "light"
     },
     "output_type": "display_data"
    },
    {
     "data": {
      "image/png": "[encoded data removed]",
      "text/plain": [
       "<Figure size 432x288 with 1 Axes>"
      ]
     },
     "metadata": {
      "needs_background": "light"
     },
     "output_type": "display_data"
    },
    {
     "name": "stdout",
     "output_type": "stream",
     "text": [
      "=========================== END OF EPOCH ===========================\n",
      "Prompt 0: Why does Earth orbit the Sun? I think it has to to with gravity, but I am not sure.\n",
      "Model output (markdown): "
     ]
    },
    {
     "data": {
      "text/markdown": [
       "Why does Earth orbit the Sun? I think it has to to with gravity, but I am not sure.\n",
       "I want the the work arout the work arout the work are the work or are the work arout and the were the work or ar arout the arare the work or the way work. It would the were work the work arout the ware are the work they work arout the way ware to the work."
      ],
      "text/plain": [
       "<IPython.core.display.Markdown object>"
      ]
     },
     "metadata": {},
     "output_type": "display_data"
    },
    {
     "name": "stdout",
     "output_type": "stream",
     "text": [
      "\n",
      "Prompt 1: Hello world, \n",
      "Model output (raw): Hello world, arouter aror aror aror aror aror araror arorating aror aror aror aror araring aror aror aror arating arorating aror aror aror aror aror aror aror aror aror aror aror aror aror aror aror aror aror aror aror aror aror aror aror aror aror aror aror aror aror aror aror aror aror aror aror aror aror aror aror aror aror aror aror aror aror aror aror aror aror aror aror aror aror aror aror aror aror aror aror aror aror aror aror aror aror aror aror aror the ar aror ar aror the aror ar aror the the the ar. there the there t therer. the there ther. there the t thererere t therere ther. there the the therer. therer. therere t therer.\n",
      "\n",
      "\n",
      "\n",
      "\n",
      "\n",
      "\n",
      "\n",
      "\n",
      "\n",
      "Ithe there ther t thery t there the therere the therere the therer t therere ther ther t therere thererer. t there t thererererer. the ther t thererer there thererery therer. t therery therererer t t the ther. therer therererer therere t the ther therere therer. therererer the therer. t therer. there t thererer ther there ther therererererer. t the ther. therer. thery therether th<CUTOFF>\n",
      "\n",
      "Prompt 2: How to use ChatGPT? How should I use ChatGPT?\n",
      "Model output (markdown): "
     ]
    },
    {
     "data": {
      "text/markdown": [
       "How to use ChatGPT? How should I use ChatGPT?\n",
       "I was the they don't the work of the work of the work or a the work or a working the arough arout the work or a the work or athere arouter the work or the way to do the the ware the the work or the were are the work."
      ],
      "text/plain": [
       "<IPython.core.display.Markdown object>"
      ]
     },
     "metadata": {},
     "output_type": "display_data"
    },
    {
     "name": "stdout",
     "output_type": "stream",
     "text": [
      "\n",
      "Prompt 3: My code does not work. What should I do? I have been working on my code, and it does not work.\n",
      "Model output (markdown): "
     ]
    },
    {
     "data": {
      "text/markdown": [
       "My code does not work. What should I do? I have been working on my code, and it does not work.\n",
       "I want the work arout the work arout the work or the work arout the work or ar a the work or aror a the work. It's als arout the wore the bok arout the work aror the were are the work or the were arating aror the work or the were the work."
      ],
      "text/plain": [
       "<IPython.core.display.Markdown object>"
      ]
     },
     "metadata": {},
     "output_type": "display_data"
    },
    {
     "name": "stdout",
     "output_type": "stream",
     "text": [
      "\n",
      "Prompt 4: Why is this code not working: `1+\"A\"`? Can you help?\n",
      "Model output (markdown): "
     ]
    },
    {
     "data": {
      "text/markdown": [
       "Why is this code not working: `1+\"A\"`? Can you help?\n",
       "I was a the come and the work arouting and the work arout and the works arout the company on the ware to the completer of the completer of the completer of the completen of the completer of the completer or the completer or the comention them work or the were aratior the the work or the were the distion the the were the the work the the the were the the work."
      ],
      "text/plain": [
       "<IPython.core.display.Markdown object>"
      ]
     },
     "metadata": {},
     "output_type": "display_data"
    },
    {
     "name": "stdout",
     "output_type": "stream",
     "text": [
      "\n",
      "Prompt 5: Why is Java better than Python?\n",
      "Model output (markdown): "
     ]
    },
    {
     "data": {
      "text/markdown": [
       "Why is Java better than Python?\n",
       "I don't think the work a the work a the work of the work at of the work of the work at work a the work at aroutious the arough the the commention on the work of the way to work."
      ],
      "text/plain": [
       "<IPython.core.display.Markdown object>"
      ]
     },
     "metadata": {},
     "output_type": "display_data"
    },
    {
     "name": "stdout",
     "output_type": "stream",
     "text": [
      "\n",
      "Prompt 6: Why is Python better than Java?\n",
      "Model output (markdown): "
     ]
    },
    {
     "data": {
      "text/markdown": [
       "Why is Python better than Java?\n",
       "I would the be a like the beter a lot of the programming of the work arouting and the work or and the works or a the comenting on the work or and the were the work."
      ],
      "text/plain": [
       "<IPython.core.display.Markdown object>"
      ]
     },
     "metadata": {},
     "output_type": "display_data"
    },
    {
     "name": "stdout",
     "output_type": "stream",
     "text": [
      "\n",
      "Prompt 7: What is the purpose of the main() function in C? I know that it is where the code starts executing, but I am not 100%. Can you help?\n",
      "Model output (markdown): "
     ]
    },
    {
     "data": {
      "text/markdown": [
       "What is the purpose of the main() function in C? I know that it is where the code starts executing, but I am not 100%. Can you help?\n",
       "I ware think they work arout are the work arout the work arout the wore are the work or the were aratious to the work or the were arating to the work or the were the work."
      ],
      "text/plain": [
       "<IPython.core.display.Markdown object>"
      ]
     },
     "metadata": {},
     "output_type": "display_data"
    },
    {
     "name": "stdout",
     "output_type": "stream",
     "text": [
      "\n",
      "Prompt 8: What is coding?\n",
      "Model output (markdown): "
     ]
    },
    {
     "data": {
      "text/markdown": [
       "What is coding?\n",
       "I all aready the don't work and and the work and the work arout and a lot an the work of a the work of aror a the comention on the completer of the completer of the completer of the completer of the completer of the code the the completer of the code an the ware are the code an the ware the the the distion at the the the the dis."
      ],
      "text/plain": [
       "<IPython.core.display.Markdown object>"
      ]
     },
     "metadata": {},
     "output_type": "display_data"
    },
    {
     "name": "stdout",
     "output_type": "stream",
     "text": [
      "\n",
      "Epoch 10\n"
     ]
    },
    {
     "data": {
      "application/vnd.jupyter.widget-view+json": {
       "model_id": "e79ed79276df4702bec099d19449187e",
       "version_major": 2,
       "version_minor": 0
      },
      "text/plain": [
       "  0%|          | 0/1608 [00:00<?, ?it/s]"
      ]
     },
     "metadata": {},
     "output_type": "display_data"
    },
    {
     "name": "stdout",
     "output_type": "stream",
     "text": [
      "=========================== BATCH 750 ===========================\n",
      "Prompt 0: Why does Earth orbit the Sun? I think it has to to with gravity, but I am not sure.\n",
      "Model output (raw): Why does Earth orbit the Sun? I think it has to to with gravity, but I am not sure. I want to are are to are are to arary are to aray are aror the company or are are to arather aror are aror the company arout are are to are arather aror are the are aror the are aror the programmmming and to see the solve are are to ar arathed aror the are are the are aror the are the are are the are the are the are the the are the the the are the are the the the ar the the the ar ar the the the the ther the ther. the the ther the ther ther the ther. the ther therer there ther. t there ther ther therer. the ther the there there ther. ther therererer. therer. thererererer. ther. ther. ther ther. thereretherere ther thether. therer. therererererer. therer. therererererer. therered thererer. therer. thether. therer. thererethererer. therer. therererethethererer. thethed ther. ther. therererererether. ther. therer. therererererererererery therered ther. ther. thed therered ther. thed thed thed therererererer. thed thed thererered thered thed therer. therered ther. thererererererererererererererered thed thed the<CUTOFF>\n",
      "\n",
      "Prompt 1: Hello world, \n",
      "Model output (raw): Hello world, are arord aror aror aror aror aror arorathed aror arather arof are arorathed aror arof are aror aror arating arorathe aror aror arorathed arof are aror aror aror aror aror at aror aror are aror aror aror aror arating arorating arorate aror aror aror aror aror aror aror aror too arathe aror are aror aror aror aror aror aror aror arating aror aror arathe aror aror are aror are the arathed aror are aror are the are aror aror the are are aror the are the ar are the are the ther. the are ther there are the the ther. there ther there ther. therere the ther. ther therere therer. the ther. therere therere ther. arerer thererer. therer. thererererer. thererer. the therer. thererer. thererere thererether. therere thererererer. thed thererererer.\n",
      "\n",
      "\n",
      "\n",
      "\n",
      "\n",
      "\n",
      "\n",
      "\n",
      "\n",
      "\n",
      "\n",
      "\n",
      "\n",
      "\n",
      "\n",
      "\n",
      "\n",
      "\n",
      "\n",
      "\n",
      "\n",
      "\n",
      "\n",
      "\n",
      "\n",
      "\n",
      "\n",
      "\n",
      "\n",
      "\n",
      "Ithethereretherererethethethethetherether therererererererererethered thererer therererererer thed thered thererered thererererererenthedsthed thery thery ther thed thererererered thenthed ther. thererererered thed thed thed thererererenthed thed t<CUTOFF>\n",
      "\n",
      "Prompt 2: How to use ChatGPT? How should I use ChatGPT?\n",
      "Model output (raw): How to use ChatGPT? How should I use ChatGPT? I don't know the are are the completed of the code of the company of the company of the proge and the come are are are aror aror the comentation arout are are the are aror are the comentation arout at are aration the processss of the comentation arathe aror are the are are the are the are the the perated of the are are the are are the are are the are the are the are the there are the the there are the the there are the the ther ar the ther the ther. there the the ther the ther ther ther. there there there ther. ther ther therer. therere there ther. therere therererer. ther. thererere ther. thererererer. therererer. ther. ther. thererererer. thererererer. thethed thered therered thererer. thererererererer. therered thed therererer. ther. therererererer. therererererererererered therererery therered thed thed thered therererereredsthed thereredsthed thedsther. thererer. thered thered ther. thered thererer. thered thed thed therererererered thered thed thed thererenthed thed therererer. thererererer. therererer<CUTOFF>\n",
      "\n",
      "Prompt 3: My code does not work. What should I do? I have been working on my code, and it does not work.\n",
      "Model output (raw): My code does not work. What should I do? I have been working on my code, and it does not work. I was are to are are are to are arary are to are aror are to are arary are to are are arardy aror the are are aror are the comment arat arof at are the are aror the programmmming and to see the solve are arathed arof the are are aror are the are aror are the are the are aror the the perare ar aror the are are the are the the are are the the there are the the are the the ther ar the the the ther the ther. the ther. the the there ther the ther ther. there therer t therere the ther t therer. ther. therer there thereret ther. therer. thererer. therer. therererererer. therer. the t thererere ther. therer. therererer. thetherererer. therererer. thed thererererer. thererered therererer. thed theretherer. therered therererer. thererererererererery thererethed thethed thed thererererer. thed ther. therer. therereredstherererered ther. ther. therer. thered therered therer. ther. therer. thererered therered thed thered thered thed thed thery ther. thererererered thererererererererererer. thererered thed thererer. there<CUTOFF>\n",
      "\n",
      "Prompt 4: Why is this code not working: `1+\"A\"`? Can you help?\n",
      "Model output (markdown): "
     ]
    },
    {
     "data": {
      "text/markdown": [
       "Why is this code not working: `1+\"A\"`? Can you help? \n",
       "I don't know what to company and a programmming and aror and and the programmmming and to completed are and arord and to completented and arord and the come are at around the are aror the company and and arot the come and to the come arate at arof the the coments and at the people to the care ard at to the the perate to the are are the the the are the the the the the the the the the are the the the the the the the the the the the the the ther."
      ],
      "text/plain": [
       "<IPython.core.display.Markdown object>"
      ]
     },
     "metadata": {},
     "output_type": "display_data"
    },
    {
     "name": "stdout",
     "output_type": "stream",
     "text": [
      "\n",
      "Prompt 5: Why is Java better than Python?\n",
      "Model output (markdown): "
     ]
    },
    {
     "data": {
      "text/markdown": [
       "Why is Java better than Python?\n",
       "I also a lot attoper and and and are the programmmming and the are around the completented of the code and and the company of the completent of the completed of the company and and and the company and a problem to the come and a profece to the complent and and at the are the the prograt and to the coment and a the the people to the are are the are the the the the the are the the the the the the the are the the the the the the the the the the the the the the the the the t."
      ],
      "text/plain": [
       "<IPython.core.display.Markdown object>"
      ]
     },
     "metadata": {},
     "output_type": "display_data"
    },
    {
     "name": "stdout",
     "output_type": "stream",
     "text": [
      "\n",
      "Prompt 6: Why is Python better than Java?\n",
      "Model output (markdown): "
     ]
    },
    {
     "data": {
      "text/markdown": [
       "Why is Python better than Java? \n",
       "I have a because a programmming and the some and and and the company of the company of the company of the company of the company of the complened of the company of the complenet of the companient and and arout the come and at a the parate and to the care are a the pare arof the the care ar aror the the peole the the perate to the are the are the the the the the the are the the the the the the the are the the the the the the the the the the the the the the the the the t ther."
      ],
      "text/plain": [
       "<IPython.core.display.Markdown object>"
      ]
     },
     "metadata": {},
     "output_type": "display_data"
    },
    {
     "name": "stdout",
     "output_type": "stream",
     "text": [
      "\n",
      "Prompt 7: What is the purpose of the main() function in C? I know that it is where the code starts executing, but I am not 100%. Can you help?\n",
      "Model output (raw): What is the purpose of the main() function in C? I know that it is where the code starts executing, but I am not 100%. Can you help? I also are are are the come ar are are the come arathed aror are are the coment of the come are are are are the comentated arathed aror the come arat arathed are the are are the are aror the are the are arathed the are the are the are aror the are the are the are the are the the the perent the ar the are the the the are the the the ar the the ther ar the the the ther the ther. ther t there the the the ther ther. therere the the ther ther therer. there there the ther. there therer ther. therererer. ther. therererererer. thererer. ther. there ther. thererererere there thereretherer. therer. ther. therethererered ther. therererered thed ther. therererer. ther. therererererererererer. thererererereretherer. thered thethed thed ther. therererereredsther. therer. therer. therered thererererered thered thed ther. thed thererererer. thered therer. therererered thered thed thed thererererenther. therered thered therererererer. thererererererer. thered therered therererererered thed therethed thedsthedsthed theredsthe<CUTOFF>\n",
      "\n",
      "Prompt 8: What is coding?\n",
      "Model output (raw): What is coding? I am around at arouge aror aror aror aror aror arorathed aror aror arathed arof are aror aror aror arorathed arord arord aror are too arather around at aror aror aror aror aror are to arathed aror are aror are aror aror aror are to arather aror aror are aror aror aror aror arof the arathed aror are aror aror are the arord aror are the are aror are the are aror are the are aror the are aror are the are the are are the are are the are the are the ar are the ar ar the the the ther. are the ther the ther ther there the ther. ther therer. there the ther the therer. therere ther. ther. there therere therer. thererer. therer. therer. therererererer. ther. the the therer. therererererere therererer. therer. therere therer. thererererererer. therererethed thererer. ther. ther. thered therererererererer. ther. therererererererererererethed thed thed thery thererererered ther. therer. thedstherer. thererererered thered therer. thed therererererered thered thed ther. therererered thered thed thed therererered thed ther.<CUTOFF>\n",
      "\n",
      "=========================== BATCH 1500 ===========================\n",
      "Prompt 0: Why does Earth orbit the Sun? I think it has to to with gravity, but I am not sure.\n",
      "Model output (markdown): "
     ]
    },
    {
     "data": {
      "text/markdown": [
       "Why does Earth orbit the Sun? I think it has to to with gravity, but I am not sure.\n",
       "I want to the ware to do the ware to do the commund or the commund to the carate arout the comman and there the commund to be arout the commend to the carate arout the comman arout the comman torat the countating the the care to the comman to the carouge the the the comman toro the counting the the the the comman to the the count the the the the the the tor the the the tor the the the the ther the ther the tw ther ther tw ther."
      ],
      "text/plain": [
       "<IPython.core.display.Markdown object>"
      ]
     },
     "metadata": {},
     "output_type": "display_data"
    },
    {
     "name": "stdout",
     "output_type": "stream",
     "text": [
      "\n",
      "Prompt 1: Hello world, \n",
      "Model output (raw): Hello world, how do your hard arouch arouther rarally around or the rating or ararathe aror aror arariting arorathe the aror aror aror aror the around aror aror the arough around the aror aror aror aror aror aror aror aror aror aror aror the aror aror aror aror the could arouch the bracket to around are aror aror aror the could around the aror aror the aror aror the aror aror the the aror aror the the could the the were the arough the the there the the ther the the ther the ther the ther ther. ther thet ther tw ther theror t thet ther ther ther tw theror t ther ther t ther ther ther ther thet t. ther t theror t ther theror t ther ther ther t ther theror t ther t ther thet t ther t theror t t therororor t ther t t ther ther t thet t t t tororor t theror t ther t t theror t t ther t t theroror t t t theroror thet t t t thet theror thet t t t t t therororor t t theror ther t t t t t t t theror t therororor t t toror t t ther t t t t t tororor t t t t theror t t t t t ther t t therororor t t t t t thetheroror t t thethet t t <CUTOFF>\n",
      "\n",
      "Prompt 2: How to use ChatGPT? How should I use ChatGPT?\n",
      "Model output (markdown): "
     ]
    },
    {
     "data": {
      "text/markdown": [
       "How to use ChatGPT? How should I use ChatGPT?\n",
       "I don't the ware to do the company or prot the commund the company or a prot the commund to the commund a be the comman and the commund to be a caroul are there aror aror the comman and there the comman to comman torough arout the toll be the commund to the comman toro the comman torout the could to the be the comman torout the the could to the the the the the the the the trough the to the the the the the the the the the ther the the the the ther."
      ],
      "text/plain": [
       "<IPython.core.display.Markdown object>"
      ]
     },
     "metadata": {},
     "output_type": "display_data"
    },
    {
     "name": "stdout",
     "output_type": "stream",
     "text": [
      "\n",
      "Prompt 3: My code does not work. What should I do? I have been working on my code, and it does not work.\n",
      "Model output (markdown): "
     ]
    },
    {
     "data": {
      "text/markdown": [
       "My code does not work. What should I do? I have been working on my code, and it does not work.\n",
       "I want to the wart to do the commund to be a commund to be around the commund aror a better aror the commultute are aror the comman and therad the the comman torough arout the could to be arouth the counturent therough the the commultuly or aror the the counture the the commentating to the could to the be the torow the tough the the torough the to the the the ther tout the the the ther the ther."
      ],
      "text/plain": [
       "<IPython.core.display.Markdown object>"
      ]
     },
     "metadata": {},
     "output_type": "display_data"
    },
    {
     "name": "stdout",
     "output_type": "stream",
     "text": [
      "\n",
      "Prompt 4: Why is this code not working: `1+\"A\"`? Can you help?\n",
      "Model output (markdown): "
     ]
    },
    {
     "data": {
      "text/markdown": [
       "Why is this code not working: `1+\"A\"`? Can you help?\n",
       "I don't work the are are the company or a programmming the commund a completent the completent aror the commund aror a coull are the commundating to comman them around the commend to communtation and therad the commundent or the commundating arout the could the be the coden to the commund to the comman torough the the could to the the be to the could to the the the the were the the the tor the the the ther the the ther the ther the ther."
      ],
      "text/plain": [
       "<IPython.core.display.Markdown object>"
      ]
     },
     "metadata": {},
     "output_type": "display_data"
    },
    {
     "name": "stdout",
     "output_type": "stream",
     "text": [
      "\n",
      "Prompt 5: Why is Java better than Python?\n",
      "Model output (markdown): "
     ]
    },
    {
     "data": {
      "text/markdown": [
       "Why is Java better than Python?\n",
       "I don't what you want to write to do the commund on the problem or a proten and the communiteng or around the company arout and the commund and the the commund and the commund and there the care arout the comman and the the carate them to comman to the carount arout the counture there the the communting or the comman to the comman torout the the count the the the the comman to the the the perot to the the the the the the tor the the the the ther the ther tw ther thet."
      ],
      "text/plain": [
       "<IPython.core.display.Markdown object>"
      ]
     },
     "metadata": {},
     "output_type": "display_data"
    },
    {
     "name": "stdout",
     "output_type": "stream",
     "text": [
      "\n",
      "Prompt 6: Why is Python better than Java?\n",
      "Model output (markdown): "
     ]
    },
    {
     "data": {
      "text/markdown": [
       "Why is Python better than Java?\n",
       "In the are a problem a programming the completent or aror a programmming to completen the completente or aror arorad the companing and the commundent to be a completent the care arout the commund to be arout the comman and the the care arout the toll be the commundent to be the care aror the the the contan ther the the code to the the carould the the the could to the the the the the the the torough the the the the the the the the ther the the the ther tw ther."
      ],
      "text/plain": [
       "<IPython.core.display.Markdown object>"
      ]
     },
     "metadata": {},
     "output_type": "display_data"
    },
    {
     "name": "stdout",
     "output_type": "stream",
     "text": [
      "\n",
      "Prompt 7: What is the purpose of the main() function in C? I know that it is where the code starts executing, but I am not 100%. Can you help?\n",
      "Model output (markdown): "
     ]
    },
    {
     "data": {
      "text/markdown": [
       "What is the purpose of the main() function in C? I know that it is where the code starts executing, but I am not 100%. Can you help?\n",
       "I ware around the commund arout aror aror the commund aror aror aror the commulate aror aror aror the comman arout are the commentation and therad the commentation or aror the corom aror aror the counture the corecture the coreture aror the the corom torough the the could to the were the arough the torow the torok to the the theror the the theror the theror the theror."
      ],
      "text/plain": [
       "<IPython.core.display.Markdown object>"
      ]
     },
     "metadata": {},
     "output_type": "display_data"
    },
    {
     "name": "stdout",
     "output_type": "stream",
     "text": [
      "\n",
      "Prompt 8: What is coding?\n",
      "Model output (markdown): "
     ]
    },
    {
     "data": {
      "text/markdown": [
       "What is coding?\n",
       "It all beter a problem a programming and the same around around the around around the company arout and the communitent arout around the communitent arout aror the commund and the the carate arout the comman and the the caroul aror aror the comman and the the commaning to carout arout the counting therough the commultion or aror the could the the were arout the arough the torat arout the torough the the the torough the the torow the torow to the the the the theror the the theror."
      ],
      "text/plain": [
       "<IPython.core.display.Markdown object>"
      ]
     },
     "metadata": {},
     "output_type": "display_data"
    },
    {
     "name": "stdout",
     "output_type": "stream",
     "text": [
      "\n"
     ]
    },
    {
     "data": {
      "image/png": "[encoded data removed]",
      "text/plain": [
       "<Figure size 432x288 with 1 Axes>"
      ]
     },
     "metadata": {
      "needs_background": "light"
     },
     "output_type": "display_data"
    },
    {
     "data": {
      "image/png": "[encoded data removed]",
      "text/plain": [
       "<Figure size 432x288 with 1 Axes>"
      ]
     },
     "metadata": {
      "needs_background": "light"
     },
     "output_type": "display_data"
    },
    {
     "name": "stdout",
     "output_type": "stream",
     "text": [
      "=========================== END OF EPOCH ===========================\n",
      "Prompt 0: Why does Earth orbit the Sun? I think it has to to with gravity, but I am not sure.\n",
      "Model output (raw): Why does Earth orbit the Sun? I think it has to to with gravity, but I am not sure. I want to do ataly to work or are the araly arouth that work ard aratititity araly what arathe to work or ar arathing arout the word arly or of the wars on what you are are the arar aror aror arather or ar the araly or ar arathis aror aror the arar aror arathe aror arathe aror aror arathing aror arather aror arathis aror arathis arouth arather aror arathis aror arar arary arary ararithing arary arar arary arary arar arary arar arary arary ararary arary ararary ararary arary arary arary arare ararar ary ararary arar arararary ary arararar ary arary ary arararar arar ararary arary arar ararar ar arar arararar ar ararararary arary arary ary ararararar ary arar arary ararary ary arary arar are ar arar arar ar ararary arary ararar ararary ary ararar arary arar ar arar arar arar ar ararararar ary ararar ar ar ar arar ararar arary ararar arar ar ar arar ar ar aror ar ar arar arar ar ar ar arar arararararar ar ar ar ar ar arararar arararar ar ar ar ar ar ar ar ar ar ar arar aroror ar ar ar ar ar ar aror ar arar arar<CUTOFF>\n",
      "\n",
      "Prompt 1: Hello world, \n",
      "Model output (raw): Hello world, are aror aror ararithe arar arathe arathe arar arathe arather arather arather arathe arather arather arather aror arathe aror aratititics aror aratitics of aratictive aror aratictions aror aratitical aratictive aror aratich aror aratitics aratictions aratitics aratictive ar aratiche aratics aror aratical aritical aratiction aratics aratiction aratiction aratiction araticaly aratical aratictions aratich araticaly aratictions araticaly araticaly araticaly arary aror arary ararary aror arar arary ararithing ararathing ararary arararys aror ararar arar arararys arary arary arary ararararary ararare ary ararararar arys ararys ararary ararary ararararary ary ararar arararary ararararary arararary ararary ary ararary arararary arare arararararys arary arys arare ararar ararararathar ary ar arararararys arys arys ararararararys ararararar ararys arys ararys ararararys arararary ararary arararys arys arararys ary arary ary ararar ararararary ararararary ar ar arar ararararararary ararary arararararar arary arar ar ary<CUTOFF>\n",
      "\n",
      "Prompt 2: How to use ChatGPT? How should I use ChatGPT?\n",
      "Model output (markdown): "
     ]
    },
    {
     "data": {
      "text/markdown": [
       "How to use ChatGPT? How should I use ChatGPT?\n",
       "It would be the back a the word the work of the are araly the araly arouth the araly that work at arouth and the word ar and the ward to do ataly of the ar araly that was ard to the arather arouthe the araly that way don't at and the wars aron the around the ward to ward to the arad around the arar aror the aror and the wars arat and to ward to depend at ward ard and at ward to ar aratiting aror the aror ar that wat ard to the the thar ard that ard tat the theat t thear the the ther then thear ther ther ther ther ther thear ther then ther."
      ],
      "text/plain": [
       "<IPython.core.display.Markdown object>"
      ]
     },
     "metadata": {},
     "output_type": "display_data"
    },
    {
     "name": "stdout",
     "output_type": "stream",
     "text": [
      "\n",
      "Prompt 3: My code does not work. What should I do? I have been working on my code, and it does not work.\n",
      "Model output (raw): My code does not work. What should I do? I have been working on my code, and it does not work. I would the brak arout arathe around the word are arathing around the word arath around arout aratich of the arar arar aror arar arary aror arather aror aror arather aror arather aror arather aror aror aror arather aror aror arathis aror arather aror aror araticaly aror arather aror aror arather aror arather aror aror aratior aratior aror aratior aror arathis arary arary ararithis aror arar arary arary arar arary arary arary arararary arary ararary ararary araryous ar ararary ararary arary aryouthar ar ararar arararar arary ararary ary ararar arar arary arary arararar ary ararar ararary arar arararary arararar ary arary ary ary arararararary arar ary ararar ararary ary ary ararararar ar ar arar ararar arary arararary arar ar arararary ary ararar arathar ar ar arar ar arararary ararar ar ar arar arararar ar arararary ar ararar ar ary ar arar ar arar arar ararar ar ar ar ararar ararar ary ar ar arar arar arar arararararar ar ar ar ar ar ar arary arar ar ararar ar ar ararar ar ar arararor arar arary ar ar ar ar<CUTOFF>\n",
      "\n",
      "Prompt 4: Why is this code not working: `1+\"A\"`? Can you help?\n",
      "Model output (markdown): "
     ]
    },
    {
     "data": {
      "text/markdown": [
       "Why is this code not working: `1+\"A\"`? Can you help? \n",
       "I don't work a what a wat to do the commund of the or ar and and what the word the word ar arath around the in the word ar ar and it work ard and arather the word ar arath around the arad ar aror the araly arouth the ward to work or ar arither arouth the arad aror the ward arout and the wars arout to arather arouth the aror aror the arar aror the aring arouth the araly aror the arither aror the arar aror the aror the ar ar that arit the ther ar thear the the the ther thear the the ther ther ther ther thear the ther ther ther."
      ],
      "text/plain": [
       "<IPython.core.display.Markdown object>"
      ]
     },
     "metadata": {},
     "output_type": "display_data"
    },
    {
     "name": "stdout",
     "output_type": "stream",
     "text": [
      "\n",
      "Prompt 5: Why is Java better than Python?\n",
      "Model output (markdown): "
     ]
    },
    {
     "data": {
      "text/markdown": [
       "Why is Java better than Python?\n",
       "In also the different the commund of the arather and and the word and it work at arating and the word ar and it work at and and when you want to the word the word the word the are arather around the araly arouth the araly that word ard and when you ward to do it and at ward to the down at the that ward to the ar around to the ar arouth the ward to ward the ar around the arnd arouth the ward arouth ward and and at ward at arouth ther aror the the the the ar ar ard that the the ther the ther then the ther ther."
      ],
      "text/plain": [
       "<IPython.core.display.Markdown object>"
      ]
     },
     "metadata": {},
     "output_type": "display_data"
    },
    {
     "name": "stdout",
     "output_type": "stream",
     "text": [
      "\n",
      "Prompt 6: Why is Python better than Java?\n",
      "Model output (markdown): "
     ]
    },
    {
     "data": {
      "text/markdown": [
       "Why is Python better than Java?\n",
       "I don't work this any of a data and what the do work at and what the do work athing or and the word down athing and the word down at work or at and the word ar and the ward to do ataly arouth the araly that way do the wars and to work at and the wars a ward to do ataly arouth that arather ar the ar aror the arad aror way ard to ar and the araly arouth that ward arout and the ar aror the ward arout the ward arout ard to ward ard to ar the ar aror ar the the the ther the ther."
      ],
      "text/plain": [
       "<IPython.core.display.Markdown object>"
      ]
     },
     "metadata": {},
     "output_type": "display_data"
    },
    {
     "name": "stdout",
     "output_type": "stream",
     "text": [
      "\n",
      "Prompt 7: What is the purpose of the main() function in C? I know that it is where the code starts executing, but I am not 100%. Can you help?\n",
      "Model output (raw): What is the purpose of the main() function in C? I know that it is where the code starts executing, but I am not 100%. Can you help? I also arouth arouth the or ar araly the arar arathe the or ar araly that word are arather arar arar arary arouth the caraly arary arouth arather aror the araly arouthe the arar araly arouthis arather aror the arar aror aror arating aror arather aror aror aratition arather aror arathis aror arather aror arar arary arary arary arary ararithating ararary aror arar arar arary arary ararithing arar arary ararar ararary ararary ary ararary arary are arar arary ararar ararary ararar arar ararary arary ary ararary arararar arary ararary ary arar arar ararary arararar ary arararar arararary ary arary arararary ary arar ararary arary ary arararar ary arar ar arararar ar arararary ararary ary ararar arary arararararar ar ar arar arys arar arararary arys arararar ar ary arar ararar arary ar arary ary arary ar ar arar ar ararar arararar arar ar arar ar ararararar arar ar ar arararar arararary ar ar ar arary ar ar ar ar ar ar ararar ar ar arararar ararar ararar ary ary arary ar arar ararar ararararar arar ar ar ar ararar<CUTOFF>\n",
      "\n",
      "Prompt 8: What is coding?\n",
      "Model output (raw): What is coding? It also arout arathed arrathet arar arathe around arather around arather aror arather aror arather aror aror arating aror arathe aror aratitics aror aratitics aror aratititics aror aratitics aror aratitics aror aratics aror aratics aratics aror aratics aror araticaly aratictive aror aratically aratictions aror arather aror arather aror arar aror araticaly aror aratical aratictions araticaly arather arather aror arather aror arary aror arary arary arary arary arary ararary ararys arary ararary ararary arary arararys ararary arary arararary ararary arary arararys arary arary ararararary arararary arary ararary arary ararary ararararary arararary ary arary arararary arararararary ararary arararary arary ary arararararary ararararararys arary ary ararararary ary ararararary ary ararary ararararys ary ararararary arys arararary ary arararararys ary arararararys ararar ary ararararararary arys arys ararary ary ary arary ararar ararararar ar ararararararar ar arararary ary ary arararar arararararararararary ar ary <CUTOFF>\n",
      "\n",
      "Epoch 11\n"
     ]
    },
    {
     "data": {
      "application/vnd.jupyter.widget-view+json": {
       "model_id": "022579a545454e0791178df40abccef4",
       "version_major": 2,
       "version_minor": 0
      },
      "text/plain": [
       "  0%|          | 0/1608 [00:00<?, ?it/s]"
      ]
     },
     "metadata": {},
     "output_type": "display_data"
    },
    {
     "name": "stdout",
     "output_type": "stream",
     "text": [
      "=========================== BATCH 750 ===========================\n",
      "Prompt 0: Why does Earth orbit the Sun? I think it has to to with gravity, but I am not sure.\n",
      "Model output (raw): Why does Earth orbit the Sun? I think it has to to with gravity, but I am not sure. I want to kind work at around at arough around to book around at around at around at arough around to are around around around around at aratice around aror aror aror aror way around ato are around ato arealy around around ato areatiors aror around are arord around are arord aror water around ato work.\n",
      "I alwad aready aread around are the work around are aror water aroute arouth the around to wout are tout are ar arout ar ar arout ar ar areat the ar the toout t arout the ther ther tear ar ar ar arout the the the ar thear ar ar ar ar ar arouthe t thear thear t thear ar ar ar ar ar tear ar t aroout t t thet ar ar ar aroout t t thet ar t t thear ar thet t t aroooor t t t tear ar t thet ar t t t thear t t t thear ar t t toooooooor t t t t t t t t thet thet thet t t t t thet t t t toooooooooooooo t t t t t t t t t t t t t t t t tooooooooooo t t t t t t t t t t t t t t t t t t t t t tooooooooo t t t t t t t t t t t t t tooooooooooooo t t t t t t t t t t t t t t t t t t t t t t t t t t t tooooooooooooooo t t t t t t<CUTOFF>\n",
      "\n",
      "Prompt 1: Hello world, \n",
      "Model output (raw): Hello world, are aror aror aror aror aror aror aror aror aror aror arorather aror aror aror aror aror arorating arorather around aror aror aror aror aror aror aror aror aror aror aror aror aror aror aror aror aror aror aror aror aror aror aror aror aror aror aror aror aror aror aror aror aror aror aror aror aror aror aror aror aror aror aror aror aror aror aror aror aror aror aror aror aror aror aror aror aror aror aror aror aror aror aror the arow aror aror aror aror aror aror the aror ar aror ar aror ar ar ar aror ar aror ar the ar ar aror ar aror t aror ar ar ar ar aror ar ar ar the t ar aror ar ar ar ar ar ar aror ar ar ar ar ar ar thear ar ar ar ar ar ar t ar ar aror ar ar ar ar ar aror ar ar ar t aror t ar ar ar ar ar t aror t ar ar ar aror ar ar ar ar ar ar t ar ar ar ar ar t ar ar ar ar t ar aroor t t t t t t aror ar aror t ar ar t t ar t ar ar t ar ar ar ar arooor ar t t ar t t t ar ar ar ar ar ar t t ar ar ar t ar t t t ar t t t t t t t arooooooooooor t at t ar t ar t ar at ar at t t t t at ar t ar t t t t t t t<CUTOFF>\n",
      "\n",
      "Prompt 2: How to use ChatGPT? How should I use ChatGPT?\n",
      "Model output (raw): How to use ChatGPT? How should I use ChatGPT?\n",
      "I don't work thing and and and when you could and a project to work at a a project and the work at around at and a water and the work at around and around to are and at and a way to work.                                                                                                                                                                                                                                                                                                                                                                                                                                                                                                                                                                                                                                                                                                                                                                                                                                                                    <CUTOFF>\n",
      "\n",
      "Prompt 3: My code does not work. What should I do? I have been working on my code, and it does not work.\n"
     ]
    }
   ],
   "source": [
    "model.train()\n",
    "\n",
    "epoch_losses = []\n",
    "for epoch in range(n_epochs):\n",
    "    print(f\"Epoch {epoch+1}\")\n",
    "    \n",
    "    batch_losses = []\n",
    "    \n",
    "    for batch, data in enumerate(tqdm(dataloader)):\n",
    "        data = data.to(device)\n",
    "\n",
    "        output, loss = model(data, True)\n",
    "        \n",
    "        loss.backward()\n",
    "\n",
    "        if batch % BATCH_STEP_SIZE == 0:\n",
    "            optimizer.param_groups[0][\"lr\"] = warmup_sched.get_lr_factor() * lr\n",
    "            torch.nn.utils.clip_grad_norm_(model.parameters(), CLIP)\n",
    "            optimizer.step()\n",
    "            optimizer.zero_grad()\n",
    "            torch.cuda.empty_cache()\n",
    "\n",
    "        batch_losses.append(loss.item())\n",
    "        \n",
    "        if batch % 750 == 0 and batch > 0:\n",
    "            print(f\"=========================== BATCH {batch} ===========================\")\n",
    "            with torch.no_grad():\n",
    "                for i, prompt in enumerate(prompts):\n",
    "                    print(f\"Prompt {i}: {prompt}\")\n",
    "                    output=generate(prompt)\n",
    "                    if not output.strip().endswith(\"<CUTOFF>\"):\n",
    "                        print(f\"Model output (markdown): \", end=\"\")\n",
    "                        IPython.display.display(IPython.display.Markdown(output))\n",
    "                    else:\n",
    "                        print(f\"Model output (raw): {output}\")\n",
    "                    print()\n",
    "\n",
    "        \n",
    "    epoch_losses.append(sum(batch_losses)/len(batch_losses))\n",
    "\n",
    "    plt.plot(range(len(batch_losses)),batch_losses)\n",
    "    plt.xlabel(\"Batch\")\n",
    "    plt.ylabel(\"Loss\")\n",
    "    plt.title(\"Batch loss\")\n",
    "    plt.show()\n",
    "\n",
    "    plt.plot(range(len(epoch_losses)), epoch_losses)\n",
    "    plt.xlabel(\"Epoch\")\n",
    "    plt.ylabel(\"Loss\")\n",
    "    plt.title(\"Epoch loss\")\n",
    "    plt.show()\n",
    "\n",
    "    torch.save(model, prefix_models+f\"model_E{epoch}.pt\")\n",
    "\n",
    "    with open(prefix_models+\"losses.txt\", \"a\") as f:\n",
    "        f.write(f\"{epoch_losses[-1]}\\n\")\n",
    "        \n",
    "    scheduler.step()    \n",
    "    \n",
    "    print(\"=========================== END OF EPOCH ===========================\")\n",
    "    with torch.no_grad():\n",
    "        for i, prompt in enumerate(prompts):\n",
    "            print(f\"Prompt {i}: {prompt}\")\n",
    "            output=generate(prompt)\n",
    "            if not output.strip().endswith(\"<CUTOFF>\"):\n",
    "                print(f\"Model output (markdown): \", end=\"\")\n",
    "                IPython.display.display(IPython.display.Markdown(output))\n",
    "            else:\n",
    "                print(f\"Model output (raw): {output}\")\n",
    "            print()\n"
   ]
  },
  {
   "cell_type": "code",
   "execution_count": null,
   "metadata": {
    "id": "DUracnfcZSLX",
    "tags": []
   },
   "outputs": [],
   "source": [
    "model = torch.load(prefix_models+\"model_E0\")\n",
    "\n",
    "with torch.no_grad():\n",
    "    for i, prompt in enumerate(prompts):\n",
    "        print(f\"Prompt {i}: {prompt}\")\n",
    "        output=generate(prompt)\n",
    "        print(f\"Model output: {output}\")\n",
    "        print()\n"
   ]
  },
  {
   "cell_type": "code",
   "execution_count": null,
   "metadata": {
    "id": "r31WSN9YiTuZ"
   },
   "outputs": [],
   "source": [
    "import builtins\n",
    "while True:\n",
    "    prompt = builtins.input(\">>> \")\n",
    "    output=generate(prompt)\n",
    "    print(f\"Model output: {output}\")\n",
    "    print()"
   ]
  },
  {
   "cell_type": "code",
   "execution_count": null,
   "metadata": {},
   "outputs": [],
   "source": []
  },
  {
   "cell_type": "code",
   "execution_count": null,
   "metadata": {},
   "outputs": [],
   "source": []
  }
 ],
 "metadata": {
  "kernelspec": {
   "display_name": "Python 3",
   "language": "python",
   "name": "python3"
  },
  "language_info": {
   "codemirror_mode": {
    "name": "ipython",
    "version": 3
   },
   "file_extension": ".py",
   "mimetype": "text/x-python",
   "name": "python",
   "nbconvert_exporter": "python",
   "pygments_lexer": "ipython3",
   "version": "3.8.10"
  }
 },
 "nbformat": 4,
 "nbformat_minor": 4
}
