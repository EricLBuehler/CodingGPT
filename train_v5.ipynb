{
 "cells": [
  {
   "cell_type": "code",
   "execution_count": 1,
   "metadata": {
    "id": "BHZnXywjxGeq"
   },
   "outputs": [],
   "source": [
    "#https://pytorch.org/tutorials/beginner/transformer_tutorial.html"
   ]
  },
  {
   "cell_type": "code",
   "execution_count": 2,
   "metadata": {
    "id": "kY_j8RUDP5y4"
   },
   "outputs": [],
   "source": [
    "from torch import nn, Tensor\n",
    "import torch.nn.functional as F\n",
    "import torch\n",
    "import math\n",
    "from torch.autograd.variable import Variable\n",
    "import typing\n",
    "import random\n",
    "import tqdm\n",
    "import matplotlib.pyplot as plt"
   ]
  },
  {
   "cell_type": "code",
   "execution_count": 3,
   "metadata": {
    "id": "y4lRdOSZNpe2"
   },
   "outputs": [],
   "source": [
    "%matplotlib inline"
   ]
  },
  {
   "cell_type": "code",
   "execution_count": 4,
   "metadata": {
    "colab": {
     "base_uri": "https://localhost:8080/"
    },
    "id": "ph2WO5JpKukk",
    "outputId": "ab00d895-307a-4ade-e705-1c6dd8ae6926"
   },
   "outputs": [],
   "source": [
    "import os\n",
    "\n",
    "modelname=\"4_28_23_m3\"\n",
    "\n",
    "prefix_models=\"models/\"+modelname+\"/\"\n",
    "\n",
    "if not os.path.exists(prefix_models):\n",
    "    os.makedirs(prefix_models)"
   ]
  },
  {
   "cell_type": "code",
   "execution_count": 5,
   "metadata": {
    "id": "Oe3wtt5oADl6"
   },
   "outputs": [],
   "source": [
    "device = torch.device('cuda' if torch.cuda.is_available() else 'cpu')"
   ]
  },
  {
   "cell_type": "code",
   "execution_count": 6,
   "metadata": {
    "id": "xGOoJdNdRSaO"
   },
   "outputs": [],
   "source": [
    "class PositionalEncoding(nn.Module):\n",
    "    def __init__(self, d_model: int, dropout: float = 0.1, max_len: int = 5000):\n",
    "        super().__init__()\n",
    "        self.dropout = nn.Dropout(p=dropout)\n",
    "\n",
    "        position = torch.arange(max_len).unsqueeze(1)\n",
    "        div_term = torch.exp(torch.arange(0, d_model, 2) * (-math.log(10000.0) / d_model))\n",
    "        pe = torch.zeros(max_len, 1, d_model)\n",
    "        pe[:, 0, 0::2] = torch.sin(position * div_term)\n",
    "        pe[:, 0, 1::2] = torch.cos(position * div_term)\n",
    "        self.register_buffer('pe', pe)\n",
    "\n",
    "    def forward(self, x: Tensor) -> Tensor:\n",
    "        \"\"\"\n",
    "        Arguments:\n",
    "            x: Tensor, shape ``[seq_len, batch_size, embedding_dim]``\n",
    "        \"\"\"\n",
    "        #mine is [batch, seq, embed]\n",
    "        x = x.permute((1,0,2))\n",
    "        x = x + self.pe[:x.size(0)]\n",
    "        dropout = self.dropout(x)\n",
    "        return dropout.permute((1,0,2))"
   ]
  },
  {
   "cell_type": "code",
   "execution_count": 7,
   "metadata": {
    "id": "XakHZ4HfFdYM"
   },
   "outputs": [],
   "source": [
    "class ScaledDotProductAttention(nn.Module):\n",
    "    def forward(self, query, key, value, mask = None):\n",
    "        key_tp = key.transpose(-2, -1)\n",
    "\n",
    "        scores = query.matmul(key_tp) / math.sqrt(query.size()[-1])\n",
    "\n",
    "        if mask is not None:\n",
    "            scores = scores.masked_fill(mask == 0, float(\"-inf\"))\n",
    "            \n",
    "        attention = F.softmax(scores, dim = -1)\n",
    "\n",
    "        return attention.matmul(value)"
   ]
  },
  {
   "cell_type": "code",
   "execution_count": 8,
   "metadata": {
    "id": "G-sb6gd7L5bR"
   },
   "outputs": [],
   "source": [
    "class MultiHeadAttention(nn.Module):\n",
    "    def __init__(self,\n",
    "                 in_features,\n",
    "                 head_num,\n",
    "                 bias=True,\n",
    "                 activation=F.relu):\n",
    "        super(MultiHeadAttention, self).__init__()\n",
    "        if in_features % head_num != 0:\n",
    "            raise ValueError('`in_features`({}) should be divisible by \\\n",
    "                `head_num`({})'.format(in_features, head_num))\n",
    "        self.in_features = in_features\n",
    "        self.head_num = head_num\n",
    "        self.activation = activation\n",
    "        self.bias = bias\n",
    "        self.linear_q = nn.Linear(in_features, in_features, bias)\n",
    "        self.linear_k = nn.Linear(in_features, in_features, bias)\n",
    "        self.linear_v = nn.Linear(in_features, in_features, bias)\n",
    "        self.linear_o = nn.Linear(in_features, in_features, bias)\n",
    "\n",
    "    def forward(self, q, k, v, mask=None):\n",
    "        q, k, v = self.linear_q(q), self.linear_k(k), self.linear_v(v)\n",
    "        if self.activation is not None:\n",
    "            q = self.activation(q)\n",
    "            k = self.activation(k)\n",
    "            v = self.activation(v)\n",
    "\n",
    "        q = self._reshape_to_batches(q)\n",
    "        k = self._reshape_to_batches(k)\n",
    "        v = self._reshape_to_batches(v)\n",
    "        \n",
    "        if mask is not None:\n",
    "            mask = mask.repeat(self.head_num, 1, 1)   \n",
    "        \n",
    "        y = ScaledDotProductAttention()(q, k, v, mask)        \n",
    "        \n",
    "        y = self._reshape_from_batches(y)      \n",
    "\n",
    "        y = self.linear_o(y)\n",
    "        if self.activation is not None:\n",
    "            y = self.activation(y)\n",
    "        return y\n",
    "\n",
    "    @staticmethod\n",
    "    def gen_causal_mask(x):\n",
    "        batch_size, seq_len, _ = x.size()\n",
    "        return torch.tril(torch.ones(seq_len, seq_len)).view(1, seq_len, seq_len).repeat(batch_size, 1, 1)\n",
    "\n",
    "    def _reshape_to_batches(self, x):\n",
    "        batch_size, seq_len, in_feature = x.size()\n",
    "        sub_dim = in_feature // self.head_num\n",
    "        return x.reshape(batch_size, seq_len, self.head_num, sub_dim)\\\n",
    "                .permute(0, 2, 1, 3)\\\n",
    "                .reshape(batch_size * self.head_num, seq_len, sub_dim)\n",
    "\n",
    "    def _reshape_from_batches(self, x):\n",
    "        batch_size, seq_len, in_feature = x.size()\n",
    "        batch_size //= self.head_num\n",
    "        out_dim = in_feature * self.head_num\n",
    "        return x.reshape(batch_size, self.head_num, seq_len, in_feature)\\\n",
    "                .permute(0, 2, 1, 3)\\\n",
    "                .reshape(batch_size, seq_len, out_dim)"
   ]
  },
  {
   "cell_type": "code",
   "execution_count": 9,
   "metadata": {
    "id": "NDpTASiaTxTX"
   },
   "outputs": [],
   "source": [
    "class Transformer(nn.Module):\n",
    "    def __init__(self, \n",
    "                 embedding_dim: int,\n",
    "                 n_self_heads: int,\n",
    "                 n_features: int,\n",
    "                 n_layers: int,\n",
    "                 n_classes: int):\n",
    "        super().__init__()\n",
    "\n",
    "        #Embedding layer\n",
    "        self.embedding = nn.Embedding(n_features, embedding_dim)\n",
    "        #Positional encoding\n",
    "        self.pos_encode = PositionalEncoding(embedding_dim)\n",
    "\n",
    "        self.decoder_layers = []\n",
    "\n",
    "        for _ in range(n_layers):\n",
    "            layer = []\n",
    "            #Add multihead, which will be cross or self attention\n",
    "            layer.append(MultiHeadAttention(embedding_dim, n_self_heads)) #self attention first, masked\n",
    "            #Now add layer norm\n",
    "            layer.append(nn.LayerNorm(embedding_dim))\n",
    "            #Add a feed forward\n",
    "            layer.append(nn.Linear(embedding_dim, embedding_dim))\n",
    "            #Now add layer norm\n",
    "            layer.append(nn.LayerNorm(embedding_dim))\n",
    "\n",
    "            self.decoder_layers.append(nn.ModuleList(layer))\n",
    "        self.decoder_layers=nn.ModuleList(self.decoder_layers)\n",
    "\n",
    "        self.to_out = nn.Linear(embedding_dim, n_classes)\n",
    "            \n",
    "    def forward(self, x: torch.Tensor, calculate_loss: bool = False):\n",
    "        \"\"\"\n",
    "        Expect tensor of [batch_size, n_features]\n",
    "        \"\"\"\n",
    "        if calculate_loss:\n",
    "            #If give model that accepts ?x?x4 abcd, expect bcd0\n",
    "            \n",
    "            target_logits=torch.cat([x[:,1:], torch.zeros((x.shape[0],1)).to(device)], dim=-1) ## if x is abcd, then target_logits is bcd0\n",
    "\n",
    "        x=x.long().to(device)\n",
    "        embed = self.embedding(x)\n",
    "        pos_encode = self.pos_encode(embed)\n",
    "\n",
    "        res = embed+pos_encode\n",
    "        \n",
    "        for decoder_layer in self.decoder_layers:\n",
    "            d_self_attention = decoder_layer[0]\n",
    "            d_layer_norm_1 = decoder_layer[1]\n",
    "            d_ff = decoder_layer[2]\n",
    "            d_layer_norm_2 = decoder_layer[3]\n",
    "            \n",
    "            ## Run the decoder\n",
    "            #do masked self attention\n",
    "            mask = MultiHeadAttention.gen_causal_mask(res).to(device)\n",
    "            res = res + d_self_attention(res,res,res, mask = mask)\n",
    "            self_res = res\n",
    "            #layer norm\n",
    "            res = d_layer_norm_1(res)\n",
    "\n",
    "            #do ff\n",
    "            res = self_res + d_ff(res)\n",
    "            #layer norm\n",
    "            res = d_layer_norm_2(res)\n",
    "\n",
    "        out = self.to_out(res)\n",
    "        if calculate_loss:\n",
    "            loss = nn.functional.cross_entropy(out.permute(0, 2, 1), target_logits.long())\n",
    "            return out,loss\n",
    "        return out"
   ]
  },
  {
   "cell_type": "code",
   "execution_count": 10,
   "metadata": {
    "id": "HqGGEpvCLbP8"
   },
   "outputs": [],
   "source": [
    "def tokenize_multi(text_seq: str, features: int, encoding = \"utf8\") -> torch.Tensor:\n",
    "    # tokenize the input text\n",
    "    sentences = []\n",
    "    for sentence in filter(lambda x: x!=\"\", text_seq.split(\"\\n\")):\n",
    "        base = list(bytes(sentence, \"utf8\"))\n",
    "        if len(base) < features:\n",
    "            base.extend([0] * (features - len(base)))\n",
    "        tensor = torch.Tensor(base)\n",
    "        tensor = tensor.unsqueeze(0)\n",
    "        sentences.append(tensor)\n",
    "\n",
    "    return torch.cat(sentences, dim = 0)\n",
    "\n",
    "def tokenize_single(sentence: str, features: int, encoding = \"utf8\") -> torch.Tensor:\n",
    "    base = list(bytes(sentence, \"utf8\"))\n",
    "    if len(base) < features:\n",
    "        base.extend([0] * (features - len(base)))\n",
    "    tensor = torch.Tensor(base)\n",
    "    return tensor"
   ]
  },
  {
   "cell_type": "code",
   "execution_count": 11,
   "metadata": {
    "id": "pB-Xcf4TkKNQ"
   },
   "outputs": [],
   "source": [
    "def generate(seed: str, cutoff: int = 1024) -> str:\n",
    "    output = torch.tensor([list(bytes(seed,\"utf8\"))]).to(device)\n",
    "    \n",
    "    res=output\n",
    "    last = -1\n",
    "    i=0\n",
    "    while last != 0 and i<cutoff:\n",
    "        res = model(output)\n",
    "        argmax=res.argmax(-1)\n",
    "        \n",
    "        out = list(output[0])\n",
    "        out.append(list(argmax.to(device)[0])[-1])\n",
    "        last = list(argmax.to(device)[0])[-1]\n",
    "        output = torch.tensor([out])\n",
    "        i+=1\n",
    "    \n",
    "    if last == 0:\n",
    "        return convert_to_str(output)\n",
    "    return convert_to_str(output)+\"<CUTOFF>\""
   ]
  },
  {
   "cell_type": "code",
   "execution_count": 12,
   "metadata": {
    "id": "R81mAag8mHEG"
   },
   "outputs": [],
   "source": [
    "class TextDataset(torch.utils.data.Dataset):\n",
    "    def __init__(self, data: typing.List[str], features):\n",
    "        self.raw_data = data\n",
    "        self.features = features\n",
    "        \n",
    "    def __len__(self):\n",
    "        return len(self.raw_data)\n",
    "\n",
    "    def __getitem__(self,index):\n",
    "        return tokenize_single(self.raw_data[index], self.features)"
   ]
  },
  {
   "cell_type": "code",
   "execution_count": 13,
   "metadata": {
    "id": "xQidsLjVaFUi"
   },
   "outputs": [],
   "source": [
    "def convert_to_str(x: torch.Tensor) -> str:\n",
    "    #Expects [1, 256] tensor\n",
    "    bts = []\n",
    "    i=0\n",
    "    while len(bts)<x.shape[1] and x[0][i] != 0:\n",
    "        bts.append(int(x[0][i]))\n",
    "        i+=1\n",
    "    return bytes(bts).decode()"
   ]
  },
  {
   "cell_type": "code",
   "execution_count": 14,
   "metadata": {
    "id": "97rbDfS4gO8C"
   },
   "outputs": [],
   "source": [
    "n_features = 256 # No. of tokens\n",
    "n_pad = 512 # Max line length\n",
    "embedding_dim = 640\n",
    "batch_size = 48\n",
    "head_factor = 64\n",
    "assert embedding_dim%head_factor == 0\n",
    "head_size = embedding_dim//head_factor\n",
    "n_layers = 14"
   ]
  },
  {
   "cell_type": "code",
   "execution_count": 15,
   "metadata": {
    "colab": {
     "base_uri": "https://localhost:8080/"
    },
    "id": "IvvenMeUKfaj",
    "outputId": "fb38b6f5-0eaf-4d89-83ad-bee41604b8ef"
   },
   "outputs": [
    {
     "name": "stdout",
     "output_type": "stream",
     "text": [
      "135628\n"
     ]
    }
   ],
   "source": [
    "path_to_data = \"data/reddit_scrape_v4.txt\"\n",
    "data_raw = open(path_to_data, encoding=\"utf-8\").read()\n",
    "\n",
    "data_split = list(filter(lambda x: x!=\"\", data_raw.split(\"\\n\")))\n",
    "random.shuffle(data_split)\n",
    "\n",
    "train_data = data_split[100:]\n",
    "print(len(train_data))\n",
    "val_data = data_split[:100]\n",
    "\n",
    "train_dataloader = TextDataset(train_data, n_pad)\n",
    "test_dataloader = TextDataset(train_data, n_pad)\n",
    "\n",
    "dataloader = torch.utils.data.DataLoader(train_dataloader, batch_size=batch_size)\n",
    "testloader = torch.utils.data.DataLoader(test_dataloader , batch_size=1)\n",
    "testloader_iter = iter(testloader)"
   ]
  },
  {
   "cell_type": "code",
   "execution_count": 16,
   "metadata": {
    "id": "GvibftHanb0A"
   },
   "outputs": [],
   "source": [
    "model = Transformer(embedding_dim, head_size, n_features, n_layers, 256)\n",
    "model=model.to(device)"
   ]
  },
  {
   "cell_type": "code",
   "execution_count": 17,
   "metadata": {
    "colab": {
     "base_uri": "https://localhost:8080/"
    },
    "id": "PXqmUSK0M3hD",
    "outputId": "69ad8160-d138-4e98-99b6-bd8cb83753c1"
   },
   "outputs": [
    {
     "name": "stdout",
     "output_type": "stream",
     "text": [
      "torch.Size([1, 512])\n",
      "torch.Size([1, 512, 256])\n",
      "tensor([[165, 127, 127, 254, 127, 147, 108, 254,   4, 187, 254,   4, 254, 232,\n",
      "         254,  74,  64, 254, 102,  64, 254, 122, 186, 254, 127, 133, 147, 108,\n",
      "         254,  62, 254, 233, 108, 127, 254,  65, 223, 186,  64, 254,  48, 138,\n",
      "         254, 122, 117, 122, 254,  24, 254,  54, 108, 127, 238, 254, 243, 232,\n",
      "         243, 254,  48, 138, 254, 127, 223, 238, 254, 102, 238,  24, 190, 254,\n",
      "         209, 187, 120, 167,  48, 141, 238, 226, 171, 254, 132, 108,  48,   7,\n",
      "         238, 254, 254, 254,  36, 165, 254, 209, 238, 254, 127, 186, 102, 141,\n",
      "         254, 254, 186, 254, 238, 254, 238, 165, 238,  78, 238, 138, 190, 108,\n",
      "         128, 254, 127, 223, 238, 254, 238, 147, 108, 254,  64, 243, 254, 254,\n",
      "         238,  54, 108, 243,  45, 254, 127, 243, 254,  78, 232, 138, 238, 254,\n",
      "         127, 133, 232, 138,  64, 108, 254,  48, 197, 254, 108, 104, 186, 209,\n",
      "         238, 254, 186, 138, 226, 254, 102, 254, 102,  97,  64, 254, 127, 133,\n",
      "         127,  78, 254, 102,  54,  11, 153, 254, 127, 243, 254, 122, 186, 254,\n",
      "         127,   8, 171, 254, 165,  23, 238, 254, 172,  64, 102,  38, 254, 254,\n",
      "         238, 186, 108, 229, 237, 254, 111, 172, 178, 149,  35, 254, 102, 238,\n",
      "         254,  35, 243, 225,  64,  64, 254,  48, 127, 254, 225, 108, 254, 102,\n",
      "         238, 171, 186, 121, 108, 238, 254,  30, 243, 121, 254,   8, 186, 121,\n",
      "         238, 254, 102, 121, 111, 238, 254, 108, 254, 127,   8, 186, 127, 254,\n",
      "         186, 254, 238, 254, 186,  88, 108, 187, 254,  48,  64, 254, 108, 104,\n",
      "         186, 209, 238, 171, 117, 117, 117, 117, 117, 117, 117, 117,  86,   8,\n",
      "           8, 117,   8, 117, 117, 117, 117,  86, 117, 117, 117,   8,   8,  92,\n",
      "          92, 117,   8,   8, 117, 117, 117, 117, 117, 117, 117, 117,  86, 121,\n",
      "           8,  86,   8,  86, 117, 117, 117, 117, 117, 117, 117,   8, 117, 117,\n",
      "         117, 117, 117,   8, 176, 117,   8, 117,   8,   8, 117,   8,   8,  86,\n",
      "           8,  86,   8,   8,   8,   8,  86, 117, 117, 117,   8, 117,  86, 117,\n",
      "         117,   8, 117, 117, 117,  86,  86, 117, 117, 117, 117, 117, 117, 117,\n",
      "         117, 117, 117,   8, 117,  86, 117, 117, 117, 117,   8, 117,   8, 176,\n",
      "           8,   8, 176, 117, 117, 117, 176, 117,  86, 117,  86,  86,  86, 176,\n",
      "         176, 176, 117, 117, 117, 121, 176,   8, 121, 117, 117, 117, 117, 176,\n",
      "         176, 117, 121, 176, 176, 117, 176, 176, 176, 117, 117, 117, 117, 117,\n",
      "         117, 121, 176, 176,  86, 176, 121,  86, 117,  86,  86, 176, 176,  86,\n",
      "         176, 176, 176, 176, 176, 176, 117,  86, 121,   8, 121, 121, 254,   8,\n",
      "           8,  86, 254, 254, 254,   8, 121, 121, 121,  86,  86,  86,  86,  86,\n",
      "          86,  86, 121, 117, 121,  86, 117, 254,   8, 117, 117, 176, 176,  86,\n",
      "         254,  86,  86,  86,  86,  86, 117, 117, 117, 176, 117, 171, 117, 117,\n",
      "         117, 117, 117, 121, 171, 121,  86,  86, 117, 121, 121,  86,  41,  86,\n",
      "          86,  86,  86,  86, 117, 117, 117, 117]], device='cuda:0')\n"
     ]
    }
   ],
   "source": [
    "input=next(testloader_iter)\n",
    "input=input.to(device)\n",
    "res = model(input)\n",
    "print(input.shape)\n",
    "print(res.shape)\n",
    "print(res.argmax(-1))"
   ]
  },
  {
   "cell_type": "code",
   "execution_count": 18,
   "metadata": {
    "id": "tZji9Va7-unn"
   },
   "outputs": [],
   "source": [
    "lr = 1e-5\n",
    "optimizer = torch.optim.Adam(model.parameters(), lr=lr)"
   ]
  },
  {
   "cell_type": "code",
   "execution_count": 19,
   "metadata": {
    "id": "hUN0DJQo-vmf"
   },
   "outputs": [],
   "source": [
    "n_epochs = 40"
   ]
  },
  {
   "cell_type": "code",
   "execution_count": 20,
   "metadata": {
    "colab": {
     "base_uri": "https://localhost:8080/"
    },
    "id": "GczR7J4u6L5Q",
    "outputId": "15259e58-4468-44ff-dcf3-6c8dfb86d6bc"
   },
   "outputs": [
    {
     "name": "stdout",
     "output_type": "stream",
     "text": [
      "Fri Apr 28 22:09:16 2023       \n",
      "+-----------------------------------------------------------------------------+\n",
      "| NVIDIA-SMI 515.65.01    Driver Version: 515.65.01    CUDA Version: 11.7     |\n",
      "|-------------------------------+----------------------+----------------------+\n",
      "| GPU  Name        Persistence-M| Bus-Id        Disp.A | Volatile Uncorr. ECC |\n",
      "| Fan  Temp  Perf  Pwr:Usage/Cap|         Memory-Usage | GPU-Util  Compute M. |\n",
      "|                               |                      |               MIG M. |\n",
      "|===============================+======================+======================|\n",
      "|   0  NVIDIA A10          On   | 00000000:06:00.0 Off |                    0 |\n",
      "|  0%   49C    P0    63W / 150W |   1493MiB / 23028MiB |      8%      Default |\n",
      "|                               |                      |                  N/A |\n",
      "+-------------------------------+----------------------+----------------------+\n",
      "                                                                               \n",
      "+-----------------------------------------------------------------------------+\n",
      "| Processes:                                                                  |\n",
      "|  GPU   GI   CI        PID   Type   Process name                  GPU Memory |\n",
      "|        ID   ID                                                   Usage      |\n",
      "|=============================================================================|\n",
      "|    0   N/A  N/A      1875      C   /usr/bin/python3                 1491MiB |\n",
      "+-----------------------------------------------------------------------------+\n"
     ]
    }
   ],
   "source": [
    "!nvidia-smi"
   ]
  },
  {
   "cell_type": "code",
   "execution_count": 21,
   "metadata": {},
   "outputs": [
    {
     "name": "stdout",
     "output_type": "stream",
     "text": [
      "cuda\n"
     ]
    }
   ],
   "source": [
    "print(device)"
   ]
  },
  {
   "cell_type": "code",
   "execution_count": 22,
   "metadata": {
    "id": "yYr65bmbITE1"
   },
   "outputs": [],
   "source": [
    "prompts = [\n",
    "    \"Why does Earth orbit the Sun?\",\n",
    "    \"Hello world, \",\n",
    "    \"How to use ChatGPT?\",\n",
    "    \"My code does not work. What should I do?\",\n",
    "    \"Why is this code not working: `1+\\\"A\\\"`?\",\n",
    "    \"Why is Java better than Python?\",\n",
    "    \"Why is Python better than Java?\",\n",
    "    \"What is the purpose of the main() function in C?\",\n",
    "    \"What is coding?\",\n",
    "]"
   ]
  },
  {
   "cell_type": "code",
   "execution_count": null,
   "metadata": {
    "id": "o85FrKyF-wg-"
   },
   "outputs": [
    {
     "name": "stdout",
     "output_type": "stream",
     "text": [
      "Epoch 1\n"
     ]
    },
    {
     "name": "stderr",
     "output_type": "stream",
     "text": [
      "100%|██████████| 2826/2826 [51:13<00:00,  1.09s/it]\n"
     ]
    },
    {
     "data": {
      "image/png": "[encoded data removed]",
      "text/plain": [
       "<Figure size 432x288 with 1 Axes>"
      ]
     },
     "metadata": {
      "needs_background": "light"
     },
     "output_type": "display_data"
    },
    {
     "data": {
      "image/png": "[encoded data removed]",
      "text/plain": [
       "<Figure size 432x288 with 1 Axes>"
      ]
     },
     "metadata": {
      "needs_background": "light"
     },
     "output_type": "display_data"
    },
    {
     "name": "stdout",
     "output_type": "stream",
     "text": [
      "Prompt 0: Why does Earth orbit the Sun?\n",
      "Model output: Why does Earth orbit the Sun?\n",
      "\n",
      "Prompt 1: Hello world, \n",
      "Model output: Hello world, athe athe athe athe athe the se athe se an the the the the the the athe the t the the the the the the the the so s sthe the the the se the the the the the the the the the the the the se se there sthe the the sthere the the therere s the s athe se the the the the the the the the the the the the the the the the the the the s in the in the there the the the s s the there there the there the the s the the athe the therererere the there the the the the the there thererere the the the t t t the the t the t the t t the t t the the the the the the there s s the there there the the the there the the theathean there the the the the to the the the the the in s sthere s s s sthere s the there the the s the s the the sthe the the t the s s the the therere the the the the the the the sthe the the the the the so sthe the the the the s the the the in the the the the the there s t t in t the the the the the the therere there the the the s the the in the s the the t the the the the s the the se s s the the the sthe the in ther<CUTOFF>\n",
      "\n",
      "Prompt 2: How to use ChatGPT?\n",
      "Model output: How to use ChatGPT? I and the the at in a a the the a in the the the the the the the the the the the the the the in the the the the the the the s the the the the the the the the the the the the the the there the the the there the the there the the the the the the the the the the the the the the the the the the the the in s in s the the the the the therere the the the s sthe the therere there the the the arerere the the the thererere there there the the the t the the thererererere the the the t the the the t t t the t t t t the t t the the the the the the there s s there there the the the the thererere the in thererere the the the the the the the there the the s sthe s in s there s s there the s the the the the the the the the the the the the the the there there the the the s there the s the the therere the the the the the the the the the the the the the the the the the the the t t the in the the the the to the the there sthe the the s the the s s s s s the the t the the the s in there s the s s the s the s sthe there the s ther<CUTOFF>\n",
      "\n",
      "Prompt 3: My code does not work. What should I do?\n",
      "Model output: My code does not work. What should I do?\n",
      "\n",
      "Prompt 4: Why is this code not working: `1+\"A\"`?\n",
      "Model output: Why is this code not working: `1+\"A\"`?\n",
      "\n",
      "Prompt 5: Why is Java better than Python?\n",
      "Model output: Why is Java better than Python? I in the a a the the the the the an the the t athe the the the the the the the the the the the s the the the the s there the the the the the the the the the the the the the the the the therere the the the there the the in the the the the the the the the the t the the the the the the there the there the the the the the the the s the the s the the the therere the the thererere sthe the the the therere the there the the st t there the there there there the the the t t t the the t t t the t the t t t the the the the the t thererere sthe s thererererere s the sthe thererere the to the there the the the the the the the the the the the s s s there the s s s sthe there the the s the s the there s the the the the the the thererere the the the the the the the s s s the the the the the sthe the the the the the the the the in the the the the to there the the t t an in the the the the the there the the the the the s s the s s s the s the the the the the s s s the there the the sthe the sthe the the there the the there th<CUTOFF>\n",
      "\n",
      "Prompt 6: Why is Python better than Java?\n",
      "Model output: Why is Python better than Java? the the the at the the athe s the athe the the the the the the the the s the the athe the the s the the athe the s the the the the the the the the the the the the the the the the the the sthe the the the therere the the the the the there the the athe the t the the the the the the the the the the s the the the the s athe the sthe the sthe the the sthe there s the the therere s the there the t the therere the the therere the there the there thererere the the the t t t the the t t the t t t t t t t t t t the the t the the the the s s s s there the the the the sthe therere theathe therererere the the the the the the the the the s the s s s the in s sthe sthe sthe the there s s the s s the sthe the the the the the the the there there the the the s the the the t the the there the the s s sthe the the the the the the the s the the in the in the the the in t the the the the the ton the there the the the the the the the in the s the the the there the sthe the the the in s there the the there the the sthe there therer<CUTOFF>\n",
      "\n",
      "Prompt 7: What is the purpose of the main() function in C?\n",
      "Model output: What is the purpose of the main() function in C?\n",
      "\n",
      "Prompt 8: What is coding?\n",
      "Model output: What is coding? the in inon the the the the in the the the the the the the the the the the the the the the the the t the the the the the the the the sthe the the the the the the the the the the the the the the the the sthere the there the the the the the there the the the the the the the the the the the the the the the s the the the the in the the s the the the there s the the the the therere the therere there the s athe the therere the there the the the the t the therere the the the the the t t t the the the t t t t t t t t t t s t the the the the the therere the thererererere the the the thererere the theathe therere the the the the the the the the the the the s the s the s se s s the the the t the the s the the s s the the the the t s the the the there there the the the the the the the sthe the sthe sthe sthe the the the the the the the the s the athe the the the the the the in s the the in the the the the there the the the the the the the s the s the the sthe the the the the the the s s s the s the the sthe the the the <CUTOFF>\n",
      "\n",
      "Epoch 2\n"
     ]
    },
    {
     "name": "stderr",
     "output_type": "stream",
     "text": [
      "100%|██████████| 2826/2826 [51:23<00:00,  1.09s/it]\n"
     ]
    },
    {
     "data": {
      "image/png": "[encoded data removed]",
      "text/plain": [
       "<Figure size 432x288 with 1 Axes>"
      ]
     },
     "metadata": {
      "needs_background": "light"
     },
     "output_type": "display_data"
    },
    {
     "data": {
      "image/png": "[encoded data removed]",
      "text/plain": [
       "<Figure size 432x288 with 1 Axes>"
      ]
     },
     "metadata": {
      "needs_background": "light"
     },
     "output_type": "display_data"
    },
    {
     "name": "stdout",
     "output_type": "stream",
     "text": [
      "Prompt 0: Why does Earth orbit the Sun?\n",
      "Model output: Why does Earth orbit the Sun?\n",
      "\n",
      "Prompt 1: Hello world, \n",
      "Model output: Hello world, you do the and the the and the the are the and the the the and the the and the the the the are the the the are the attt and the the the stat the the the the the sthe the are the the the the sthe are the the the the the sthe are the the sthe are sthe the the the sthe the the the the the the stheathe ttttttttttt in in the is in the the the theathe the the the the the the the are the the the the the the sthe the the there sthe sthere the the the the the the isthe the the the the the the the the the the the the the sthe tthe the sthere the the thererere the the there the the sthe sthere the the sthe the sthe the the the the the the the the the the the the sthe stherere sthe sthe the the the the the in the then the the the the the the sthe there the the the ttthe the ttttthe tthe tthe ttthe tttttthe the tthe the tthe the ttttthe ttttttttthe in tttthe in the the ttthe ttttttttttttttttttttttttttttttttthere tttttttttttttttttttttttt in in in in tttttttttttttttttttttttttt in in in tttttttt in in in in in ttthere in tth<CUTOFF>\n",
      "\n",
      "Prompt 2: How to use ChatGPT?\n",
      "Model output: How to use ChatGPT? I a start and the the start and the the and the the the start and the the the are the and the the the are the the the istttere the and the the the the stheme and the the the the the the the the the the sttttttt are the and the the the the the the the the sthe the the the the the the the the there the sthe the the the in the the there the the the the sttttthe the tthe tthe the the the the the the the the the the the the there there the there the sthe sthe the the the the tttthe ttthe tthe the tttttttttttttttttttttthe tthe s tthere the the the sthe thererere the tttthe there tttttttttttttttttttthere ttttttttttttttttttttttttttttttttttttt or in tt in in in in in in in in in the in the tthe in in tttttthe ore tthe on the ttthe ttherererere ttthe in the tthere tttheren ttttttttttttttttttttttttttttthe in in ttttttttttttttttttt in in tte on on on in in in theren in in in the ton in ton toun then then then ton in the in on therere ooun the theren theren then then therere the then then thererererererere the the tthere<CUTOFF>\n",
      "\n",
      "Prompt 3: My code does not work. What should I do?\n",
      "Model output: My code does not work. What should I do? I wan't the the are the start the and the the the stare and the the start and the the stare the the the and the the the sthe and the the the the sthe the the and the the the the sthe theme the the the the the the the the sthe the the stthe the the the the in theatttttttttttttt in in in the the in the therere the therere in the the the the there the the the the the the the the the the thererere the there the the the the the the therere the the the the the the the the the the the the there the sthe there the the then thean sthe then theathe the the the the the the the the sthe the the the the the the the the the there sthe sthe the sthe the sthererere sthe the the the the the the the the the the the the ttthe the the the the the there the then tthe tthe the tthe tttthe the the the the ttthe the tttthe the sthe the the the the then then tthe the tthe in in ttthere the then then thereren the the the in in the the the the theren tttttttttttthe in sthe tthen then tthe the therere then the ttttttttttttthere tttttth<CUTOFF>\n",
      "\n",
      "Prompt 4: Why is this code not working: `1+\"A\"`?\n",
      "Model output: Why is this code not working: `1+\"A\"`?\n",
      "\n",
      "Prompt 5: Why is Java better than Python?\n",
      "Model output: Why is Java better than Python?\n",
      "\n",
      "Prompt 6: Why is Python better than Java?\n",
      "Model output: Why is Python better than Java? \n",
      "\n",
      "Prompt 7: What is the purpose of the main() function in C?\n",
      "Model output: What is the purpose of the main() function in C?\n",
      "\n",
      "Prompt 8: What is coding?\n",
      "Model output: What is coding? I the the the start the and the the start and the the the and the the stare the the and the the the stat the the and the the the stare the the and the the the the sthe are the the the the the sthe theme the the the the the sthe the the the the the the the sthe the the in the there the the the the the the isthe the inde isthe the in there the the the there the the the the the sthe the the the in the the the thererere the the the the the the the the isthe isthe the the the the the the the tthe sthe the the the the the the the sthere the sthen there there there the the there the the the tthe the the the the tthe the the the the the the the the sthe therere sthe sthe sthere sthere the the the the the the tttttthe the the the the sthe therere the tthe tthe tttthe tttttttttttttthe tttttttttttttttttttttttttttttttttt tttttttttttttttttt in in in in in in in ttttttttttttttttttt oure in in in ttttttttttttterere in in in in in in in in in in tttthere in tttttttttttttttttt in in in ttttttherere in in in the in in the in <CUTOFF>\n",
      "\n",
      "Epoch 3\n"
     ]
    },
    {
     "name": "stderr",
     "output_type": "stream",
     "text": [
      "100%|██████████| 2826/2826 [51:23<00:00,  1.09s/it]\n"
     ]
    },
    {
     "data": {
      "image/png": "[encoded data removed]",
      "text/plain": [
       "<Figure size 432x288 with 1 Axes>"
      ]
     },
     "metadata": {
      "needs_background": "light"
     },
     "output_type": "display_data"
    },
    {
     "data": {
      "image/png": "[encoded data removed]",
      "text/plain": [
       "<Figure size 432x288 with 1 Axes>"
      ]
     },
     "metadata": {
      "needs_background": "light"
     },
     "output_type": "display_data"
    },
    {
     "name": "stdout",
     "output_type": "stream",
     "text": [
      "Prompt 0: Why does Earth orbit the Sun?\n",
      "Model output: Why does Earth orbit the Sun?\n",
      "\n",
      "Prompt 1: Hello world, \n",
      "Model output: Hello world, I want the the start and the start in the start in the the start and the start and the start and the start in the start a the start and the the start and the the start in the istere and the the start and the the start and the the stare and the the start the the start the the sto the the tope the the the sthe ist in int in thee the the thee the the the the sthe tthe in there in the the the in the the thean the the there the tthe the the the the the the in stherere the the the te toppppppe tttte tte te ttoperere ttttttt in in pperere thererere ttere tere in in tthe therere tere te in terere te in in topere te ttttee the ttope tthe te ton topere the tthererererere there ttin in in the the the therere ttttt there ttte the the t ttttttererererere tin in in tt ttthererererererere ttttttt ttt tttere terererere in tin in tin tin in in in in in in tope tourerererererere te in in on touten in in tererererererere topoon in on the the therere in te in tin thererererere tin tin ton ton teren therere there therererererere <CUTOFF>\n",
      "\n",
      "Prompt 2: How to use ChatGPT?\n",
      "Model output: How to use ChatGPT?\n",
      "\n",
      "Prompt 3: My code does not work. What should I do?\n",
      "Model output: My code does not work. What should I do?\n",
      "\n",
      "Prompt 4: Why is this code not working: `1+\"A\"`?\n",
      "Model output: Why is this code not working: `1+\"A\"`? \n",
      "\n",
      "Prompt 5: Why is Java better than Python?\n",
      "Model output: Why is Java better than Python?\n",
      "\n",
      "Prompt 6: Why is Python better than Java?\n",
      "Model output: Why is Python better than Java? \n",
      "\n",
      "Prompt 7: What is the purpose of the main() function in C?\n",
      "Model output: What is the purpose of the main() function in C?\n",
      "\n",
      "Prompt 8: What is coding?\n",
      "Model output: What is coding? I was the the start and the start and the start and the start the start and the start the and the start and the start and the start in the start and the start and the start and the the start and the the stare the thear start and to the the start and to the the the stare the and to the the the the ist in the the the the isttt the in thee the the topppe in in thee the the the the the the the the the thean toppppe the the the there tthe the the the the in torere tore the the the the toppppe toppe tttttt ttttttttt te the oppe therere tthe the thererere te topere tthe the there in tere tope tope te the tope tthe the the tope the tthe the topre toppppppprerere thererere tttttttt tttt the ttttthe in in tttttttttttin in in tttin t tererere tin opre in ton tin tin tererererere tererere te terere te te on operererere tin tin tin tin in in toouree tope the topererereren in tin topoopoope ttin te terere thereren ton tin tope the the there in tope therere tin tin ton tin therererereren therererererere the therererererere<CUTOFF>\n",
      "\n",
      "Epoch 4\n"
     ]
    },
    {
     "name": "stderr",
     "output_type": "stream",
     "text": [
      "100%|██████████| 2826/2826 [51:23<00:00,  1.09s/it]\n"
     ]
    },
    {
     "data": {
      "image/png": "[encoded data removed]",
      "text/plain": [
       "<Figure size 432x288 with 1 Axes>"
      ]
     },
     "metadata": {
      "needs_background": "light"
     },
     "output_type": "display_data"
    },
    {
     "data": {
      "image/png": "[encoded data removed]",
      "text/plain": [
       "<Figure size 432x288 with 1 Axes>"
      ]
     },
     "metadata": {
      "needs_background": "light"
     },
     "output_type": "display_data"
    },
    {
     "name": "stdout",
     "output_type": "stream",
     "text": [
      "Prompt 0: Why does Earth orbit the Sun?\n",
      "Model output: Why does Earth orbit the Sun? I don't know the statement and in the stated and the start in the start in the start in the conter the conter and the the contice the the compater the the company the the companice the the compater the the compan the completer to the the cand to the the compt to the the the the the coppe to the the the the the copppe top the to the the the the the the the the the the the the copppppp in toppe ttopp top the the tin the topppe to the the the topre tope to tope ttt the topppe to te toppp to top to to there the the the the the the there the the the the the tthe the tere toppppp the the the tin the the the the the the pppppppp ttoppppp ttoppp ttttin tttin t top tin the the the t the ttttttin ttere te tope top t t to topererererere tin tin thererere t tt tterere t topperere tere tte top top top ttin tin te te tin te tin te tere toppe toperere toperen te te pe te tope tope tererereren tten toperen ten ton te te top toperere te ten tin toppen tin ton tin tin ton topppperererererer tererere therere terererererererent<CUTOFF>\n",
      "\n",
      "Prompt 1: Hello world, \n",
      "Model output: Hello world, you do with the start and the start in the start in the start and the start in the start in the start in the start in the start in the start in the in the start in the in the in the interesting the and the the conting the in the the conting the in the the the pretting to the the can the the the the ist in the the in the the the in to the the the the topppe tt in the the tere to the the the the the the the topppppe tin tt the in in tope the the te to to to the to the the te te the te the pppppp to te te te topppre topppppppppe t topppere te the tere terere tttttt tte te te te te tere te te te te tin tere tin te tere the the the t tererere tto t ppppppp ppren topp tin p tin tin there the the t t the tin tin tere tere te ppp t torerererererere t t t tererere tttt t t torere t tt terere t tten tte tin terere tte p ttin tin te te te in in te tere to te ten ten tereren te in tin to ten ten tereren ten teren terereren teren teren ton tere pp ten perereren terererereren t tin t teren ten t tererereren ton tereren ter<CUTOFF>\n",
      "\n",
      "Prompt 2: How to use ChatGPT?\n",
      "Model output: How to use ChatGPT?\n",
      "\n",
      "Prompt 3: My code does not work. What should I do?\n",
      "Model output: My code does not work. What should I do? I work the are there a sence and the start the companical the the company the company the company the company the the company the are the the company the in the companice the the companet the the comp the companice the the to the the coppet to the the the coppe the the the toppe the to the the the the the topppp to the tope the the the the the topppe top the the tope the topp toppe tope the the the tope the the the top the to the to top tope the the toppp the top tope top to topppp topppp the the the top therere the therere the there the the the tthe tthe te ttop tope te toppe the tthe the the toppp topp ttop topp topp top toppp then tin tin tin therere the the the the there tthe the the ttt the t top topppperere tin thererererererere t tt tt tt tt top te tere tere te tope tope top tin tin tin tope tin top terere tope te terererererere te te ton tope tin te tererereren ten tope top ten top top there te toppp ten tererereren tin ton thererer ton tin pppperer tin tin toplerererererererererererenttenttinttt t t<CUTOFF>\n",
      "\n",
      "Prompt 4: Why is this code not working: `1+\"A\"`?\n",
      "Model output: Why is this code not working: `1+\"A\"`?\n",
      "\n",
      "Prompt 5: Why is Java better than Python?\n",
      "Model output: Why is Java better than Python?\n",
      "\n",
      "Prompt 6: Why is Python better than Java?\n",
      "Model output: Why is Python better than Java? \n",
      "\n",
      "Prompt 7: What is the purpose of the main() function in C?\n",
      "Model output: What is the purpose of the main() function in C?\n",
      "\n",
      "Prompt 8: What is coding?\n",
      "Model output: What is coding? I was the start and the start in the start and the statement that that the start in the controd it the started that a programming the conter the company the companication the the companical the companice the companication the the completer to the cand the the can the the cand to the the the the copppe to the the the the the copppe toppe the to to the the the the the the the the toppppp the tope the ttope the to toppppp the the tope the the to the to to the to toppre to to te top the the toppp to to to topppppppppppe the the the therere the there the the ttthe the te topppe tere te tope te tope top to tin tere the the toppppppp tope top top top toplere there t top thererer the the the t t therere the tt tope the the top t therererererere t top top therererere tt tt ttttt t ton tte teren top top top topp tin tin tin topp tin tin te ton tope ton topererererere ton te ton te tope te ton terereroplerere top tin topen te ton t ton ton tin tin ton tin tin tin ton ton ton ton teren tin therererererererererererererer<CUTOFF>\n",
      "\n",
      "Epoch 5\n"
     ]
    },
    {
     "name": "stderr",
     "output_type": "stream",
     "text": [
      " 26%|██▌       | 725/2826 [13:12<38:10,  1.09s/it]"
     ]
    }
   ],
   "source": [
    "model.train()\n",
    "\n",
    "epoch_losses = []\n",
    "for epoch in range(n_epochs):\n",
    "    print(f\"Epoch {epoch+1}\")\n",
    "    \n",
    "    batch_losses = []\n",
    "    for data in tqdm.tqdm(dataloader):\n",
    "        optimizer.zero_grad()\n",
    "\n",
    "        data = data.to(device)\n",
    "\n",
    "        output, loss = model(data, True)\n",
    "        \n",
    "        loss.backward()\n",
    "        optimizer.step()\n",
    "\n",
    "        batch_losses.append(loss.item())\n",
    "\n",
    "        \n",
    "    epoch_losses.append(sum(batch_losses)/len(batch_losses))\n",
    "\n",
    "    plt.plot(range(len(batch_losses)),batch_losses)\n",
    "    plt.xlabel(\"Batch\")\n",
    "    plt.ylabel(\"Loss\")\n",
    "    plt.title(\"Batch loss\")\n",
    "    plt.show()\n",
    "\n",
    "    plt.plot(range(len(epoch_losses)), epoch_losses)\n",
    "    plt.xlabel(\"Epoch\")\n",
    "    plt.ylabel(\"Loss\")\n",
    "    plt.title(\"Epoch loss\")\n",
    "    plt.show()\n",
    "\n",
    "    torch.save(model, prefix_models+f\"model_E{epoch}\")\n",
    "\n",
    "    with open(prefix_models+\"losses.txt\", \"a\") as f:\n",
    "        f.write(f\"{epoch_losses[-1]}\\n\")\n",
    "    \n",
    "    \n",
    "    with torch.no_grad():\n",
    "        for i, prompt in enumerate(prompts):\n",
    "            print(f\"Prompt {i}: {prompt}\")\n",
    "            output=generate(prompt)\n",
    "            print(f\"Model output: {output}\")\n",
    "            print()\n",
    "\n"
   ]
  },
  {
   "cell_type": "code",
   "execution_count": null,
   "metadata": {
    "id": "DUracnfcZSLX",
    "tags": []
   },
   "outputs": [],
   "source": [
    "model = torch.load(prefix_models+\"model_E9\")\n",
    "\n",
    "with torch.no_grad():\n",
    "    for i, prompt in enumerate(prompts):\n",
    "        print(f\"Prompt {i}: {prompt}\")\n",
    "        output=generate(prompt)\n",
    "        print(f\"Model output: {output}\")\n",
    "        print()\n"
   ]
  },
  {
   "cell_type": "code",
   "execution_count": null,
   "metadata": {
    "id": "r31WSN9YiTuZ"
   },
   "outputs": [],
   "source": [
    "import builtins\n",
    "while True:\n",
    "    prompt = builtins.input(\">>> \")\n",
    "    output=generate(prompt)\n",
    "    print(f\"Model output: {output}\")\n",
    "    print()"
   ]
  },
  {
   "cell_type": "code",
   "execution_count": null,
   "metadata": {},
   "outputs": [],
   "source": []
  }
 ],
 "metadata": {
  "accelerator": "GPU",
  "colab": {
   "machine_shape": "hm",
   "provenance": []
  },
  "gpuClass": "premium",
  "kernelspec": {
   "display_name": "Python 3",
   "language": "python",
   "name": "python3"
  },
  "language_info": {
   "codemirror_mode": {
    "name": "ipython",
    "version": 3
   },
   "file_extension": ".py",
   "mimetype": "text/x-python",
   "name": "python",
   "nbconvert_exporter": "python",
   "pygments_lexer": "ipython3",
   "version": "3.8.10"
  }
 },
 "nbformat": 4,
 "nbformat_minor": 4
}
