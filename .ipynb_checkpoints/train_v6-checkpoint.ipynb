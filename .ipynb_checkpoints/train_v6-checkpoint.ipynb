{
 "cells": [
  {
   "cell_type": "code",
   "execution_count": 1,
   "metadata": {
    "id": "BHZnXywjxGeq"
   },
   "outputs": [],
   "source": [
    "#https://pytorch.org/tutorials/beginner/transformer_tutorial.html"
   ]
  },
  {
   "cell_type": "code",
   "execution_count": 2,
   "metadata": {
    "id": "kY_j8RUDP5y4"
   },
   "outputs": [],
   "source": [
    "from torch import nn, Tensor\n",
    "import torch.nn.functional as F\n",
    "import torch\n",
    "import math\n",
    "from torch.autograd.variable import Variable\n",
    "import typing\n",
    "import random\n",
    "import tqdm\n",
    "import matplotlib.pyplot as plt"
   ]
  },
  {
   "cell_type": "code",
   "execution_count": 3,
   "metadata": {
    "id": "y4lRdOSZNpe2"
   },
   "outputs": [],
   "source": [
    "%matplotlib inline"
   ]
  },
  {
   "cell_type": "code",
   "execution_count": 4,
   "metadata": {
    "colab": {
     "base_uri": "https://localhost:8080/"
    },
    "id": "ph2WO5JpKukk",
    "outputId": "ab00d895-307a-4ade-e705-1c6dd8ae6926"
   },
   "outputs": [],
   "source": [
    "import os\n",
    "\n",
    "modelname=\"4_30_23_m1\"\n",
    "\n",
    "prefix_models=\"models/\"+modelname+\"/\"\n",
    "\n",
    "if not os.path.exists(prefix_models):\n",
    "    os.makedirs(prefix_models)"
   ]
  },
  {
   "cell_type": "code",
   "execution_count": 5,
   "metadata": {
    "id": "Oe3wtt5oADl6"
   },
   "outputs": [],
   "source": [
    "device = torch.device('cuda' if torch.cuda.is_available() else 'cpu')"
   ]
  },
  {
   "cell_type": "code",
   "execution_count": 6,
   "metadata": {
    "id": "xGOoJdNdRSaO"
   },
   "outputs": [],
   "source": [
    "class PositionalEncoding(nn.Module):\n",
    "    def __init__(self, d_model: int, dropout: float = 0.1, max_len: int = 5000):\n",
    "        super().__init__()\n",
    "        self.dropout = nn.Dropout(p=dropout)\n",
    "\n",
    "        position = torch.arange(max_len).unsqueeze(1)\n",
    "        div_term = torch.exp(torch.arange(0, d_model, 2) * (-math.log(10000.0) / d_model))\n",
    "        pe = torch.zeros(max_len, 1, d_model)\n",
    "        pe[:, 0, 0::2] = torch.sin(position * div_term)\n",
    "        pe[:, 0, 1::2] = torch.cos(position * div_term)\n",
    "        self.register_buffer('pe', pe)\n",
    "\n",
    "    def forward(self, x: Tensor) -> Tensor:\n",
    "        \"\"\"\n",
    "        Arguments:\n",
    "            x: Tensor, shape ``[seq_len, batch_size, embedding_dim]``\n",
    "        \"\"\"\n",
    "        #mine is [batch, seq, embed]\n",
    "        x = x.permute((1,0,2))\n",
    "        x = x + self.pe[:x.size(0)]\n",
    "        dropout = self.dropout(x)\n",
    "        return dropout.permute((1,0,2))"
   ]
  },
  {
   "cell_type": "code",
   "execution_count": 7,
   "metadata": {
    "id": "XakHZ4HfFdYM"
   },
   "outputs": [],
   "source": [
    "class ScaledDotProductAttention(nn.Module):\n",
    "    def forward(self, query, key, value, mask = None):\n",
    "        key_tp = key.transpose(-2, -1)\n",
    "\n",
    "        scores = query.matmul(key_tp) / math.sqrt(query.size()[-1])\n",
    "\n",
    "        if mask is not None:\n",
    "            scores = scores.masked_fill(mask == 0, float(\"-inf\"))\n",
    "            \n",
    "        attention = F.softmax(scores, dim = -1)\n",
    "\n",
    "        return attention.matmul(value)"
   ]
  },
  {
   "cell_type": "code",
   "execution_count": 8,
   "metadata": {
    "id": "G-sb6gd7L5bR"
   },
   "outputs": [],
   "source": [
    "class MultiHeadAttention(nn.Module):\n",
    "    def __init__(self,\n",
    "                 in_features,\n",
    "                 head_num,\n",
    "                 bias=True,\n",
    "                 activation=F.relu):\n",
    "        super(MultiHeadAttention, self).__init__()\n",
    "        if in_features % head_num != 0:\n",
    "            raise ValueError('`in_features`({}) should be divisible by \\\n",
    "                `head_num`({})'.format(in_features, head_num))\n",
    "        self.in_features = in_features\n",
    "        self.head_num = head_num\n",
    "        self.activation = activation\n",
    "        self.bias = bias\n",
    "        self.linear_q = nn.Linear(in_features, in_features, bias)\n",
    "        self.linear_k = nn.Linear(in_features, in_features, bias)\n",
    "        self.linear_v = nn.Linear(in_features, in_features, bias)\n",
    "        self.linear_o = nn.Linear(in_features, in_features, bias)\n",
    "\n",
    "    def forward(self, q, k, v, mask=None):\n",
    "        q, k, v = self.linear_q(q), self.linear_k(k), self.linear_v(v)\n",
    "        if self.activation is not None:\n",
    "            q = self.activation(q)\n",
    "            k = self.activation(k)\n",
    "            v = self.activation(v)\n",
    "\n",
    "        q = self._reshape_to_batches(q)\n",
    "        k = self._reshape_to_batches(k)\n",
    "        v = self._reshape_to_batches(v)\n",
    "        \n",
    "        if mask is not None:\n",
    "            mask = mask.repeat(self.head_num, 1, 1)   \n",
    "        \n",
    "        y = ScaledDotProductAttention()(q, k, v, mask)        \n",
    "        \n",
    "        y = self._reshape_from_batches(y)      \n",
    "\n",
    "        y = self.linear_o(y)\n",
    "        if self.activation is not None:\n",
    "            y = self.activation(y)\n",
    "        return y\n",
    "\n",
    "    @staticmethod\n",
    "    def gen_causal_mask(x):\n",
    "        batch_size, seq_len, _ = x.size()\n",
    "        return torch.tril(torch.ones(seq_len, seq_len)).view(1, seq_len, seq_len).repeat(batch_size, 1, 1)\n",
    "\n",
    "    def _reshape_to_batches(self, x):\n",
    "        batch_size, seq_len, in_feature = x.size()\n",
    "        sub_dim = in_feature // self.head_num\n",
    "        return x.reshape(batch_size, seq_len, self.head_num, sub_dim)\\\n",
    "                .permute(0, 2, 1, 3)\\\n",
    "                .reshape(batch_size * self.head_num, seq_len, sub_dim)\n",
    "\n",
    "    def _reshape_from_batches(self, x):\n",
    "        batch_size, seq_len, in_feature = x.size()\n",
    "        batch_size //= self.head_num\n",
    "        out_dim = in_feature * self.head_num\n",
    "        return x.reshape(batch_size, self.head_num, seq_len, in_feature)\\\n",
    "                .permute(0, 2, 1, 3)\\\n",
    "                .reshape(batch_size, seq_len, out_dim)"
   ]
  },
  {
   "cell_type": "code",
   "execution_count": 9,
   "metadata": {
    "id": "NDpTASiaTxTX"
   },
   "outputs": [],
   "source": [
    "class Transformer(nn.Module):\n",
    "    def __init__(self, \n",
    "                 embedding_dim: int,\n",
    "                 n_self_heads: int,\n",
    "                 n_features: int,\n",
    "                 n_layers: int,\n",
    "                 n_classes: int):\n",
    "        super().__init__()\n",
    "\n",
    "        #Embedding layer\n",
    "        self.embedding = nn.Embedding(n_features, embedding_dim)\n",
    "        #Positional encoding\n",
    "        self.pos_encode = PositionalEncoding(embedding_dim)\n",
    "\n",
    "        self.decoder_layers = []\n",
    "\n",
    "        for _ in range(n_layers):\n",
    "            layer = []\n",
    "            #Add multihead, which will be cross or self attention\n",
    "            layer.append(MultiHeadAttention(embedding_dim, n_self_heads)) #self attention first, masked\n",
    "            #Now add layer norm\n",
    "            layer.append(nn.LayerNorm(embedding_dim))\n",
    "            #Add a feed forward\n",
    "            layer.append(nn.Linear(embedding_dim, embedding_dim))\n",
    "            #Now add layer norm\n",
    "            layer.append(nn.LayerNorm(embedding_dim))\n",
    "\n",
    "            self.decoder_layers.append(nn.ModuleList(layer))\n",
    "        self.decoder_layers=nn.ModuleList(self.decoder_layers)\n",
    "\n",
    "        self.to_out = nn.Linear(embedding_dim, n_classes)\n",
    "            \n",
    "    def forward(self, x: torch.Tensor, calculate_loss: bool = False):\n",
    "        \"\"\"\n",
    "        Expect tensor of [batch_size, n_features]\n",
    "        \"\"\"\n",
    "        if calculate_loss:\n",
    "            #If give model that accepts ?x?x4 abcd, expect bcd0\n",
    "            \n",
    "            target_logits=torch.cat([x[:,1:], torch.zeros((x.shape[0],1)).to(device)], dim=-1) ## if x is abcd, then target_logits is bcd0\n",
    "\n",
    "        x=x.long().to(device)\n",
    "        embed = self.embedding(x)\n",
    "        pos_encode = self.pos_encode(embed)\n",
    "\n",
    "        res = embed+pos_encode\n",
    "        \n",
    "        for decoder_layer in self.decoder_layers:\n",
    "            d_self_attention = decoder_layer[0]\n",
    "            d_layer_norm_1 = decoder_layer[1]\n",
    "            d_ff = decoder_layer[2]\n",
    "            d_layer_norm_2 = decoder_layer[3]\n",
    "            \n",
    "            ## Run the decoder\n",
    "            #do masked self attention\n",
    "            mask = MultiHeadAttention.gen_causal_mask(res).to(device)\n",
    "            res = res + d_self_attention(res,res,res, mask = mask)\n",
    "            self_res = res\n",
    "            #layer norm\n",
    "            res = d_layer_norm_1(res)\n",
    "\n",
    "            #do ff\n",
    "            res = self_res + d_ff(res)\n",
    "            #layer norm\n",
    "            res = d_layer_norm_2(res)\n",
    "\n",
    "        out = self.to_out(res)\n",
    "        if calculate_loss:\n",
    "            loss = nn.functional.cross_entropy(out.permute(0, 2, 1), target_logits.long())\n",
    "            return out,loss\n",
    "        return out"
   ]
  },
  {
   "cell_type": "code",
   "execution_count": 10,
   "metadata": {
    "id": "HqGGEpvCLbP8"
   },
   "outputs": [],
   "source": [
    "def tokenize_multi(text_seq: str, features: int, encoding = \"utf8\") -> torch.Tensor:\n",
    "    # tokenize the input text\n",
    "    sentences = []\n",
    "    for sentence in filter(lambda x: x!=\"\", text_seq.split(\"\\n\")):\n",
    "        base = list(bytes(sentence, \"utf8\"))\n",
    "        if len(base) < features:\n",
    "            base.extend([0] * (features - len(base)))\n",
    "        tensor = torch.Tensor(base)\n",
    "        tensor = tensor.unsqueeze(0)\n",
    "        sentences.append(tensor)\n",
    "\n",
    "    return torch.cat(sentences, dim = 0)\n",
    "\n",
    "def tokenize_single(sentence: str, features: int, encoding = \"utf8\") -> torch.Tensor:\n",
    "    base = list(bytes(sentence, \"utf8\"))\n",
    "    if len(base) < features:\n",
    "        base.extend([0] * (features - len(base)))\n",
    "    tensor = torch.Tensor(base)\n",
    "    return tensor"
   ]
  },
  {
   "cell_type": "code",
   "execution_count": 11,
   "metadata": {
    "id": "pB-Xcf4TkKNQ"
   },
   "outputs": [],
   "source": [
    "def generate(seed: str, cutoff: int = 1024) -> str:\n",
    "    output = torch.tensor([list(bytes(seed,\"utf8\"))]).to(device)\n",
    "    \n",
    "    res=output\n",
    "    last = -1\n",
    "    i=0\n",
    "    while last != 0 and i<cutoff:\n",
    "        res = model(output)\n",
    "        argmax=res.argmax(-1)\n",
    "        \n",
    "        out = list(output[0])\n",
    "        out.append(list(argmax.to(device)[0])[-1])\n",
    "        last = list(argmax.to(device)[0])[-1]\n",
    "        output = torch.tensor([out])\n",
    "        i+=1\n",
    "    \n",
    "    if last == 0:\n",
    "        return convert_to_str(output)\n",
    "    return convert_to_str(output)+\"<CUTOFF>\""
   ]
  },
  {
   "cell_type": "code",
   "execution_count": 12,
   "metadata": {
    "id": "R81mAag8mHEG"
   },
   "outputs": [],
   "source": [
    "class TextDataset(torch.utils.data.Dataset):\n",
    "    def __init__(self, data: typing.List[str], features):\n",
    "        self.raw_data = data\n",
    "        self.features = features\n",
    "        \n",
    "    def __len__(self):\n",
    "        return len(self.raw_data)\n",
    "\n",
    "    def __getitem__(self,index):\n",
    "        return tokenize_single(self.raw_data[index], self.features)"
   ]
  },
  {
   "cell_type": "code",
   "execution_count": 13,
   "metadata": {
    "id": "xQidsLjVaFUi"
   },
   "outputs": [],
   "source": [
    "def convert_to_str(x: torch.Tensor) -> str:\n",
    "    #Expects [1, 256] tensor\n",
    "    bts = []\n",
    "    i=0\n",
    "    while len(bts)<x.shape[1] and x[0][i] != 0:\n",
    "        bts.append(int(x[0][i]))\n",
    "        i+=1\n",
    "    return bytes(bts).decode()"
   ]
  },
  {
   "cell_type": "code",
   "execution_count": 14,
   "metadata": {
    "id": "97rbDfS4gO8C"
   },
   "outputs": [],
   "source": [
    "n_features = 256 # No. of tokens\n",
    "n_pad = 512 # Max line length\n",
    "embedding_dim = 512\n",
    "batch_size = 48\n",
    "head_factor = 64\n",
    "assert embedding_dim%head_factor == 0\n",
    "head_size = embedding_dim//head_factor\n",
    "n_layers = 14"
   ]
  },
  {
   "cell_type": "code",
   "execution_count": 15,
   "metadata": {
    "colab": {
     "base_uri": "https://localhost:8080/"
    },
    "id": "IvvenMeUKfaj",
    "outputId": "fb38b6f5-0eaf-4d89-83ad-bee41604b8ef"
   },
   "outputs": [
    {
     "name": "stdout",
     "output_type": "stream",
     "text": [
      "92590\n"
     ]
    }
   ],
   "source": [
    "path_to_data = \"data/reddit_scrape_v6.txt\"\n",
    "data_raw = open(path_to_data, encoding=\"utf-8\").read()\n",
    "\n",
    "data_split = list(filter(lambda x: x!=\"\", data_raw.split(\"\\0\")))\n",
    "random.shuffle(data_split)\n",
    "\n",
    "train_data = data_split[100:]\n",
    "print(len(train_data))\n",
    "val_data = data_split[:100]\n",
    "\n",
    "train_dataloader = TextDataset(train_data, n_pad)\n",
    "test_dataloader = TextDataset(train_data, n_pad)\n",
    "\n",
    "dataloader = torch.utils.data.DataLoader(train_dataloader, batch_size=batch_size)\n",
    "testloader = torch.utils.data.DataLoader(test_dataloader , batch_size=1)\n",
    "testloader_iter = iter(testloader)"
   ]
  },
  {
   "cell_type": "code",
   "execution_count": 16,
   "metadata": {
    "id": "GvibftHanb0A"
   },
   "outputs": [],
   "source": [
    "model = Transformer(embedding_dim, head_size, n_features, n_layers, 256)\n",
    "model=model.to(device)"
   ]
  },
  {
   "cell_type": "code",
   "execution_count": 17,
   "metadata": {
    "colab": {
     "base_uri": "https://localhost:8080/"
    },
    "id": "PXqmUSK0M3hD",
    "outputId": "69ad8160-d138-4e98-99b6-bd8cb83753c1"
   },
   "outputs": [
    {
     "name": "stdout",
     "output_type": "stream",
     "text": [
      "torch.Size([1, 512])\n",
      "torch.Size([1, 512, 256])\n",
      "tensor([[159,  66,  49, 121,  46,   8, 121,  45,  97,   0, 206,  45,   0,  86,\n",
      "         151,  47,   0,  75, 169, 121,  47, 212, 152, 206,   0, 169,  91,   0,\n",
      "         218, 169,   0,  30,  24, 152, 225,  91,   0, 175, 169, 251,   0, 237,\n",
      "         139,   0,  97,  48,  86, 212,   3,  18, 248,  47, 206, 225,  47, 134,\n",
      "         212,  19, 177,   8,  86,  97,  86,  43,  86, 212, 127,  73,  43,  48,\n",
      "         225,  18, 169,  13,  97,  18, 161, 169, 218, 250, 212, 134, 207, 169,\n",
      "         225,  18, 166, 225, 225, 205, 248,  47, 206, 139, 237, 169, 196,   0,\n",
      "         134,   0, 245,  45, 248, 152,   8, 144, 174, 134, 169,  28,  18,  30,\n",
      "         195,  86, 250, 127, 146, 152,  97, 225, 117,  47, 156, 121, 229, 212,\n",
      "         254, 150, 254, 150, 150, 150, 150,  86, 254, 150,  86, 150, 150, 150,\n",
      "         150, 254, 150,  19,  19, 254, 254,  19, 150,  19, 150, 192, 150, 150,\n",
      "         254,  86,  86,  86, 150,  86,  86,  86,  86,  86,  86,  86,  86,  19,\n",
      "         254, 254,  19, 254, 192, 150,  19, 254,  19, 254, 254, 254, 254, 254,\n",
      "         254,  19,  86,  19,  86, 254,  86,  86, 254,  86,  86,  19,  86,  86,\n",
      "         192, 192, 192, 192,  19,  86,  19,  19, 254, 254,  86,  86,  19,  19,\n",
      "          19,  19,  19,  19,  19,  19,  86,  19,  86,  19,  19,  19,  86,  19,\n",
      "          19, 254, 150,  86, 254,  19, 254, 254, 254,  86, 192,  19,  19,  19,\n",
      "          19, 254,  19,  19, 150,  19,  19,  86,  86,  86,  86, 150, 150,  86,\n",
      "         150,  86,  86,  86,  86,  19,  86,  86,  86, 192,  86,  86,  86,  86,\n",
      "          86,  86, 192,  86,  86,  86, 150,  86, 150, 150, 150,  86, 150, 150,\n",
      "         150,  19, 150, 150, 150, 150, 150, 150,  86,  86,  86,  19,  86,  86,\n",
      "          86,  86,  86,  86, 150,  86, 254, 150, 150, 150,  86,  86, 150, 150,\n",
      "          86,  86, 150, 150, 150, 150,  86,  86, 150, 150, 150, 150,  86,  86,\n",
      "          86,  86, 150, 150, 150,  86,  86, 150, 150,  86, 150,  86,  86,  86,\n",
      "          86,  86,  86, 150,  86, 150,  86, 150, 150, 150, 150, 150, 150, 150,\n",
      "         150,  86,  86, 150, 150, 150,  86, 150,  86,  86,  86,  86,  86,  86,\n",
      "          86,  86, 150, 150, 150, 150,  86, 150,  86, 150, 150, 150, 150, 150,\n",
      "         150, 150, 150, 150, 150, 150,  86,  86,  86,  86, 150, 150, 150, 150,\n",
      "         150, 150, 150, 192, 150, 150, 150, 150, 150, 150, 150,  86, 150,  86,\n",
      "         150, 150, 150, 150, 150, 150, 150, 150, 150, 150, 150, 150, 150, 150,\n",
      "          19, 150, 192, 150, 150,  86, 150,  19, 150, 150, 150, 150,  19, 150,\n",
      "          19,  86, 150, 150,  19, 150, 150, 150, 150, 150, 150, 150,  86, 150,\n",
      "         150,  86, 150,  86, 150, 150, 150, 150, 150, 150, 150, 150, 150, 150,\n",
      "         150,  86, 150, 150, 150, 150, 150, 150, 150, 150,  86, 186, 150, 150,\n",
      "         192,  86,  86,  86,  86, 150,  86, 254, 254, 150,  86, 254,  86,  86,\n",
      "          86,  86, 254,  19, 254,  86,  86,  86, 254,  19,  19, 150,  86,  86,\n",
      "          86,  86,  86,  86, 150, 150,  86, 150]], device='cuda:0')\n"
     ]
    }
   ],
   "source": [
    "input=next(testloader_iter)\n",
    "input=input.to(device)\n",
    "res = model(input)\n",
    "print(input.shape)\n",
    "print(res.shape)\n",
    "print(res.argmax(-1))"
   ]
  },
  {
   "cell_type": "code",
   "execution_count": 18,
   "metadata": {
    "id": "tZji9Va7-unn"
   },
   "outputs": [],
   "source": [
    "lr = 1e-5\n",
    "optimizer = torch.optim.Adam(model.parameters(), lr=lr)"
   ]
  },
  {
   "cell_type": "code",
   "execution_count": 19,
   "metadata": {
    "id": "hUN0DJQo-vmf"
   },
   "outputs": [],
   "source": [
    "n_epochs = 40"
   ]
  },
  {
   "cell_type": "code",
   "execution_count": 20,
   "metadata": {
    "colab": {
     "base_uri": "https://localhost:8080/"
    },
    "id": "GczR7J4u6L5Q",
    "outputId": "15259e58-4468-44ff-dcf3-6c8dfb86d6bc"
   },
   "outputs": [
    {
     "name": "stdout",
     "output_type": "stream",
     "text": [
      "Sun Apr 30 09:42:27 2023       \n",
      "+-----------------------------------------------------------------------------+\n",
      "| NVIDIA-SMI 515.65.01    Driver Version: 515.65.01    CUDA Version: 11.7     |\n",
      "|-------------------------------+----------------------+----------------------+\n",
      "| GPU  Name        Persistence-M| Bus-Id        Disp.A | Volatile Uncorr. ECC |\n",
      "| Fan  Temp  Perf  Pwr:Usage/Cap|         Memory-Usage | GPU-Util  Compute M. |\n",
      "|                               |                      |               MIG M. |\n",
      "|===============================+======================+======================|\n",
      "|   0  NVIDIA A10          On   | 00000000:06:00.0 Off |                    0 |\n",
      "|  0%   58C    P0    64W / 150W |   1397MiB / 23028MiB |      6%      Default |\n",
      "|                               |                      |                  N/A |\n",
      "+-------------------------------+----------------------+----------------------+\n",
      "                                                                               \n",
      "+-----------------------------------------------------------------------------+\n",
      "| Processes:                                                                  |\n",
      "|  GPU   GI   CI        PID   Type   Process name                  GPU Memory |\n",
      "|        ID   ID                                                   Usage      |\n",
      "|=============================================================================|\n",
      "|    0   N/A  N/A     66681      C   /usr/bin/python3                 1395MiB |\n",
      "+-----------------------------------------------------------------------------+\n"
     ]
    }
   ],
   "source": [
    "!nvidia-smi"
   ]
  },
  {
   "cell_type": "code",
   "execution_count": 21,
   "metadata": {},
   "outputs": [
    {
     "name": "stdout",
     "output_type": "stream",
     "text": [
      "cuda\n"
     ]
    }
   ],
   "source": [
    "print(device)"
   ]
  },
  {
   "cell_type": "code",
   "execution_count": 22,
   "metadata": {
    "id": "yYr65bmbITE1"
   },
   "outputs": [],
   "source": [
    "prompts = [\n",
    "    \"Why does Earth orbit the Sun?\",\n",
    "    \"Hello world, \",\n",
    "    \"How to use ChatGPT?\",\n",
    "    \"My code does not work. What should I do?\",\n",
    "    \"Why is this code not working: `1+\\\"A\\\"`?\",\n",
    "    \"Why is Java better than Python?\",\n",
    "    \"Why is Python better than Java?\",\n",
    "    \"What is the purpose of the main() function in C?\",\n",
    "    \"What is coding?\",\n",
    "]"
   ]
  },
  {
   "cell_type": "code",
   "execution_count": null,
   "metadata": {
    "id": "o85FrKyF-wg-"
   },
   "outputs": [
    {
     "name": "stdout",
     "output_type": "stream",
     "text": [
      "Epoch 1\n"
     ]
    },
    {
     "name": "stderr",
     "output_type": "stream",
     "text": [
      "100%|██████████| 1929/1929 [27:32<00:00,  1.17it/s]\n"
     ]
    },
    {
     "data": {
      "image/png": "[encoded data removed]",
      "text/plain": [
       "<Figure size 432x288 with 1 Axes>"
      ]
     },
     "metadata": {
      "needs_background": "light"
     },
     "output_type": "display_data"
    },
    {
     "data": {
      "image/png": "[encoded data removed]",
      "text/plain": [
       "<Figure size 432x288 with 1 Axes>"
      ]
     },
     "metadata": {
      "needs_background": "light"
     },
     "output_type": "display_data"
    },
    {
     "name": "stdout",
     "output_type": "stream",
     "text": [
      "Prompt 0: Why does Earth orbit the Sun?\n",
      "Model output: Why does Earth orbit the Sun? the t the the the the the the the the the the the the the the the an t t the the the the the the t the the the the the the the the the the the t the the the the the the the the the the are the the the t the the the t t t the the the t athe t the the the the the the the an the the the the the the the the the t the the t the the the the the t t t the t the the the t t the the the the athe the the the the the t the athe the the the t the are t the the t t the the t the the the the the t the the the the the the the the t the the the the the athe the the the the the the the the the the the are the the the the the the the the the athe the the the the the the the ane the the are the the the the athe the athe the the the the the the the the athe are athe the the the an the athe the an are the athe are the are are are are are athe the athe athe athe athe the the the the the t the the athe the t the the the the the the the the the the the the the the athe the the the the t the the the the the t the t t t t t t t t t t<CUTOFF>\n",
      "\n",
      "Prompt 1: Hello world, \n",
      "Model output: Hello world, the the an the the the the the the t are the the are the the the the the athe the the the athe the the the the the the the t t the are the the the an the athe t the the the the the the the the the are the the the the the an the t the the the the at the the the the the are the the the t the the the the the the the are the are the the the the t the are an t t the the t the the the the the the t the the the the the the the the the the t the the the the the t the the the the t the t t the the the the the t the the the the t t the the athe athe the the are are the the the the the the t the the athe are the are are the the the the the ane the the the are the athe the the ane the oure athe the the the athe the the the the the the the the the athe athe athe are athe athe athe athe athe the athe the an the athe an are are the t are are athe athe athe athe the athe athe athe the the the the the the the the athe t the the the the the the the athe the the the the the the are the the the the t t the the the the t the t t <CUTOFF>\n",
      "\n",
      "Prompt 2: How to use ChatGPT?\n",
      "Model output: How to use ChatGPT? t the the the t the the the t the the the the the t the the the the the the the the the are the the t the the the the the are the the the the the the t t the the the the the the the the t the the the are the the the the the the the the the the the the the the the the t the the the the the the the the the the the the t the the the the the the the the t the the the are the the t the the the the the the the t t the the the the the the the the the the the the the the the the the the the the the the the the the the the the the the the the the the the the the the the the the the the the are the the are are the the the the the the the the the the the the the the the the the the the the the the the the the the athe the the the the the the athe the athe athe the the the athe the the athe the the the the the are the the are are are are athe athe are the the athe the the the the the the the the the the the t the the the the the the the the the the the the the the are the the the the the the the the the the the t t t th<CUTOFF>\n",
      "\n",
      "Prompt 3: My code does not work. What should I do?\n",
      "Model output: My code does not work. What should I do? t the t t the the the the t the the the the t the the the the the the the t t t athe the the the t the the the the the the the the the the the the the the the t the t the the the the the the t the the the the the the the the the the the the the t the the t the the the the the the the t the the the the t the the the the the the t the t the the are the the the the the the the the t the the t the t the the t the the the the the the the the the the the the the the the the the the the the t the the the the the the the the the the the the the the the the the the the the the the are are the the the the the the the the the the the the the the the the the the the the athe the the the the the the the t the the the the athe the the are athe the the the the the the the athe athe the the are are the are are are the are athe athe the the the the athe the the the the the the the athe the the the the the the the the the the the the the the the the the the the the the the the the the the the t t t t t t t the t t t t t t t t<CUTOFF>\n",
      "\n",
      "Prompt 4: Why is this code not working: `1+\"A\"`?\n",
      "Model output: Why is this code not working: `1+\"A\"`?\n",
      "I t the the t the the the t the the the the the the the the the the the t the t the the the t the the the the the the the the the the the the t the the the the the the the the the the the the the the the the t the the the the the the the the the the the the t the the the the the the the the the the the the the the the the the the the t t the the the the t t the the the the the the the the the t the t the the the the the the t the the t the the the the the the the the the the the the the t the the the the the the the the the the the the the the the the the the the the the the the the the the the the the the the the the the the the the the the the the the the the the the the the the the the athe the the the the the the the athe the the athe the the the the the the the the the the the the the the the the the are the the the the the the athe the the the the the the the the the the the the the the the the the the the the the the the the the the the the the the the the the the the t the the t t t the t the t t t t<CUTOFF>\n",
      "\n",
      "Prompt 5: Why is Java better than Python?\n",
      "Model output: Why is Java better than Python? t t the the t the t the the an the the the the the t the the the t the the an t the the athe the the the an t are athe the the t the the the t athe the the the the the the the the the t the the the the t the the the the the the athe t the the t the the t t athe the t an the the the the the the the the the t t the t t t the the the the t t t t the t t an the t the t the t the the the t athe the the are t t t the athe the the t the the the t the the the t the the the the the the the the the the t the the ane t ane the the are the are the the the the the the the the the athe the ane are ane athe an the the athe athe the the the the the athe athe the the the the athe the the the the the athe athe the t the athe athe the athe athe athe athe athe athe the athe athe the athe the an the the are are are athe are are athe the athe the athe athe athe athe the t the the the the the the the the the the the the the the the athe the the an the the are the the the the t the the t the the t the the t t t the t t t t t t t t <CUTOFF>\n",
      "\n",
      "Prompt 6: Why is Python better than Java?\n",
      "Model output: Why is Python better than Java? t t the the t the the the athe the t t the an the the the the athe the the athe the t t the the the the the t t an are the the the the the the the the t the the the the the t the the an the the the t t t the athe the t the the the t the the t the the the the t the an ane the the the the t the the the t the the the an the the the the t t the the the are the athe t t the the t the the the the the the the t athe the at the are the the the the t the the t the are the the the t the the the the the the t the ane t the the athe athe the the the the the the the the the t the t are the are the ane are the the are the the athe the are the the the athe the the the the o athe the the the athe athe the the ane the athe the the athe athe athe athe athe athe the athe athe t the the the the the the the the are ane are are are are are the athe athe athe athe the t t the the the the the the the the t t the the there the the the the an the the the the the the the the the t the the the the the the the the t t t t t t t t t t t <CUTOFF>\n",
      "\n",
      "Prompt 7: What is the purpose of the main() function in C?\n",
      "Model output: What is the purpose of the main() function in C? t the the at an athe t an an an t the the the an an the the the the the an t the the the the t an athe the the an the athe t the an t t the the the the the the athe the the athe the an the t the the the the t the athe the the the the the the the an an the the the the the t t the the the t the athe the an t the the the t athe the t the the athe the the the t the t t t athe the the t are the the t athe the the t the t the t the the t t the the the the the at the t the t the the t the the the the t the at ane the the the the the the the the the the the the the the are are the the the the the the the the the an the the the an the the athe the the athe the athe the athe ane the the athe athe ano athe the the the the an athe athe athe the athe athe the athe are athe an the ane are athe are athe are are are athe the athe athe athe the t t the the the the the the the the the the the athe the the the the the the the the the ane the the the the the the the the the the the the t t t t t t t t t t t t t t t t t t t t t <CUTOFF>\n",
      "\n",
      "Prompt 8: What is coding?\n",
      "Model output: What is coding? an ang an ang the athe an athe an the an an the an the the athe the the the the the the an at athe the t the t the ane t the an an the the the the an an the the the the the the the t the an athe the an athe are the the t athe t athe t athe the ane the the t t the the the the the an an the the the the an t the the the the t the the t the t the the an t the the the the the athe t t the the t t the t athe the t the the the t at are the the an the the athe t t t the the t the ane t the the the the the the the the the the athe t t the an t the athe ane athe athe athe the the the the the t the the the are are the athe the the athe ane athe the the athe the athe ane the athe athe the the the athe athe the the the t athe athe athe the the athe athe athe ane athe are athe the athe athe an athe athe at the the an an athe ane ane are ane athe athe athe athe athe the athe the the the the the the the athe the the the the the the the the the an the the the the the the the the the the the the the the the the the t t t t t <CUTOFF>\n",
      "\n",
      "Epoch 2\n"
     ]
    },
    {
     "name": "stderr",
     "output_type": "stream",
     "text": [
      "100%|██████████| 1929/1929 [27:40<00:00,  1.16it/s]\n"
     ]
    },
    {
     "data": {
      "image/png": "[encoded data removed]",
      "text/plain": [
       "<Figure size 432x288 with 1 Axes>"
      ]
     },
     "metadata": {
      "needs_background": "light"
     },
     "output_type": "display_data"
    },
    {
     "data": {
      "image/png": "[encoded data removed]",
      "text/plain": [
       "<Figure size 432x288 with 1 Axes>"
      ]
     },
     "metadata": {
      "needs_background": "light"
     },
     "output_type": "display_data"
    },
    {
     "name": "stdout",
     "output_type": "stream",
     "text": [
      "Prompt 0: Why does Earth orbit the Sun?\n",
      "Model output: Why does Earth orbit the Sun?\n",
      "I st a the se t the t se the t the the the s are the an the an the the the se an an the the an the the the the the ane the the the the the an the an the the the an the the the the an the se the the the an the the the the the the the the the the the the s the the the s the the the the the the the an the the the the the the the the the the the the the s s s the the the the the the the the an s s the the the are the the the an the the the s the the the the the the the the the the the the the s s the the the the the the the the ane are the the the the the the the the the the the the the are are s the the the the the s the s s s s the the are s are s the s the the an the the s the are the the the the the the the the the the athe the an the an athe whe the an are the the the the are the the the s are s s are are the are are are the the the the the the the the the the the the the the the the the the the the the the the the the the the the the the the the the the the the the the the the the the the the t the t the t<CUTOFF>\n",
      "\n",
      "Prompt 1: Hello world, \n",
      "Model output: Hello world, the the se an the an se the se the se the were the the the the an an an an the the the the an an s and the an ane the the the the an the the the the the se the the se the the an se the the the the the an the the are t the the the the the the the the an the the the the s the an the the the s s ane the the the the the the the the the the the s the the the the s the the the the the the the the the the the the the s the the are an are the the the whe s the the the the the the the the the the the the the the the the the the the s the the an the ane the the are the the the the the the the the s the ine the an are are the the the s s the the the s s the are are the s the s the the the the the the the are the are athe the the the the the the an the the an the the the an the the an the an an an an an are the are an an are s an the are are are are the the the are the athe the the the the the the the the the the the the the the the the the the the the the the the the the the the the the the the the the the the the the t<CUTOFF>\n",
      "\n",
      "Prompt 2: How to use ChatGPT?\n",
      "Model output: How to use ChatGPT?\n",
      "I s an an the the t the the the s the an the the an the the the the an the the the an se an the the an the the the se the the are the the the the the the the the se an the the the the an the the the the an s the the the the the an the the are the the the the the the the the the the s s ane the the the the the the the the the the the the the the the the the an the s the the the the the the the the the s s athe the the s the the the the whe the the the the the the the the the the the the the the the s s the the the the the the are the ane the ane the the the the the the the the the the the the the are s s the the the s s the the s the s s are the the are the the the s the the the the the the the the athe the the the the we the the the the whe are athe an are the an the an the are the are the the are are s are are are are the the are athe the the the the the the the the the the the the the the the the the the the the the the the the the the the the the the the the the the the the the the the the the t the the t<CUTOFF>\n",
      "\n",
      "Prompt 3: My code does not work. What should I do?\n",
      "Model output: My code does not work. What should I do? I I I I I I wo the t t wo the the t the in in the the an the an an an the an the an the at the an ane the the the an the the the the an the the at the the the the an the athe the an the the the an the the the the the the the the the the the the the the the the are s the the the the the the the the the the the the the the the the the the the the the the the the the the the the s the s ane athe the the the the the the the the s the the the the the the s the the the the the the the the the the the the the the the are ane the ane the the the the the the s the the the the the in ine are the the the the s the the s the s are in the athe the the s the s the the the the the are the the are the athe the the the the the the the athe athe athe athe the the athe the an the are an an are an are are ar the are are are are are athe the the the the the the the the the the the the the the the the the the the the the the the the the the the the the the the the the the the the the the the the the t t t t s the t the the the th<CUTOFF>\n",
      "\n",
      "Prompt 4: Why is this code not working: `1+\"A\"`?\n",
      "Model output: Why is this code not working: `1+\"A\"`?\n",
      "\n",
      "\n",
      "\n",
      "\n",
      "\n",
      "\n",
      "\n",
      "\n",
      "\n",
      "\n",
      "\n",
      "\n",
      "\n",
      "\n",
      "\n",
      "\n",
      " ithe the   in                                                                                                                                                                                                                                                                                                                                                                                                                                                                                                                                                                                                                                                                                                                                                                                                                                                                                                                                                                                                                                 <CUTOFF>\n",
      "\n",
      "Prompt 5: Why is Java better than Python?\n",
      "Model output: Why is Java better than Python? I an an se the the an an the the an the whe the the the the se the an an the the an the the the se an the the the se the the the se the the the the the the whe the the the the the the the the the s the the the the the the the the s the the the the the s the the the s the are s the are are the the the the s the s an the an the the the the the the the the s the the the the the the the the the s s the the the s the an the an whe the the the the the the the the the the the the the the the the s s the the the the the s are the the the are the the the the the the the the the the the in in are the s the the the the the the s s s s are the the are are are the the an the the an the the are the an the the an the an the the the the the an an are whe the the the the the the the the an an the the are are the are the are are are are the the the the the athe the the the the the the the the the the the the the the the the the the the the the the the whe the the the the the the the the the the the the t the t the t the s the<CUTOFF>\n",
      "\n",
      "Prompt 6: Why is Python better than Java?\n",
      "Model output: Why is Python better than Java?\n",
      "I s the the the se t sous the an the the the the the at se the the the sere the the the an the the the the the se the the the the the the the the the the the se the the the an the the an the the the the the the the the the the the the the the s the the the the the s the se the the the are the the the the the the the the the the the the the s the the s se the the the the the the the the the s the the the the s the the the ane the the the the the the the the the the the the the the the the the s the the the se s the the the the the the the the the the the the the the the s the the are s the s the the the the s s s s the s se the are the the the the s the the the the the the the the the the the the athe the the the the the the whe the the are the the are are the the the the the the the the are we s are the are are are we the the the the the the the the the the the the the the the the the the the the the the the the the the the the the the the the the the the the the the the the the the the the t the the the the<CUTOFF>\n",
      "\n",
      "Prompt 7: What is the purpose of the main() function in C?\n",
      "Model output: What is the purpose of the main() function in C?\n",
      "I a sthe st the an se the at the se an the the the the the ane at the the at the the an the the the the the ane the an an the the the the the an the the the the an an an the the the the an the the the the the the the the the the the s the the are the the s the the the are the the the the the the the the the the the the an the the the s are the athe the the the the the the the the the the are the athe the whe the the the the the the the the the the the the the the the the s the the s the are the the the the the are the athe the the the the the the the s the are the are s s s the the are the the are s the s s the the the the the s we the we the are the are the are the are the the the the the the the whe the the an an the the the the are are an the the the are the are are are the are the the are are the the the athe the the athe the the the the the the the the the the the the the the the the the the the the the the the the the the the the the the the the the the the the the t the the t t the the the the the the<CUTOFF>\n",
      "\n",
      "Prompt 8: What is coding?\n",
      "Model output: What is coding? the the se se the se the the se the the ar an an at the at sere the an the the an the the se an an the an the the at the the an an the the the an the an an the an the the the the the the an the the the the an the the the the the the the the the the the the the the the s the an the the the s are an the athe an an an the the the the the s the the an the the the the the the the the the the the the the the the an the the s an an the an the s are the the the the the the the the the the the the the the the the the the s the the the an an an the ane the ane the the the the the the the the the the the ane the are are the the are s the are the s the are the are the the the the s the s the are the the the are the are the the the an the the the the the an an are the athe the an an are the athe the the an the are the an are an are are are are are the athe the athe the the the the the the the the the the an the the the the the the the the the the the the the the the the the the the the the the the the the the the the the<CUTOFF>\n",
      "\n",
      "Epoch 3\n"
     ]
    },
    {
     "name": "stderr",
     "output_type": "stream",
     "text": [
      "100%|██████████| 1929/1929 [27:36<00:00,  1.16it/s]\n"
     ]
    },
    {
     "data": {
      "image/png": "[encoded data removed]",
      "text/plain": [
       "<Figure size 432x288 with 1 Axes>"
      ]
     },
     "metadata": {
      "needs_background": "light"
     },
     "output_type": "display_data"
    },
    {
     "data": {
      "image/png": "[encoded data removed]",
      "text/plain": [
       "<Figure size 432x288 with 1 Axes>"
      ]
     },
     "metadata": {
      "needs_background": "light"
     },
     "output_type": "display_data"
    },
    {
     "name": "stdout",
     "output_type": "stream",
     "text": [
      "Prompt 0: Why does Earth orbit the Sun?\n",
      "Model output: Why does Earth orbit the Sun?\n",
      "I w the wat a see tee te teer tee teallll the the the st and tear tear the the st the the st tear the st and tear the the the the st an teare the the the steare the the the the st and tear tear the the the ste the the the the the st and the the the st steare the the st the ste the the the st the st the t steat t temer the the the the st the the the st the ste the t the t sthe t the te st ste te t the the t t t the mp the the st mpe t te the t the t ste t the t te te the t t the t t t the t st s t the s te we t in the t te te the the t the t t t the t we t the t t t t t s s sthe we t in w t the w t w the t s t the t t t the s t s the we t t t s t the t t w t t t the the t w w t t t t the t t t t t the t t w t t the w t the the we we t the t the w w t t t t t s t t t w t t t w  w  athe t  t r we w s t t   t the the we t the the the the t the the t t t t t t t t t t the t the t the t the t the t the t the the the t t the t t t  the s t the t the t t the t t t t t t t t t t t t t t t t t t t t t t t  t  t  t  t <CUTOFF>\n",
      "\n",
      "Prompt 1: Hello world, \n",
      "Model output: Hello world, have sel te st te fer the st a st fer tes the st a st fer tear the st and tee the st the st and tere the st steare the the st steare the the st and teare t teand the the st tear the te steant t the the st the steat t the the st the st teand teat the the the the st steat teat t tear te the te the the the st te ste tear t the the t the t at st te the t the t the t t ste t the st t te t t the t t me te t sthe t t mpp the t t the t t t the t the st the s s t t t the t the t t the t we t te t t t te t t te t the t t t t t s t the te t t we t t t te s sthe t the t we t t t t t t t t t t t t s t s t t we we t we t t the we t t t s t t t t t the s  s s t t t t t s t t s t we w  s w t  s  s   t  the  w w w t t t t   t t w t t t t t  t  t t       wathe wathe                              fffff  the                                               the  the                fff          the                                                                                                                                           <CUTOFF>\n",
      "\n",
      "Prompt 2: How to use ChatGPT?\n",
      "Model output: How to use ChatGPT?\n",
      "I wak to the the the ave the steat and tee the teas tean tear the the the the the the st and teat t ter te st tear tear the the st and tear te the the the the st and the the the the the st the st and and tear the the ste tear the the the ste the teand the the ste the the the st teand the the the the ste the st the mperent the the the the the the the s the the st the st at t me sthe t the t the t sthe s me the t the the s t sthe t mppe the the te t t the st the t t te te the the t t t te t the t the t s s t the the s s te at t t we we the the t t the the t t the we t the t t t s s t s the we we t t t we the t t t s s the we the the s s me t t t t t t t s s the s the w t t t the t t w t t w w t the t t t t the t t t the t t the s t w the the t the w s t w t t t t t t w we t t t t t t w w t w w mp t w w t t t t t the t t w the the the the t t the t the the t t t t t t t t the t t t the the the the t t t the the the the the t t t t t t t t w t w the t the the t w t t t t  t t  t t t t t t t t t the t t  t  t t t<CUTOFF>\n",
      "\n",
      "Prompt 3: My code does not work. What should I do?\n",
      "Model output: My code does not work. What should I do? I wh whe the see the see tee t the st to sear the the st and the the st and the te the t stear the tear the the st teare the the the st the the t steare t tear the the the the st tear the the the the the st teat t the st tear te the the the the t the the st te the st the t ste te the t the t the st te the t the st te the t the t the t the st the t the the t st the t we the t the t the the t the t t t the we t the the me t we t the t the the t t the t we t the t t te the t t t the the t we the t t t t the we t we we the the t the t t the the t the t t t t t t t s the t we we we the the w t we t t t the t the the t t t t t t t t t t the we t the s s t w t t t w t t w the the t t the t t t t t t t t w the t w the the w w w the w t t the w t t w t w w t the the w t t w w t the t t t r w t t we w t the  the the the the t t the t t the the t t t t t t the t the the the the t t the t the the the the the the t t t the t t  w w t the t t the t t t t t t t t t t t t t t t t t t t t t t t w w t w  t t t t t t t t t t t<CUTOFF>\n",
      "\n",
      "Prompt 4: Why is this code not working: `1+\"A\"`?\n",
      "Model output: Why is this code not working: `1+\"A\"`?\n",
      "\n",
      "\n",
      "\n",
      "\n",
      "I would th the a the at st a ste tear the st is the the st and the the st the the stpperent the the st and the the the the st the the stere teat the ste the tpppperting the the the an the the the the the st the the steat the the the st and the the the the ste the the st the the the ste the the ste the t the st the st the te st the the t st mppeat the t the t the the st the the st se the the the s the st the st the te the t the t the the the t the w t the we the the t the t the t s s the t the t te the be the t the the t the the the t t the t t the t t t s s the the the we we w we the the t t t we the t the the s s the t t t t s t the we the the t s t s t t the t t the w the t t the the t the t the t the t the the the the w w t t w w t t w t t w the t we t the the t t the the t r w t t s w the the t the the the t t the t t the the the t the the t t the the the the t the t the t the the the the the the t t the t the s t the the the t t the t t t t t t t w the the t the t t t t t t w t t t t t t t t t the t<CUTOFF>\n",
      "\n",
      "Prompt 5: Why is Java better than Python?\n",
      "Model output: Why is Java better than Python?\n",
      "I wan the a stame tear and the the the an the the st and tear tear the the an tere the the st and tear the the st and the an the the the the st and tearer the the the st and the the the the st and the the the the st teare the the steat the st and the te the the st te st ffer the the the st mpeat the the st and te the t the st the the the t ste the the s the st the t ste the me the t sthe s the st mppeat t t the t the the t we the the t t t the t sthe the s at s t the t t the the t t st t s the t the t s we te t t the t we the the s the the t t the t the the t t t t t t s t the we we we s t s s the the t t s the s t s the t s me t t t t t t t s t we the we t t t t t the t w w t w the t t w t t t t t t t t the t t the the the the the w t the w w t t t t t t w t t t t t t w w t t t the t t s in w s   t t we w t the the the the t t t t t the t t t t t t t t t t t s the t the the t t the the t the the the the the the t t t t t  t t w t s  the t t t t t the t s t t t t t t the t t t t  t t t t      t       t t t t<CUTOFF>\n",
      "\n",
      "Prompt 6: Why is Python better than Java?\n",
      "Model output: Why is Python better than Java? I wand ter the wee the st and tee ter tear stear tear the st and tear the the st and tear the st the st and tere the the the stean t the st teare teand the the t steare the the st teand ter the the the the st and teat t the the te sterere the the st te the t the st steat t the the t ste st tean t the t the t te the t the st t the st the st t the t the mp the t the t st the t te the t the st t the t the s t t sthe t t t ste we t the t t t the t t t the t t t the t t t t t the t t t t st t the t t t t s t s we t int in t the t t the t the t we t t we w t t t t t t t t s t t t t t we in w w s s t t m t t t s t t t s t t s s s s t t t t t t t s t t w w  we s     w the t   w t t w w w  the  t   t t t t t t   t  t t t  the the the                 w                     wat                                                                                                                     ffffffffffffffffffffffffffff                                                                                                      <CUTOFF>\n",
      "\n",
      "Prompt 7: What is the purpose of the main() function in C?\n",
      "Model output: What is the purpose of the main() function in C?\n",
      "I and a te the stat a stand tear the the st the the st and a the the s the the st and the the the st and tear the the and the the the st the an t the the st the steat the st the the st the the the the the st teat st the the t the st meat the the st the the ste fffferer the the the the the st and te the t the the st the the the st the mperent the the the the the the t the st the sthe t the t ste the the mpp the the in t the t the the t t the we t the the t the the t the t t t t the st s the the t ine we w athe t the t the t t the t t we the t t the t the w the w w the w the w the t w the s the t t the the w the t t t t t t the the t t t w t t the the t t w the w w the the t t t t we the t t t t the t w the the w the the t w the w t w t w the t the t the t t t t t t w the in w r s t t athe t w t we athe the t t the the t the t t t t t t the t t the the the the t t the t t the the the the the the the t the t t t t the the the t t t the t t t t the t t the the t the t t t t t t t t t t t t t t t t t t t t t t t <CUTOFF>\n",
      "\n",
      "Prompt 8: What is coding?\n",
      "Model output: What is coding?\n",
      "I t stan tan t the st to the st stare and tear tear tear the and teat the steat the and the the the st and tear the the st and a the the the the st and and the the the the st the the st theave the st and tear the the the the st the the the st and the the the st the the st mpeat the the st ffear the the st tear the the st and the the the st the t the the st the t st meat t the t st te the t the t t ste the s t mpperer the t t the the the t the t at t t t the t the t t the t t me the the t te t t the the t s t s s the me t te t the t t we athe t the t the t t we the t the t t t t t the s s s the we t we t w m the the t t the t t t s s the s w t s t the t the s we t t t the t t s t t s t w w t t t the the t t t t the t t t the t t t w the t w w the w the w the w w t t t t t w the t w t t t w t  w t the at s t  t s t t t t  t we we the the the t t the t the the t t t t t t t t t the t t t t the t the the t the the the the the the t w t t t  t t w w t the the t t t t t t  t t t t t t t t the t t t t t t t t      <CUTOFF>\n",
      "\n",
      "Epoch 4\n"
     ]
    },
    {
     "name": "stderr",
     "output_type": "stream",
     "text": [
      " 18%|█▊        | 343/1929 [04:52<22:37,  1.17it/s]"
     ]
    }
   ],
   "source": [
    "model.train()\n",
    "\n",
    "epoch_losses = []\n",
    "for epoch in range(n_epochs):\n",
    "    print(f\"Epoch {epoch+1}\")\n",
    "    \n",
    "    batch_losses = []\n",
    "    for data in tqdm.tqdm(dataloader):\n",
    "        optimizer.zero_grad()\n",
    "\n",
    "        data = data.to(device)\n",
    "\n",
    "        output, loss = model(data, True)\n",
    "        \n",
    "        loss.backward()\n",
    "        optimizer.step()\n",
    "\n",
    "        batch_losses.append(loss.item())\n",
    "\n",
    "        \n",
    "    epoch_losses.append(sum(batch_losses)/len(batch_losses))\n",
    "\n",
    "    plt.plot(range(len(batch_losses)),batch_losses)\n",
    "    plt.xlabel(\"Batch\")\n",
    "    plt.ylabel(\"Loss\")\n",
    "    plt.title(\"Batch loss\")\n",
    "    plt.show()\n",
    "\n",
    "    plt.plot(range(len(epoch_losses)), epoch_losses)\n",
    "    plt.xlabel(\"Epoch\")\n",
    "    plt.ylabel(\"Loss\")\n",
    "    plt.title(\"Epoch loss\")\n",
    "    plt.show()\n",
    "\n",
    "    torch.save(model, prefix_models+f\"model_E{epoch}\")\n",
    "\n",
    "    with open(prefix_models+\"losses.txt\", \"a\") as f:\n",
    "        f.write(f\"{epoch_losses[-1]}\\n\")\n",
    "    \n",
    "    \n",
    "    with torch.no_grad():\n",
    "        for i, prompt in enumerate(prompts):\n",
    "            print(f\"Prompt {i}: {prompt}\")\n",
    "            output=generate(prompt)\n",
    "            print(f\"Model output: {output}\")\n",
    "            print()\n",
    "\n"
   ]
  },
  {
   "cell_type": "code",
   "execution_count": null,
   "metadata": {
    "id": "DUracnfcZSLX",
    "tags": []
   },
   "outputs": [],
   "source": [
    "model = torch.load(prefix_models+\"model_E9\")\n",
    "\n",
    "with torch.no_grad():\n",
    "    for i, prompt in enumerate(prompts):\n",
    "        print(f\"Prompt {i}: {prompt}\")\n",
    "        output=generate(prompt)\n",
    "        print(f\"Model output: {output}\")\n",
    "        print()\n"
   ]
  },
  {
   "cell_type": "code",
   "execution_count": null,
   "metadata": {
    "id": "r31WSN9YiTuZ"
   },
   "outputs": [],
   "source": [
    "import builtins\n",
    "while True:\n",
    "    prompt = builtins.input(\">>> \")\n",
    "    output=generate(prompt)\n",
    "    print(f\"Model output: {output}\")\n",
    "    print()"
   ]
  },
  {
   "cell_type": "code",
   "execution_count": null,
   "metadata": {},
   "outputs": [],
   "source": []
  }
 ],
 "metadata": {
  "accelerator": "GPU",
  "colab": {
   "machine_shape": "hm",
   "provenance": []
  },
  "gpuClass": "premium",
  "kernelspec": {
   "display_name": "Python 3",
   "language": "python",
   "name": "python3"
  },
  "language_info": {
   "codemirror_mode": {
    "name": "ipython",
    "version": 3
   },
   "file_extension": ".py",
   "mimetype": "text/x-python",
   "name": "python",
   "nbconvert_exporter": "python",
   "pygments_lexer": "ipython3",
   "version": "3.8.10"
  }
 },
 "nbformat": 4,
 "nbformat_minor": 4
}
